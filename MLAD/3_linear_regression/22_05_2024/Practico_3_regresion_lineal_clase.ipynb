{
 "cells": [
  {
   "cell_type": "markdown",
   "metadata": {
    "id": "QZrCyIJX3Ll6"
   },
   "source": [
    "# Práctico 3 - Regresiones\n",
    "\n",
    "## Diabetes dataset\n",
    "\n",
    "Un dataset provisto por sklearn utilizado para el entrenamiento de distintos algoritmos de machine learning, contiene información acerca de 442 pacientes con diabetes, y una medida de la progresión de la enfermedad al cabo de un año desde el baseline."
   ]
  },
  {
   "cell_type": "code",
   "execution_count": 1,
   "metadata": {
    "id": "tCA5dcNc3Esu"
   },
   "outputs": [],
   "source": [
    "import matplotlib.pyplot as plt\n",
    "import numpy as np\n",
    "import pandas as pd\n",
    "import seaborn as sns"
   ]
  },
  {
   "cell_type": "code",
   "execution_count": 2,
   "metadata": {
    "id": "_SHz0Cfg3Esz",
    "tags": []
   },
   "outputs": [],
   "source": [
    "from sklearn.datasets import load_diabetes\n",
    "\n",
    "data_bulk = load_diabetes(return_X_y=False)\n",
    "df = pd.DataFrame(data_bulk.data, columns = data_bulk.feature_names)\n",
    "df['target'] = data_bulk.target"
   ]
  },
  {
   "cell_type": "code",
   "execution_count": 3,
   "metadata": {},
   "outputs": [
    {
     "data": {
      "text/plain": [
       "{'data': array([[ 0.03807591,  0.05068012,  0.06169621, ..., -0.00259226,\n",
       "          0.01990749, -0.01764613],\n",
       "        [-0.00188202, -0.04464164, -0.05147406, ..., -0.03949338,\n",
       "         -0.06833155, -0.09220405],\n",
       "        [ 0.08529891,  0.05068012,  0.04445121, ..., -0.00259226,\n",
       "          0.00286131, -0.02593034],\n",
       "        ...,\n",
       "        [ 0.04170844,  0.05068012, -0.01590626, ..., -0.01107952,\n",
       "         -0.04688253,  0.01549073],\n",
       "        [-0.04547248, -0.04464164,  0.03906215, ...,  0.02655962,\n",
       "          0.04452873, -0.02593034],\n",
       "        [-0.04547248, -0.04464164, -0.0730303 , ..., -0.03949338,\n",
       "         -0.00422151,  0.00306441]]),\n",
       " 'target': array([151.,  75., 141., 206., 135.,  97., 138.,  63., 110., 310., 101.,\n",
       "         69., 179., 185., 118., 171., 166., 144.,  97., 168.,  68.,  49.,\n",
       "         68., 245., 184., 202., 137.,  85., 131., 283., 129.,  59., 341.,\n",
       "         87.,  65., 102., 265., 276., 252.,  90., 100.,  55.,  61.,  92.,\n",
       "        259.,  53., 190., 142.,  75., 142., 155., 225.,  59., 104., 182.,\n",
       "        128.,  52.,  37., 170., 170.,  61., 144.,  52., 128.,  71., 163.,\n",
       "        150.,  97., 160., 178.,  48., 270., 202., 111.,  85.,  42., 170.,\n",
       "        200., 252., 113., 143.,  51.,  52., 210.,  65., 141.,  55., 134.,\n",
       "         42., 111.,  98., 164.,  48.,  96.,  90., 162., 150., 279.,  92.,\n",
       "         83., 128., 102., 302., 198.,  95.,  53., 134., 144., 232.,  81.,\n",
       "        104.,  59., 246., 297., 258., 229., 275., 281., 179., 200., 200.,\n",
       "        173., 180.,  84., 121., 161.,  99., 109., 115., 268., 274., 158.,\n",
       "        107.,  83., 103., 272.,  85., 280., 336., 281., 118., 317., 235.,\n",
       "         60., 174., 259., 178., 128.,  96., 126., 288.,  88., 292.,  71.,\n",
       "        197., 186.,  25.,  84.,  96., 195.,  53., 217., 172., 131., 214.,\n",
       "         59.,  70., 220., 268., 152.,  47.,  74., 295., 101., 151., 127.,\n",
       "        237., 225.,  81., 151., 107.,  64., 138., 185., 265., 101., 137.,\n",
       "        143., 141.,  79., 292., 178.,  91., 116.,  86., 122.,  72., 129.,\n",
       "        142.,  90., 158.,  39., 196., 222., 277.,  99., 196., 202., 155.,\n",
       "         77., 191.,  70.,  73.,  49.,  65., 263., 248., 296., 214., 185.,\n",
       "         78.,  93., 252., 150.,  77., 208.,  77., 108., 160.,  53., 220.,\n",
       "        154., 259.,  90., 246., 124.,  67.,  72., 257., 262., 275., 177.,\n",
       "         71.,  47., 187., 125.,  78.,  51., 258., 215., 303., 243.,  91.,\n",
       "        150., 310., 153., 346.,  63.,  89.,  50.,  39., 103., 308., 116.,\n",
       "        145.,  74.,  45., 115., 264.,  87., 202., 127., 182., 241.,  66.,\n",
       "         94., 283.,  64., 102., 200., 265.,  94., 230., 181., 156., 233.,\n",
       "         60., 219.,  80.,  68., 332., 248.,  84., 200.,  55.,  85.,  89.,\n",
       "         31., 129.,  83., 275.,  65., 198., 236., 253., 124.,  44., 172.,\n",
       "        114., 142., 109., 180., 144., 163., 147.,  97., 220., 190., 109.,\n",
       "        191., 122., 230., 242., 248., 249., 192., 131., 237.,  78., 135.,\n",
       "        244., 199., 270., 164.,  72.,  96., 306.,  91., 214.,  95., 216.,\n",
       "        263., 178., 113., 200., 139., 139.,  88., 148.,  88., 243.,  71.,\n",
       "         77., 109., 272.,  60.,  54., 221.,  90., 311., 281., 182., 321.,\n",
       "         58., 262., 206., 233., 242., 123., 167.,  63., 197.,  71., 168.,\n",
       "        140., 217., 121., 235., 245.,  40.,  52., 104., 132.,  88.,  69.,\n",
       "        219.,  72., 201., 110.,  51., 277.,  63., 118.,  69., 273., 258.,\n",
       "         43., 198., 242., 232., 175.,  93., 168., 275., 293., 281.,  72.,\n",
       "        140., 189., 181., 209., 136., 261., 113., 131., 174., 257.,  55.,\n",
       "         84.,  42., 146., 212., 233.,  91., 111., 152., 120.,  67., 310.,\n",
       "         94., 183.,  66., 173.,  72.,  49.,  64.,  48., 178., 104., 132.,\n",
       "        220.,  57.]),\n",
       " 'frame': None,\n",
       " 'DESCR': '.. _diabetes_dataset:\\n\\nDiabetes dataset\\n----------------\\n\\nTen baseline variables, age, sex, body mass index, average blood\\npressure, and six blood serum measurements were obtained for each of n =\\n442 diabetes patients, as well as the response of interest, a\\nquantitative measure of disease progression one year after baseline.\\n\\n**Data Set Characteristics:**\\n\\n  :Number of Instances: 442\\n\\n  :Number of Attributes: First 10 columns are numeric predictive values\\n\\n  :Target: Column 11 is a quantitative measure of disease progression one year after baseline\\n\\n  :Attribute Information:\\n      - age     age in years\\n      - sex\\n      - bmi     body mass index\\n      - bp      average blood pressure\\n      - s1      tc, total serum cholesterol\\n      - s2      ldl, low-density lipoproteins\\n      - s3      hdl, high-density lipoproteins\\n      - s4      tch, total cholesterol / HDL\\n      - s5      ltg, possibly log of serum triglycerides level\\n      - s6      glu, blood sugar level\\n\\nNote: Each of these 10 feature variables have been mean centered and scaled by the standard deviation times the square root of `n_samples` (i.e. the sum of squares of each column totals 1).\\n\\nSource URL:\\nhttps://www4.stat.ncsu.edu/~boos/var.select/diabetes.html\\n\\nFor more information see:\\nBradley Efron, Trevor Hastie, Iain Johnstone and Robert Tibshirani (2004) \"Least Angle Regression,\" Annals of Statistics (with discussion), 407-499.\\n(https://web.stanford.edu/~hastie/Papers/LARS/LeastAngle_2002.pdf)\\n',\n",
       " 'feature_names': ['age',\n",
       "  'sex',\n",
       "  'bmi',\n",
       "  'bp',\n",
       "  's1',\n",
       "  's2',\n",
       "  's3',\n",
       "  's4',\n",
       "  's5',\n",
       "  's6'],\n",
       " 'data_filename': 'diabetes_data_raw.csv.gz',\n",
       " 'target_filename': 'diabetes_target.csv.gz',\n",
       " 'data_module': 'sklearn.datasets.data'}"
      ]
     },
     "execution_count": 3,
     "metadata": {},
     "output_type": "execute_result"
    }
   ],
   "source": [
    "data_bulk"
   ]
  },
  {
   "cell_type": "code",
   "execution_count": 4,
   "metadata": {
    "colab": {
     "base_uri": "https://localhost:8080/"
    },
    "id": "9F9oLBfe5U49",
    "outputId": "103fa814-e90e-4a9f-bad4-b22f9f39250a"
   },
   "outputs": [
    {
     "data": {
      "text/html": [
       "<div>\n",
       "<style scoped>\n",
       "    .dataframe tbody tr th:only-of-type {\n",
       "        vertical-align: middle;\n",
       "    }\n",
       "\n",
       "    .dataframe tbody tr th {\n",
       "        vertical-align: top;\n",
       "    }\n",
       "\n",
       "    .dataframe thead th {\n",
       "        text-align: right;\n",
       "    }\n",
       "</style>\n",
       "<table border=\"1\" class=\"dataframe\">\n",
       "  <thead>\n",
       "    <tr style=\"text-align: right;\">\n",
       "      <th></th>\n",
       "      <th>age</th>\n",
       "      <th>sex</th>\n",
       "      <th>bmi</th>\n",
       "      <th>bp</th>\n",
       "      <th>s1</th>\n",
       "      <th>s2</th>\n",
       "      <th>s3</th>\n",
       "      <th>s4</th>\n",
       "      <th>s5</th>\n",
       "      <th>s6</th>\n",
       "      <th>target</th>\n",
       "    </tr>\n",
       "  </thead>\n",
       "  <tbody>\n",
       "    <tr>\n",
       "      <th>0</th>\n",
       "      <td>0.038076</td>\n",
       "      <td>0.050680</td>\n",
       "      <td>0.061696</td>\n",
       "      <td>0.021872</td>\n",
       "      <td>-0.044223</td>\n",
       "      <td>-0.034821</td>\n",
       "      <td>-0.043401</td>\n",
       "      <td>-0.002592</td>\n",
       "      <td>0.019907</td>\n",
       "      <td>-0.017646</td>\n",
       "      <td>151.0</td>\n",
       "    </tr>\n",
       "    <tr>\n",
       "      <th>1</th>\n",
       "      <td>-0.001882</td>\n",
       "      <td>-0.044642</td>\n",
       "      <td>-0.051474</td>\n",
       "      <td>-0.026328</td>\n",
       "      <td>-0.008449</td>\n",
       "      <td>-0.019163</td>\n",
       "      <td>0.074412</td>\n",
       "      <td>-0.039493</td>\n",
       "      <td>-0.068332</td>\n",
       "      <td>-0.092204</td>\n",
       "      <td>75.0</td>\n",
       "    </tr>\n",
       "    <tr>\n",
       "      <th>2</th>\n",
       "      <td>0.085299</td>\n",
       "      <td>0.050680</td>\n",
       "      <td>0.044451</td>\n",
       "      <td>-0.005670</td>\n",
       "      <td>-0.045599</td>\n",
       "      <td>-0.034194</td>\n",
       "      <td>-0.032356</td>\n",
       "      <td>-0.002592</td>\n",
       "      <td>0.002861</td>\n",
       "      <td>-0.025930</td>\n",
       "      <td>141.0</td>\n",
       "    </tr>\n",
       "    <tr>\n",
       "      <th>3</th>\n",
       "      <td>-0.089063</td>\n",
       "      <td>-0.044642</td>\n",
       "      <td>-0.011595</td>\n",
       "      <td>-0.036656</td>\n",
       "      <td>0.012191</td>\n",
       "      <td>0.024991</td>\n",
       "      <td>-0.036038</td>\n",
       "      <td>0.034309</td>\n",
       "      <td>0.022688</td>\n",
       "      <td>-0.009362</td>\n",
       "      <td>206.0</td>\n",
       "    </tr>\n",
       "    <tr>\n",
       "      <th>4</th>\n",
       "      <td>0.005383</td>\n",
       "      <td>-0.044642</td>\n",
       "      <td>-0.036385</td>\n",
       "      <td>0.021872</td>\n",
       "      <td>0.003935</td>\n",
       "      <td>0.015596</td>\n",
       "      <td>0.008142</td>\n",
       "      <td>-0.002592</td>\n",
       "      <td>-0.031988</td>\n",
       "      <td>-0.046641</td>\n",
       "      <td>135.0</td>\n",
       "    </tr>\n",
       "  </tbody>\n",
       "</table>\n",
       "</div>"
      ],
      "text/plain": [
       "        age       sex       bmi        bp        s1        s2        s3  \\\n",
       "0  0.038076  0.050680  0.061696  0.021872 -0.044223 -0.034821 -0.043401   \n",
       "1 -0.001882 -0.044642 -0.051474 -0.026328 -0.008449 -0.019163  0.074412   \n",
       "2  0.085299  0.050680  0.044451 -0.005670 -0.045599 -0.034194 -0.032356   \n",
       "3 -0.089063 -0.044642 -0.011595 -0.036656  0.012191  0.024991 -0.036038   \n",
       "4  0.005383 -0.044642 -0.036385  0.021872  0.003935  0.015596  0.008142   \n",
       "\n",
       "         s4        s5        s6  target  \n",
       "0 -0.002592  0.019907 -0.017646   151.0  \n",
       "1 -0.039493 -0.068332 -0.092204    75.0  \n",
       "2 -0.002592  0.002861 -0.025930   141.0  \n",
       "3  0.034309  0.022688 -0.009362   206.0  \n",
       "4 -0.002592 -0.031988 -0.046641   135.0  "
      ]
     },
     "execution_count": 4,
     "metadata": {},
     "output_type": "execute_result"
    }
   ],
   "source": [
    "df.head()"
   ]
  },
  {
   "cell_type": "markdown",
   "metadata": {
    "id": "570A8Hla_iFP"
   },
   "source": [
    "NOTA: Los datos están estandarizados, interpretarlos directamente no tiene un sentido real."
   ]
  },
  {
   "cell_type": "code",
   "execution_count": null,
   "metadata": {
    "colab": {
     "base_uri": "https://localhost:8080/",
     "height": 349
    },
    "id": "M2HR2MDc_h4f",
    "outputId": "ed66123b-8fde-4ff7-f7d7-f8b5535086c5"
   },
   "outputs": [
    {
     "data": {
      "image/png": "[encoded data removed]",
      "text/plain": [
       "<Figure size 432x288 with 1 Axes>"
      ]
     },
     "metadata": {},
     "output_type": "display_data"
    }
   ],
   "source": [
    "sns.distplot(df[\"bp\"])\n",
    "plt.title(\"bp distribution\");"
   ]
  },
  {
   "cell_type": "markdown",
   "metadata": {
    "id": "-g6kYIDG5wqX"
   },
   "source": [
    "#### Descripción de los datos\n",
    "\n",
    "* age - age in years\n",
    "* sex\n",
    "* bmi - body mass index\n",
    "* bp - average blood pressure\n",
    "* s1 - tc, total serum cholesterol\n",
    "* s2 - ldl, low-density lipoproteins\n",
    "* s3 - hdl, high-density lipoproteins\n",
    "* s4 - tch, total cholesterol / HDL\n",
    "* s5 - ltg, possibly log of serum triglycerides level\n",
    "* s6 - glu, blood sugar level\n",
    "* target - Column 11 is a quantitative measure of disease progression one year after baseline\n",
    "\n",
    "fuentes: \n",
    "* [Diabetes Dataset - sklearn](https://scikit-learn.org/stable/modules/generated/sklearn.datasets.load_diabetes.html#sklearn.datasets.load_diabetes)\n",
    "* [Diabetes data](https://www4.stat.ncsu.edu/~boos/var.select/diabetes.html)"
   ]
  },
  {
   "cell_type": "code",
   "execution_count": 48,
   "metadata": {
    "colab": {
     "base_uri": "https://localhost:8080/",
     "height": 295
    },
    "id": "UuEn9WP45PRw",
    "outputId": "0dad48a6-17bb-4835-8c2f-42f7fe2bd975"
   },
   "outputs": [
    {
     "data": {
      "text/html": [
       "<div>\n",
       "<style scoped>\n",
       "    .dataframe tbody tr th:only-of-type {\n",
       "        vertical-align: middle;\n",
       "    }\n",
       "\n",
       "    .dataframe tbody tr th {\n",
       "        vertical-align: top;\n",
       "    }\n",
       "\n",
       "    .dataframe thead th {\n",
       "        text-align: right;\n",
       "    }\n",
       "</style>\n",
       "<table border=\"1\" class=\"dataframe\">\n",
       "  <thead>\n",
       "    <tr style=\"text-align: right;\">\n",
       "      <th></th>\n",
       "      <th>age</th>\n",
       "      <th>sex</th>\n",
       "      <th>bmi</th>\n",
       "      <th>bp</th>\n",
       "      <th>s1</th>\n",
       "      <th>s2</th>\n",
       "      <th>s3</th>\n",
       "      <th>s4</th>\n",
       "      <th>s5</th>\n",
       "      <th>s6</th>\n",
       "      <th>target</th>\n",
       "    </tr>\n",
       "  </thead>\n",
       "  <tbody>\n",
       "    <tr>\n",
       "      <th>count</th>\n",
       "      <td>442.00000</td>\n",
       "      <td>442.00000</td>\n",
       "      <td>442.00000</td>\n",
       "      <td>442.00000</td>\n",
       "      <td>442.00000</td>\n",
       "      <td>442.00000</td>\n",
       "      <td>442.00000</td>\n",
       "      <td>442.00000</td>\n",
       "      <td>442.00000</td>\n",
       "      <td>442.00000</td>\n",
       "      <td>442.00000</td>\n",
       "    </tr>\n",
       "    <tr>\n",
       "      <th>mean</th>\n",
       "      <td>-0.00000</td>\n",
       "      <td>0.00000</td>\n",
       "      <td>-0.00000</td>\n",
       "      <td>-0.00000</td>\n",
       "      <td>-0.00000</td>\n",
       "      <td>0.00000</td>\n",
       "      <td>-0.00000</td>\n",
       "      <td>-0.00000</td>\n",
       "      <td>0.00000</td>\n",
       "      <td>0.00000</td>\n",
       "      <td>152.13348</td>\n",
       "    </tr>\n",
       "    <tr>\n",
       "      <th>std</th>\n",
       "      <td>0.04762</td>\n",
       "      <td>0.04762</td>\n",
       "      <td>0.04762</td>\n",
       "      <td>0.04762</td>\n",
       "      <td>0.04762</td>\n",
       "      <td>0.04762</td>\n",
       "      <td>0.04762</td>\n",
       "      <td>0.04762</td>\n",
       "      <td>0.04762</td>\n",
       "      <td>0.04762</td>\n",
       "      <td>77.09300</td>\n",
       "    </tr>\n",
       "    <tr>\n",
       "      <th>min</th>\n",
       "      <td>-0.10723</td>\n",
       "      <td>-0.04464</td>\n",
       "      <td>-0.09028</td>\n",
       "      <td>-0.11240</td>\n",
       "      <td>-0.12678</td>\n",
       "      <td>-0.11561</td>\n",
       "      <td>-0.10231</td>\n",
       "      <td>-0.07639</td>\n",
       "      <td>-0.12610</td>\n",
       "      <td>-0.13777</td>\n",
       "      <td>25.00000</td>\n",
       "    </tr>\n",
       "    <tr>\n",
       "      <th>25%</th>\n",
       "      <td>-0.03730</td>\n",
       "      <td>-0.04464</td>\n",
       "      <td>-0.03423</td>\n",
       "      <td>-0.03666</td>\n",
       "      <td>-0.03425</td>\n",
       "      <td>-0.03036</td>\n",
       "      <td>-0.03512</td>\n",
       "      <td>-0.03949</td>\n",
       "      <td>-0.03325</td>\n",
       "      <td>-0.03318</td>\n",
       "      <td>87.00000</td>\n",
       "    </tr>\n",
       "    <tr>\n",
       "      <th>50%</th>\n",
       "      <td>0.00538</td>\n",
       "      <td>-0.04464</td>\n",
       "      <td>-0.00728</td>\n",
       "      <td>-0.00567</td>\n",
       "      <td>-0.00432</td>\n",
       "      <td>-0.00382</td>\n",
       "      <td>-0.00658</td>\n",
       "      <td>-0.00259</td>\n",
       "      <td>-0.00195</td>\n",
       "      <td>-0.00108</td>\n",
       "      <td>140.50000</td>\n",
       "    </tr>\n",
       "    <tr>\n",
       "      <th>75%</th>\n",
       "      <td>0.03808</td>\n",
       "      <td>0.05068</td>\n",
       "      <td>0.03125</td>\n",
       "      <td>0.03564</td>\n",
       "      <td>0.02836</td>\n",
       "      <td>0.02984</td>\n",
       "      <td>0.02931</td>\n",
       "      <td>0.03431</td>\n",
       "      <td>0.03243</td>\n",
       "      <td>0.02792</td>\n",
       "      <td>211.50000</td>\n",
       "    </tr>\n",
       "    <tr>\n",
       "      <th>max</th>\n",
       "      <td>0.11073</td>\n",
       "      <td>0.05068</td>\n",
       "      <td>0.17056</td>\n",
       "      <td>0.13204</td>\n",
       "      <td>0.15391</td>\n",
       "      <td>0.19879</td>\n",
       "      <td>0.18118</td>\n",
       "      <td>0.18523</td>\n",
       "      <td>0.13360</td>\n",
       "      <td>0.13561</td>\n",
       "      <td>346.00000</td>\n",
       "    </tr>\n",
       "  </tbody>\n",
       "</table>\n",
       "</div>"
      ],
      "text/plain": [
       "             age        sex        bmi         bp         s1         s2  \\\n",
       "count  442.00000  442.00000  442.00000  442.00000  442.00000  442.00000   \n",
       "mean    -0.00000    0.00000   -0.00000   -0.00000   -0.00000    0.00000   \n",
       "std      0.04762    0.04762    0.04762    0.04762    0.04762    0.04762   \n",
       "min     -0.10723   -0.04464   -0.09028   -0.11240   -0.12678   -0.11561   \n",
       "25%     -0.03730   -0.04464   -0.03423   -0.03666   -0.03425   -0.03036   \n",
       "50%      0.00538   -0.04464   -0.00728   -0.00567   -0.00432   -0.00382   \n",
       "75%      0.03808    0.05068    0.03125    0.03564    0.02836    0.02984   \n",
       "max      0.11073    0.05068    0.17056    0.13204    0.15391    0.19879   \n",
       "\n",
       "              s3         s4         s5         s6     target  \n",
       "count  442.00000  442.00000  442.00000  442.00000  442.00000  \n",
       "mean    -0.00000   -0.00000    0.00000    0.00000  152.13348  \n",
       "std      0.04762    0.04762    0.04762    0.04762   77.09300  \n",
       "min     -0.10231   -0.07639   -0.12610   -0.13777   25.00000  \n",
       "25%     -0.03512   -0.03949   -0.03325   -0.03318   87.00000  \n",
       "50%     -0.00658   -0.00259   -0.00195   -0.00108  140.50000  \n",
       "75%      0.02931    0.03431    0.03243    0.02792  211.50000  \n",
       "max      0.18118    0.18523    0.13360    0.13561  346.00000  "
      ]
     },
     "execution_count": 48,
     "metadata": {},
     "output_type": "execute_result"
    }
   ],
   "source": [
    "df.describe().apply(lambda s: s.apply('{0:.5f}'.format))"
   ]
  },
  {
   "cell_type": "markdown",
   "metadata": {
    "id": "Mn-kkxDC51BO"
   },
   "source": [
    "## Ejercicio 2\n",
    "Elimine una de estas variables del dataframe. ¿Por qué hacemos esto? ¿Cree que siempre es necesario hacerlo? Justifique."
   ]
  },
  {
   "cell_type": "code",
   "execution_count": 39,
   "metadata": {},
   "outputs": [
    {
     "data": {
      "text/plain": [
       "<Axes: >"
      ]
     },
     "execution_count": 39,
     "metadata": {},
     "output_type": "execute_result"
    },
    {
     "data": {
      "image/png": "[encoded data removed]",
      "text/plain": [
       "<Figure size 640x480 with 2 Axes>"
      ]
     },
     "metadata": {},
     "output_type": "display_data"
    }
   ],
   "source": [
    "import seaborn as sns\n",
    "sns.heatmap(df.corr(), annot=True)"
   ]
  },
  {
   "cell_type": "code",
   "execution_count": 49,
   "metadata": {},
   "outputs": [
    {
     "name": "stdout",
     "output_type": "stream",
     "text": [
      "Determinante de la matriz de correlación:  0.00020779722231835883\n"
     ]
    }
   ],
   "source": [
    "corr = df.corr()\n",
    "mat = corr.to_numpy()\n",
    "det = np.linalg.det(mat)\n",
    "print(\"Determinante de la matriz de correlación: \", det)"
   ]
  },
  {
   "cell_type": "markdown",
   "metadata": {},
   "source": [
    " The value for the determinant is an important test for multicollinearity or singularity. "
   ]
  },
  {
   "cell_type": "code",
   "execution_count": 3,
   "metadata": {
    "colab": {
     "base_uri": "https://localhost:8080/"
    },
    "id": "xnq-wpvwA2-F",
    "outputId": "c68db068-e634-496c-8a57-48088b25e138"
   },
   "outputs": [
    {
     "data": {
      "text/plain": [
       "Index(['age', 'sex', 'bmi', 'bp', 's2', 's3', 's4', 's5', 's6', 'target'], dtype='object')"
      ]
     },
     "execution_count": 3,
     "metadata": {},
     "output_type": "execute_result"
    }
   ],
   "source": [
    "df = df.drop(columns=\"s1\")\n",
    "df.columns"
   ]
  },
  {
   "cell_type": "code",
   "execution_count": 4,
   "metadata": {},
   "outputs": [
    {
     "name": "stdout",
     "output_type": "stream",
     "text": [
      "Determinante de la matriz de correlación:  0.012405284091587905\n"
     ]
    }
   ],
   "source": [
    "corr = df.corr()\n",
    "mat = corr.to_numpy()\n",
    "det = np.linalg.det(mat)\n",
    "print(\"Determinante de la matriz de correlación: \", det)"
   ]
  },
  {
   "cell_type": "markdown",
   "metadata": {
    "id": "1CjQ3S6U3Es4"
   },
   "source": [
    "### Particionar datos en train y test en proporción 2/3 y 1/3, respectivamente"
   ]
  },
  {
   "cell_type": "code",
   "execution_count": 5,
   "metadata": {
    "id": "dujlkswg3Es5"
   },
   "outputs": [],
   "source": [
    "from sklearn.model_selection import train_test_split\n",
    "random_state = 117\n",
    "\n",
    "X, y = df.loc[:, df.columns != 'target'], df[\"target\"]\n",
    "X_train, X_test, y_train, y_test = train_test_split(\n",
    "    X,\n",
    "    y,\n",
    "    test_size=(1.0/3),\n",
    "    random_state=random_state)"
   ]
  },
  {
   "cell_type": "markdown",
   "metadata": {
    "id": "PTzJz5Pk3Es7"
   },
   "source": [
    "### Entrenamiento\n",
    "\n",
    "* [Linear Model - sklearn](https://scikit-learn.org/stable/modules/linear_model.html)\n",
    "* [Linear Model Ridge - sklearn](https://scikit-learn.org/stable/modules/generated/sklearn.linear_model.Ridge.html)"
   ]
  },
  {
   "cell_type": "code",
   "execution_count": 6,
   "metadata": {
    "colab": {
     "base_uri": "https://localhost:8080/"
    },
    "id": "WYjzasM5DND7",
    "outputId": "392966f0-0654-4295-94ff-da0a4966b174"
   },
   "outputs": [
    {
     "data": {
      "text/html": [
       "<style>#sk-container-id-1 {color: black;}#sk-container-id-1 pre{padding: 0;}#sk-container-id-1 div.sk-toggleable {background-color: white;}#sk-container-id-1 label.sk-toggleable__label {cursor: pointer;display: block;width: 100%;margin-bottom: 0;padding: 0.3em;box-sizing: border-box;text-align: center;}#sk-container-id-1 label.sk-toggleable__label-arrow:before {content: \"▸\";float: left;margin-right: 0.25em;color: #696969;}#sk-container-id-1 label.sk-toggleable__label-arrow:hover:before {color: black;}#sk-container-id-1 div.sk-estimator:hover label.sk-toggleable__label-arrow:before {color: black;}#sk-container-id-1 div.sk-toggleable__content {max-height: 0;max-width: 0;overflow: hidden;text-align: left;background-color: #f0f8ff;}#sk-container-id-1 div.sk-toggleable__content pre {margin: 0.2em;color: black;border-radius: 0.25em;background-color: #f0f8ff;}#sk-container-id-1 input.sk-toggleable__control:checked~div.sk-toggleable__content {max-height: 200px;max-width: 100%;overflow: auto;}#sk-container-id-1 input.sk-toggleable__control:checked~label.sk-toggleable__label-arrow:before {content: \"▾\";}#sk-container-id-1 div.sk-estimator input.sk-toggleable__control:checked~label.sk-toggleable__label {background-color: #d4ebff;}#sk-container-id-1 div.sk-label input.sk-toggleable__control:checked~label.sk-toggleable__label {background-color: #d4ebff;}#sk-container-id-1 input.sk-hidden--visually {border: 0;clip: rect(1px 1px 1px 1px);clip: rect(1px, 1px, 1px, 1px);height: 1px;margin: -1px;overflow: hidden;padding: 0;position: absolute;width: 1px;}#sk-container-id-1 div.sk-estimator {font-family: monospace;background-color: #f0f8ff;border: 1px dotted black;border-radius: 0.25em;box-sizing: border-box;margin-bottom: 0.5em;}#sk-container-id-1 div.sk-estimator:hover {background-color: #d4ebff;}#sk-container-id-1 div.sk-parallel-item::after {content: \"\";width: 100%;border-bottom: 1px solid gray;flex-grow: 1;}#sk-container-id-1 div.sk-label:hover label.sk-toggleable__label {background-color: #d4ebff;}#sk-container-id-1 div.sk-serial::before {content: \"\";position: absolute;border-left: 1px solid gray;box-sizing: border-box;top: 0;bottom: 0;left: 50%;z-index: 0;}#sk-container-id-1 div.sk-serial {display: flex;flex-direction: column;align-items: center;background-color: white;padding-right: 0.2em;padding-left: 0.2em;position: relative;}#sk-container-id-1 div.sk-item {position: relative;z-index: 1;}#sk-container-id-1 div.sk-parallel {display: flex;align-items: stretch;justify-content: center;background-color: white;position: relative;}#sk-container-id-1 div.sk-item::before, #sk-container-id-1 div.sk-parallel-item::before {content: \"\";position: absolute;border-left: 1px solid gray;box-sizing: border-box;top: 0;bottom: 0;left: 50%;z-index: -1;}#sk-container-id-1 div.sk-parallel-item {display: flex;flex-direction: column;z-index: 1;position: relative;background-color: white;}#sk-container-id-1 div.sk-parallel-item:first-child::after {align-self: flex-end;width: 50%;}#sk-container-id-1 div.sk-parallel-item:last-child::after {align-self: flex-start;width: 50%;}#sk-container-id-1 div.sk-parallel-item:only-child::after {width: 0;}#sk-container-id-1 div.sk-dashed-wrapped {border: 1px dashed gray;margin: 0 0.4em 0.5em 0.4em;box-sizing: border-box;padding-bottom: 0.4em;background-color: white;}#sk-container-id-1 div.sk-label label {font-family: monospace;font-weight: bold;display: inline-block;line-height: 1.2em;}#sk-container-id-1 div.sk-label-container {text-align: center;}#sk-container-id-1 div.sk-container {/* jupyter's `normalize.less` sets `[hidden] { display: none; }` but bootstrap.min.css set `[hidden] { display: none !important; }` so we also need the `!important` here to be able to override the default hidden behavior on the sphinx rendered scikit-learn.org. See: https://github.com/scikit-learn/scikit-learn/issues/21755 */display: inline-block !important;position: relative;}#sk-container-id-1 div.sk-text-repr-fallback {display: none;}</style><div id=\"sk-container-id-1\" class=\"sk-top-container\"><div class=\"sk-text-repr-fallback\"><pre>LinearRegression()</pre><b>In a Jupyter environment, please rerun this cell to show the HTML representation or trust the notebook. <br />On GitHub, the HTML representation is unable to render, please try loading this page with nbviewer.org.</b></div><div class=\"sk-container\" hidden><div class=\"sk-item\"><div class=\"sk-estimator sk-toggleable\"><input class=\"sk-toggleable__control sk-hidden--visually\" id=\"sk-estimator-id-1\" type=\"checkbox\" checked><label for=\"sk-estimator-id-1\" class=\"sk-toggleable__label sk-toggleable__label-arrow\">LinearRegression</label><div class=\"sk-toggleable__content\"><pre>LinearRegression()</pre></div></div></div></div></div>"
      ],
      "text/plain": [
       "LinearRegression()"
      ]
     },
     "execution_count": 6,
     "metadata": {},
     "output_type": "execute_result"
    }
   ],
   "source": [
    "from sklearn import linear_model\n",
    "\n",
    "regr = linear_model.LinearRegression()\n",
    "regr.fit(X_train, y_train)"
   ]
  },
  {
   "cell_type": "markdown",
   "metadata": {},
   "source": [
    "Coeficientes"
   ]
  },
  {
   "cell_type": "code",
   "execution_count": 7,
   "metadata": {},
   "outputs": [
    {
     "data": {
      "text/plain": [
       "array([  45.96032058, -318.7094892 ,  531.80812651,  334.4850064 ,\n",
       "       -117.19042482, -367.47402329,   66.14518711,  309.48714903,\n",
       "        103.17445012])"
      ]
     },
     "execution_count": 7,
     "metadata": {},
     "output_type": "execute_result"
    }
   ],
   "source": [
    "regr.coef_"
   ]
  },
  {
   "cell_type": "code",
   "execution_count": 13,
   "metadata": {},
   "outputs": [
    {
     "data": {
      "text/plain": [
       "151.05687998254956"
      ]
     },
     "execution_count": 13,
     "metadata": {},
     "output_type": "execute_result"
    }
   ],
   "source": [
    "regr.intercept_"
   ]
  },
  {
   "cell_type": "code",
   "execution_count": 17,
   "metadata": {},
   "outputs": [
    {
     "name": "stdout",
     "output_type": "stream",
     "text": [
      "R-squared score on training data: 0.45741355434308884\n"
     ]
    }
   ],
   "source": [
    "score = regr.score(X_test, y_test)\n",
    "print(\"R-squared score on training data:\", score)\n"
   ]
  },
  {
   "cell_type": "markdown",
   "metadata": {},
   "source": [
    "Coeficiente de determinacion: R-Squared (R² or the coefficient of determination) is a statistical measure in a regression model that determines the proportion of variance in the dependent variable that can be explained by the independent variable. In other words, r-squared shows how well the data fit the regression model (the goodness of fit)."
   ]
  },
  {
   "cell_type": "code",
   "execution_count": 19,
   "metadata": {},
   "outputs": [
    {
     "name": "stdout",
     "output_type": "stream",
     "text": [
      "R-squared score on training data: 0.45741355434308884\n"
     ]
    }
   ],
   "source": [
    "RSS = np.sum(np.square(y_test - regr.predict(X_test)))\n",
    "TSS = np.sum(np.square(y_test - np.mean(y_test)))\n",
    "R2 = 1 - RSS/TSS\n",
    "print(\"R-squared score on training data:\", R2)"
   ]
  },
  {
   "cell_type": "code",
   "execution_count": 16,
   "metadata": {},
   "outputs": [
    {
     "data": {
      "image/png": "[encoded data removed]",
      "text/plain": [
       "<Figure size 1000x600 with 1 Axes>"
      ]
     },
     "metadata": {},
     "output_type": "display_data"
    }
   ],
   "source": [
    "feature_names = X_train.columns.tolist()\n",
    "coefficients = regr.coef_.tolist()\n",
    "\n",
    "plt.figure(figsize=(10, 6))\n",
    "plt.barh(feature_names, coefficients)\n",
    "plt.xlabel('Coefficient Value')\n",
    "plt.ylabel('Feature')\n",
    "plt.title('Linear Regression Coefficients')\n",
    "plt.grid(axis='x')\n",
    "plt.show()"
   ]
  },
  {
   "cell_type": "code",
   "execution_count": null,
   "metadata": {},
   "outputs": [],
   "source": []
  },
  {
   "cell_type": "code",
   "execution_count": 12,
   "metadata": {
    "colab": {
     "base_uri": "https://localhost:8080/"
    },
    "id": "SC-nuHz9ELlk",
    "outputId": "79190b66-ad37-437e-c41e-2092fb5730ca"
   },
   "outputs": [
    {
     "data": {
      "text/plain": [
       "Lasso(alpha=0.1, copy_X=True, fit_intercept=True, max_iter=1000,\n",
       "      normalize=False, positive=False, precompute=False, random_state=None,\n",
       "      selection='cyclic', tol=0.0001, warm_start=False)"
      ]
     },
     "execution_count": 12,
     "metadata": {},
     "output_type": "execute_result"
    }
   ],
   "source": [
    "from sklearn.linear_model import Lasso\n",
    "\n",
    "regr_l1 = Lasso(alpha=0.1)\n",
    "regr_l1.fit(X_train, y_train)"
   ]
  },
  {
   "cell_type": "code",
   "execution_count": 13,
   "metadata": {},
   "outputs": [
    {
     "data": {
      "text/plain": [
       "array([   1.10164403, -230.4438823 ,  533.80909389,  293.94456474,\n",
       "        -15.47670724, -327.27966092,    0.        ,  330.61733207,\n",
       "         66.04526179])"
      ]
     },
     "execution_count": 13,
     "metadata": {},
     "output_type": "execute_result"
    }
   ],
   "source": [
    "regr_l1.coef_"
   ]
  },
  {
   "cell_type": "code",
   "execution_count": 14,
   "metadata": {},
   "outputs": [
    {
     "data": {
      "text/html": [
       "<div>\n",
       "<style scoped>\n",
       "    .dataframe tbody tr th:only-of-type {\n",
       "        vertical-align: middle;\n",
       "    }\n",
       "\n",
       "    .dataframe tbody tr th {\n",
       "        vertical-align: top;\n",
       "    }\n",
       "\n",
       "    .dataframe thead th {\n",
       "        text-align: right;\n",
       "    }\n",
       "</style>\n",
       "<table border=\"1\" class=\"dataframe\">\n",
       "  <thead>\n",
       "    <tr style=\"text-align: right;\">\n",
       "      <th></th>\n",
       "      <th>age</th>\n",
       "      <th>sex</th>\n",
       "      <th>bmi</th>\n",
       "      <th>bp</th>\n",
       "      <th>s2</th>\n",
       "      <th>s3</th>\n",
       "      <th>s4</th>\n",
       "      <th>s5</th>\n",
       "      <th>s6</th>\n",
       "      <th>target</th>\n",
       "    </tr>\n",
       "  </thead>\n",
       "  <tbody>\n",
       "    <tr>\n",
       "      <th>age</th>\n",
       "      <td>1.000000</td>\n",
       "      <td>0.173737</td>\n",
       "      <td>0.185085</td>\n",
       "      <td>0.335427</td>\n",
       "      <td>0.219243</td>\n",
       "      <td>-0.075181</td>\n",
       "      <td>0.203841</td>\n",
       "      <td>0.270777</td>\n",
       "      <td>0.301731</td>\n",
       "      <td>0.187889</td>\n",
       "    </tr>\n",
       "    <tr>\n",
       "      <th>sex</th>\n",
       "      <td>0.173737</td>\n",
       "      <td>1.000000</td>\n",
       "      <td>0.088161</td>\n",
       "      <td>0.241013</td>\n",
       "      <td>0.142637</td>\n",
       "      <td>-0.379090</td>\n",
       "      <td>0.332115</td>\n",
       "      <td>0.149918</td>\n",
       "      <td>0.208133</td>\n",
       "      <td>0.043062</td>\n",
       "    </tr>\n",
       "    <tr>\n",
       "      <th>bmi</th>\n",
       "      <td>0.185085</td>\n",
       "      <td>0.088161</td>\n",
       "      <td>1.000000</td>\n",
       "      <td>0.395415</td>\n",
       "      <td>0.261170</td>\n",
       "      <td>-0.366811</td>\n",
       "      <td>0.413807</td>\n",
       "      <td>0.446159</td>\n",
       "      <td>0.388680</td>\n",
       "      <td>0.586450</td>\n",
       "    </tr>\n",
       "    <tr>\n",
       "      <th>bp</th>\n",
       "      <td>0.335427</td>\n",
       "      <td>0.241013</td>\n",
       "      <td>0.395415</td>\n",
       "      <td>1.000000</td>\n",
       "      <td>0.185558</td>\n",
       "      <td>-0.178761</td>\n",
       "      <td>0.257653</td>\n",
       "      <td>0.393478</td>\n",
       "      <td>0.390429</td>\n",
       "      <td>0.441484</td>\n",
       "    </tr>\n",
       "    <tr>\n",
       "      <th>s2</th>\n",
       "      <td>0.219243</td>\n",
       "      <td>0.142637</td>\n",
       "      <td>0.261170</td>\n",
       "      <td>0.185558</td>\n",
       "      <td>1.000000</td>\n",
       "      <td>-0.196455</td>\n",
       "      <td>0.659817</td>\n",
       "      <td>0.318353</td>\n",
       "      <td>0.290600</td>\n",
       "      <td>0.174054</td>\n",
       "    </tr>\n",
       "    <tr>\n",
       "      <th>s3</th>\n",
       "      <td>-0.075181</td>\n",
       "      <td>-0.379090</td>\n",
       "      <td>-0.366811</td>\n",
       "      <td>-0.178761</td>\n",
       "      <td>-0.196455</td>\n",
       "      <td>1.000000</td>\n",
       "      <td>-0.738493</td>\n",
       "      <td>-0.398577</td>\n",
       "      <td>-0.273697</td>\n",
       "      <td>-0.394789</td>\n",
       "    </tr>\n",
       "    <tr>\n",
       "      <th>s4</th>\n",
       "      <td>0.203841</td>\n",
       "      <td>0.332115</td>\n",
       "      <td>0.413807</td>\n",
       "      <td>0.257653</td>\n",
       "      <td>0.659817</td>\n",
       "      <td>-0.738493</td>\n",
       "      <td>1.000000</td>\n",
       "      <td>0.617857</td>\n",
       "      <td>0.417212</td>\n",
       "      <td>0.430453</td>\n",
       "    </tr>\n",
       "    <tr>\n",
       "      <th>s5</th>\n",
       "      <td>0.270777</td>\n",
       "      <td>0.149918</td>\n",
       "      <td>0.446159</td>\n",
       "      <td>0.393478</td>\n",
       "      <td>0.318353</td>\n",
       "      <td>-0.398577</td>\n",
       "      <td>0.617857</td>\n",
       "      <td>1.000000</td>\n",
       "      <td>0.464670</td>\n",
       "      <td>0.565883</td>\n",
       "    </tr>\n",
       "    <tr>\n",
       "      <th>s6</th>\n",
       "      <td>0.301731</td>\n",
       "      <td>0.208133</td>\n",
       "      <td>0.388680</td>\n",
       "      <td>0.390429</td>\n",
       "      <td>0.290600</td>\n",
       "      <td>-0.273697</td>\n",
       "      <td>0.417212</td>\n",
       "      <td>0.464670</td>\n",
       "      <td>1.000000</td>\n",
       "      <td>0.382483</td>\n",
       "    </tr>\n",
       "    <tr>\n",
       "      <th>target</th>\n",
       "      <td>0.187889</td>\n",
       "      <td>0.043062</td>\n",
       "      <td>0.586450</td>\n",
       "      <td>0.441484</td>\n",
       "      <td>0.174054</td>\n",
       "      <td>-0.394789</td>\n",
       "      <td>0.430453</td>\n",
       "      <td>0.565883</td>\n",
       "      <td>0.382483</td>\n",
       "      <td>1.000000</td>\n",
       "    </tr>\n",
       "  </tbody>\n",
       "</table>\n",
       "</div>"
      ],
      "text/plain": [
       "             age       sex       bmi        bp        s2        s3        s4  \\\n",
       "age     1.000000  0.173737  0.185085  0.335427  0.219243 -0.075181  0.203841   \n",
       "sex     0.173737  1.000000  0.088161  0.241013  0.142637 -0.379090  0.332115   \n",
       "bmi     0.185085  0.088161  1.000000  0.395415  0.261170 -0.366811  0.413807   \n",
       "bp      0.335427  0.241013  0.395415  1.000000  0.185558 -0.178761  0.257653   \n",
       "s2      0.219243  0.142637  0.261170  0.185558  1.000000 -0.196455  0.659817   \n",
       "s3     -0.075181 -0.379090 -0.366811 -0.178761 -0.196455  1.000000 -0.738493   \n",
       "s4      0.203841  0.332115  0.413807  0.257653  0.659817 -0.738493  1.000000   \n",
       "s5      0.270777  0.149918  0.446159  0.393478  0.318353 -0.398577  0.617857   \n",
       "s6      0.301731  0.208133  0.388680  0.390429  0.290600 -0.273697  0.417212   \n",
       "target  0.187889  0.043062  0.586450  0.441484  0.174054 -0.394789  0.430453   \n",
       "\n",
       "              s5        s6    target  \n",
       "age     0.270777  0.301731  0.187889  \n",
       "sex     0.149918  0.208133  0.043062  \n",
       "bmi     0.446159  0.388680  0.586450  \n",
       "bp      0.393478  0.390429  0.441484  \n",
       "s2      0.318353  0.290600  0.174054  \n",
       "s3     -0.398577 -0.273697 -0.394789  \n",
       "s4      0.617857  0.417212  0.430453  \n",
       "s5      1.000000  0.464670  0.565883  \n",
       "s6      0.464670  1.000000  0.382483  \n",
       "target  0.565883  0.382483  1.000000  "
      ]
     },
     "execution_count": 14,
     "metadata": {},
     "output_type": "execute_result"
    }
   ],
   "source": [
    "df.corr()"
   ]
  },
  {
   "cell_type": "code",
   "execution_count": 15,
   "metadata": {
    "colab": {
     "base_uri": "https://localhost:8080/"
    },
    "id": "YB8RtTtjENZe",
    "outputId": "038333f1-2153-482e-d518-cc01827e4dc2"
   },
   "outputs": [
    {
     "data": {
      "text/plain": [
       "Ridge(alpha=1.0, copy_X=True, fit_intercept=True, max_iter=None,\n",
       "      normalize=False, random_state=None, solver='auto', tol=0.001)"
      ]
     },
     "execution_count": 15,
     "metadata": {},
     "output_type": "execute_result"
    }
   ],
   "source": [
    "from sklearn.linear_model import Ridge, Lasso\n",
    "\n",
    "regr_l2 = Ridge(alpha=1.0)\n",
    "regr_l2.fit(X_train, y_train)"
   ]
  },
  {
   "cell_type": "code",
   "execution_count": 16,
   "metadata": {},
   "outputs": [
    {
     "data": {
      "text/plain": [
       "array([  56.50035101,  -91.89645415,  264.73296662,  169.58929385,\n",
       "        -10.99132112, -147.69729935,  112.30601455,  198.69693416,\n",
       "        105.61804295])"
      ]
     },
     "execution_count": 16,
     "metadata": {},
     "output_type": "execute_result"
    }
   ],
   "source": [
    "regr_l2.coef_"
   ]
  },
  {
   "cell_type": "markdown",
   "metadata": {
    "id": "MbpRsdxr3Es-"
   },
   "source": [
    "### Evaluación"
   ]
  },
  {
   "cell_type": "code",
   "execution_count": 17,
   "metadata": {
    "id": "8n7oSw6HCBZm"
   },
   "outputs": [],
   "source": [
    "from sklearn.metrics import mean_absolute_error, mean_squared_error\n",
    "\n",
    "y_pred = regr.predict(X_test)\n",
    "y_pred_l1 = regr_l1.predict(X_test)\n",
    "y_pred_l2 = regr_l2.predict(X_test)"
   ]
  },
  {
   "cell_type": "markdown",
   "metadata": {
    "id": "NEVJ1v675rhN"
   },
   "source": [
    "![image.png](data:image/png;base64,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)"
   ]
  },
  {
   "cell_type": "code",
   "execution_count": 18,
   "metadata": {
    "colab": {
     "base_uri": "https://localhost:8080/"
    },
    "id": "iNEItPgz3Es_",
    "outputId": "33080440-c6cb-44a8-fcc2-e2cddca4bd43"
   },
   "outputs": [
    {
     "name": "stdout",
     "output_type": "stream",
     "text": [
      "MAE\n",
      "===\n",
      "\n",
      "(base regresssion) = 47.9202147369437\n",
      "(Lasso) = 47.82501176762487\n",
      "(Ridge) = 52.349881160317906\n"
     ]
    }
   ],
   "source": [
    "print(\"MAE\")\n",
    "print(\"===\\n\")\n",
    "print(f'(base regresssion) = {mean_absolute_error(y_test, y_pred)}')\n",
    "print(f'(Lasso) = {mean_absolute_error(y_test, y_pred_l1)}')\n",
    "print(f'(Ridge) = {mean_absolute_error(y_test, y_pred_l2)}')"
   ]
  },
  {
   "cell_type": "markdown",
   "metadata": {
    "id": "bcNF8v9c5y4y"
   },
   "source": [
    "![image.png](data:image/png;base64,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)"
   ]
  },
  {
   "cell_type": "code",
   "execution_count": 19,
   "metadata": {
    "colab": {
     "base_uri": "https://localhost:8080/"
    },
    "id": "f3x5wkyi3EtA",
    "outputId": "3569267f-eb46-4f16-8f49-c3d952b567b6"
   },
   "outputs": [
    {
     "name": "stdout",
     "output_type": "stream",
     "text": [
      "MSE\n",
      "===\n",
      "\n",
      "(base regresssion) = 3491.88278923739\n",
      "(Lasso) = 3428.0249470451945\n",
      "(Ridge) = 3891.5494895714346\n"
     ]
    }
   ],
   "source": [
    "print(\"MSE\")\n",
    "print(\"===\\n\")\n",
    "print(f'(base regresssion) = {mean_squared_error(y_test, y_pred)}')\n",
    "print(f'(Lasso) = {mean_squared_error(y_test, y_pred_l1)}')\n",
    "print(f'(Ridge) = {mean_squared_error(y_test, y_pred_l2)}')"
   ]
  },
  {
   "cell_type": "markdown",
   "metadata": {
    "id": "RUIZN8UM26Oy"
   },
   "source": [
    "#### K-Fold Cross Validation"
   ]
  },
  {
   "cell_type": "code",
   "execution_count": 20,
   "metadata": {
    "id": "FfTCeTSD28pQ"
   },
   "outputs": [],
   "source": [
    "from sklearn.model_selection import cross_val_score\n",
    "\n",
    "scores = cross_val_score(regr, X_train, y_train, cv=5, scoring='neg_mean_squared_error')\n",
    "scores_l1 = cross_val_score(regr_l1, X_train, y_train, cv=5, scoring='neg_mean_squared_error')\n",
    "scores_l2 = cross_val_score(regr_l2, X_train, y_train, cv=5, scoring='neg_mean_squared_error')"
   ]
  },
  {
   "cell_type": "code",
   "execution_count": 21,
   "metadata": {
    "colab": {
     "base_uri": "https://localhost:8080/"
    },
    "id": "AvIj_Qty4ZgP",
    "outputId": "feb507f7-ca24-453e-d3ed-2c560f439db1"
   },
   "outputs": [
    {
     "name": "stdout",
     "output_type": "stream",
     "text": [
      "MSE (k-folds)\n",
      "===========\n",
      "\n",
      "(base regresssion) = -2852.3003743938575\n",
      "(Lasso) = -2843.0016725707346\n",
      "(Ridge) = -3437.860043322277\n"
     ]
    }
   ],
   "source": [
    "print(\"MSE (k-folds)\")\n",
    "print(\"===========\\n\")\n",
    "print(f'(base regresssion) = {np.mean(scores)}')\n",
    "print(f'(Lasso) = {np.mean(scores_l1)}')\n",
    "print(f'(Ridge) = {np.mean(scores_l2)}')"
   ]
  },
  {
   "cell_type": "code",
   "execution_count": 23,
   "metadata": {
    "colab": {
     "base_uri": "https://localhost:8080/"
    },
    "id": "whM5sDsz8Upd",
    "outputId": "79a8ced5-cd7d-440b-cd43-90cf9128bad0"
   },
   "outputs": [
    {
     "name": "stdout",
     "output_type": "stream",
     "text": [
      "(alpha) = 0.0001 (mean score) = -2852.176384039941\n",
      "(alpha) = 0.001 (mean score) = -2851.0665634678444\n",
      "(alpha) = 0.01 (mean score) = -2841.2099862169484\n",
      "(alpha) = 0.1 (mean score) = -2843.0016725707346\n",
      "(alpha) = 0.3 (mean score) = -3020.09331602154\n",
      "(alpha) = 0.5 (mean score) = -3198.0168600140205\n",
      "(alpha) = 0.7 (mean score) = -3420.383037940593\n",
      "(alpha) = 0.9 (mean score) = -3666.1324665714187\n",
      "(alpha) = 1 (mean score) = -3795.5499024318706\n"
     ]
    }
   ],
   "source": [
    "for alpha in [0.0001, 0.001, 0.01, .1, .3, .5, .7, .9, 1]:\n",
    "  reg_l1_aux = Lasso(alpha=alpha)\n",
    "  scores_l1_aux = cross_val_score(reg_l1_aux, X_train, y_train, cv=5, scoring='neg_mean_squared_error')\n",
    "  print(f'(alpha) = {alpha} (mean score) = {np.mean(scores_l1_aux)}')"
   ]
  },
  {
   "cell_type": "code",
   "execution_count": 24,
   "metadata": {},
   "outputs": [
    {
     "name": "stdout",
     "output_type": "stream",
     "text": [
      "(alpha) = 0.0001 (mean score) = -2852.1049703227322\n",
      "(alpha) = 0.001 (mean score) = -2850.397224777069\n",
      "(alpha) = 0.01 (mean score) = -2837.245342899684\n",
      "(alpha) = 0.1 (mean score) = -2824.079357114376\n",
      "(alpha) = 0.3 (mean score) = -2945.1868482690115\n",
      "(alpha) = 0.5 (mean score) = -3096.736508634952\n",
      "(alpha) = 0.7 (mean score) = -3242.3180993881233\n",
      "(alpha) = 0.9 (mean score) = -3375.807806328144\n",
      "(alpha) = 1 (mean score) = -3437.860043322277\n"
     ]
    }
   ],
   "source": [
    "for alpha in [0.0001, 0.001, 0.01, .1, .3, .5, .7, .9, 1]:\n",
    "  reg_l2_aux = Ridge(alpha=alpha)\n",
    "  scores_l2_aux = cross_val_score(reg_l2_aux, X_train, y_train, cv=5, scoring='neg_mean_squared_error')\n",
    "  print(f'(alpha) = {alpha} (mean score) = {np.mean(scores_l2_aux)}')"
   ]
  },
  {
   "cell_type": "code",
   "execution_count": 25,
   "metadata": {},
   "outputs": [],
   "source": [
    "regr_sel = Ridge(alpha=0.1)\n",
    "regr_sel.fit(X_train, y_train)\n",
    "y_pred_sel = regr_sel.predict(X_test)"
   ]
  },
  {
   "cell_type": "code",
   "execution_count": 26,
   "metadata": {},
   "outputs": [
    {
     "data": {
      "text/plain": [
       "array([  46.47147841, -311.76646806,  526.87529167,  330.02858433,\n",
       "       -119.33753279, -353.94548094,   78.24122992,  306.18167767,\n",
       "        103.97710265])"
      ]
     },
     "execution_count": 26,
     "metadata": {},
     "output_type": "execute_result"
    }
   ],
   "source": [
    "regr_sel.coef_"
   ]
  },
  {
   "cell_type": "code",
   "execution_count": 27,
   "metadata": {},
   "outputs": [
    {
     "data": {
      "text/plain": [
       "736073.3662521566"
      ]
     },
     "execution_count": 27,
     "metadata": {},
     "output_type": "execute_result"
    }
   ],
   "source": [
    "np.sum(np.square(regr_sel.coef_))"
   ]
  },
  {
   "cell_type": "code",
   "execution_count": 28,
   "metadata": {},
   "outputs": [
    {
     "data": {
      "text/plain": [
       "array([  45.95879728, -318.71387043,  531.80227929,  334.49643095,\n",
       "       -117.19490014, -367.47297966,   66.15454637,  309.47894263,\n",
       "        103.1731715 ])"
      ]
     },
     "execution_count": 28,
     "metadata": {},
     "output_type": "execute_result"
    }
   ],
   "source": [
    "regr.coef_"
   ]
  },
  {
   "cell_type": "code",
   "execution_count": 29,
   "metadata": {},
   "outputs": [
    {
     "data": {
      "text/plain": [
       "757961.6474814417"
      ]
     },
     "execution_count": 29,
     "metadata": {},
     "output_type": "execute_result"
    }
   ],
   "source": [
    "np.sum(np.square(regr.coef_))"
   ]
  },
  {
   "cell_type": "markdown",
   "metadata": {},
   "source": [
    "This is sometimes used as a way to measure the overall complexity or \"size\" of the coefficients in a linear regression model. It can be useful for regularization techniques or for assessing the importance of features in the model. Higher values indicate larger coefficients, which might imply that certain features have more influence on the model's predictions."
   ]
  },
  {
   "cell_type": "code",
   "execution_count": 30,
   "metadata": {},
   "outputs": [
    {
     "name": "stdout",
     "output_type": "stream",
     "text": [
      "MSE\n",
      "===\n",
      "\n",
      "(base regresssion) = 3491.88278923739\n",
      "(Ridge) = 3485.1443313888\n"
     ]
    }
   ],
   "source": [
    "print(\"MSE\")\n",
    "print(\"===\\n\")\n",
    "print(f'(base regresssion) = {mean_squared_error(y_test, y_pred)}')\n",
    "print(f'(Ridge) = {mean_squared_error(y_test, y_pred_sel)}')"
   ]
  },
  {
   "cell_type": "markdown",
   "metadata": {
    "id": "4EpobFtM9rcg"
   },
   "source": [
    "## Houses price prediction\n",
    "\n",
    "Este dataset contiene datos y precios de casas de King County, Washington. Los datos refieren a casas vendidas entre mayo de 2014 y mayo de 2015."
   ]
  }
 ],
 "metadata": {
  "colab": {
   "name": "3_regresiones_solved.ipynb",
   "provenance": []
  },
  "kernelspec": {
   "display_name": "Python 3.9.17 64-bit",
   "language": "python",
   "name": "python3"
  },
  "language_info": {
   "codemirror_mode": {
    "name": "ipython",
    "version": 3
   },
   "file_extension": ".py",
   "mimetype": "text/x-python",
   "name": "python",
   "nbconvert_exporter": "python",
   "pygments_lexer": "ipython3",
   "version": "3.10.10"
  },
  "vscode": {
   "interpreter": {
    "hash": "397704579725e15f5c7cb49fe5f0341eb7531c82d19f2c29d197e8b64ab5776b"
   }
  },
  "widgets": {
   "application/vnd.jupyter.widget-state+json": {
    "03bdf8d89df5472c9a9076fbdff5546d": {
     "model_module": "@jupyter-widgets/base",
     "model_module_version": "1.2.0",
     "model_name": "LayoutModel",
     "state": {
      "_model_module": "@jupyter-widgets/base",
      "_model_module_version": "1.2.0",
      "_model_name": "LayoutModel",
      "_view_count": null,
      "_view_module": "@jupyter-widgets/base",
      "_view_module_version": "1.2.0",
      "_view_name": "LayoutView",
      "align_content": null,
      "align_items": null,
      "align_self": null,
      "border": null,
      "bottom": null,
      "display": null,
      "flex": null,
      "flex_flow": null,
      "grid_area": null,
      "grid_auto_columns": null,
      "grid_auto_flow": null,
      "grid_auto_rows": null,
      "grid_column": null,
      "grid_gap": null,
      "grid_row": null,
      "grid_template_areas": null,
      "grid_template_columns": null,
      "grid_template_rows": null,
      "height": null,
      "justify_content": null,
      "justify_items": null,
      "left": null,
      "margin": null,
      "max_height": null,
      "max_width": null,
      "min_height": null,
      "min_width": null,
      "object_fit": null,
      "object_position": null,
      "order": null,
      "overflow": null,
      "overflow_x": null,
      "overflow_y": null,
      "padding": null,
      "right": null,
      "top": null,
      "visibility": null,
      "width": null
     }
    },
    "109905d239a14a9796e1704ad3914d24": {
     "model_module": "@jupyter-widgets/controls",
     "model_module_version": "1.5.0",
     "model_name": "HBoxModel",
     "state": {
      "_dom_classes": [],
      "_model_module": "@jupyter-widgets/controls",
      "_model_module_version": "1.5.0",
      "_model_name": "HBoxModel",
      "_view_count": null,
      "_view_module": "@jupyter-widgets/controls",
      "_view_module_version": "1.5.0",
      "_view_name": "HBoxView",
      "box_style": "",
      "children": [
       "IPY_MODEL_e27233c6fb6c4f62afb7bbd501c61d9c",
       "IPY_MODEL_6c79af7b499b424393e45c6608b18178",
       "IPY_MODEL_55275ea91b504153b188a6faeb7f5612"
      ],
      "layout": "IPY_MODEL_38dab32717cb4b99ad4d1e1621c89bce"
     }
    },
    "174fbc931be44327a3d846c4d1fd7fb7": {
     "model_module": "@jupyter-widgets/controls",
     "model_module_version": "1.5.0",
     "model_name": "ProgressStyleModel",
     "state": {
      "_model_module": "@jupyter-widgets/controls",
      "_model_module_version": "1.5.0",
      "_model_name": "ProgressStyleModel",
      "_view_count": null,
      "_view_module": "@jupyter-widgets/base",
      "_view_module_version": "1.2.0",
      "_view_name": "StyleView",
      "bar_color": null,
      "description_width": ""
     }
    },
    "187f2f650a464271aedfad794c106c4c": {
     "model_module": "@jupyter-widgets/base",
     "model_module_version": "1.2.0",
     "model_name": "LayoutModel",
     "state": {
      "_model_module": "@jupyter-widgets/base",
      "_model_module_version": "1.2.0",
      "_model_name": "LayoutModel",
      "_view_count": null,
      "_view_module": "@jupyter-widgets/base",
      "_view_module_version": "1.2.0",
      "_view_name": "LayoutView",
      "align_content": null,
      "align_items": null,
      "align_self": null,
      "border": null,
      "bottom": null,
      "display": null,
      "flex": null,
      "flex_flow": null,
      "grid_area": null,
      "grid_auto_columns": null,
      "grid_auto_flow": null,
      "grid_auto_rows": null,
      "grid_column": null,
      "grid_gap": null,
      "grid_row": null,
      "grid_template_areas": null,
      "grid_template_columns": null,
      "grid_template_rows": null,
      "height": null,
      "justify_content": null,
      "justify_items": null,
      "left": null,
      "margin": null,
      "max_height": null,
      "max_width": null,
      "min_height": null,
      "min_width": null,
      "object_fit": null,
      "object_position": null,
      "order": null,
      "overflow": null,
      "overflow_x": null,
      "overflow_y": null,
      "padding": null,
      "right": null,
      "top": null,
      "visibility": null,
      "width": null
     }
    },
    "1c3cf778c44746dca53972caec8909ce": {
     "model_module": "@jupyter-widgets/controls",
     "model_module_version": "1.5.0",
     "model_name": "ProgressStyleModel",
     "state": {
      "_model_module": "@jupyter-widgets/controls",
      "_model_module_version": "1.5.0",
      "_model_name": "ProgressStyleModel",
      "_view_count": null,
      "_view_module": "@jupyter-widgets/base",
      "_view_module_version": "1.2.0",
      "_view_name": "StyleView",
      "bar_color": null,
      "description_width": ""
     }
    },
    "1dbd1de4883e434fb612a82bed40f5c8": {
     "model_module": "@jupyter-widgets/controls",
     "model_module_version": "1.5.0",
     "model_name": "FloatProgressModel",
     "state": {
      "_dom_classes": [],
      "_model_module": "@jupyter-widgets/controls",
      "_model_module_version": "1.5.0",
      "_model_name": "FloatProgressModel",
      "_view_count": null,
      "_view_module": "@jupyter-widgets/controls",
      "_view_module_version": "1.5.0",
      "_view_name": "ProgressView",
      "bar_style": "success",
      "description": "",
      "description_tooltip": null,
      "layout": "IPY_MODEL_6bd199f5dfd74b10919cdfcc2fbab044",
      "max": 1,
      "min": 0,
      "orientation": "horizontal",
      "style": "IPY_MODEL_1c3cf778c44746dca53972caec8909ce",
      "value": 1
     }
    },
    "22884d6b6243403885a31d448b4df3f3": {
     "model_module": "@jupyter-widgets/controls",
     "model_module_version": "1.5.0",
     "model_name": "DescriptionStyleModel",
     "state": {
      "_model_module": "@jupyter-widgets/controls",
      "_model_module_version": "1.5.0",
      "_model_name": "DescriptionStyleModel",
      "_view_count": null,
      "_view_module": "@jupyter-widgets/base",
      "_view_module_version": "1.2.0",
      "_view_name": "StyleView",
      "description_width": ""
     }
    },
    "388808cce74945e3808c8e1e2f181f28": {
     "model_module": "@jupyter-widgets/base",
     "model_module_version": "1.2.0",
     "model_name": "LayoutModel",
     "state": {
      "_model_module": "@jupyter-widgets/base",
      "_model_module_version": "1.2.0",
      "_model_name": "LayoutModel",
      "_view_count": null,
      "_view_module": "@jupyter-widgets/base",
      "_view_module_version": "1.2.0",
      "_view_name": "LayoutView",
      "align_content": null,
      "align_items": null,
      "align_self": null,
      "border": null,
      "bottom": null,
      "display": null,
      "flex": null,
      "flex_flow": null,
      "grid_area": null,
      "grid_auto_columns": null,
      "grid_auto_flow": null,
      "grid_auto_rows": null,
      "grid_column": null,
      "grid_gap": null,
      "grid_row": null,
      "grid_template_areas": null,
      "grid_template_columns": null,
      "grid_template_rows": null,
      "height": null,
      "justify_content": null,
      "justify_items": null,
      "left": null,
      "margin": null,
      "max_height": null,
      "max_width": null,
      "min_height": null,
      "min_width": null,
      "object_fit": null,
      "object_position": null,
      "order": null,
      "overflow": null,
      "overflow_x": null,
      "overflow_y": null,
      "padding": null,
      "right": null,
      "top": null,
      "visibility": null,
      "width": null
     }
    },
    "38dab32717cb4b99ad4d1e1621c89bce": {
     "model_module": "@jupyter-widgets/base",
     "model_module_version": "1.2.0",
     "model_name": "LayoutModel",
     "state": {
      "_model_module": "@jupyter-widgets/base",
      "_model_module_version": "1.2.0",
      "_model_name": "LayoutModel",
      "_view_count": null,
      "_view_module": "@jupyter-widgets/base",
      "_view_module_version": "1.2.0",
      "_view_name": "LayoutView",
      "align_content": null,
      "align_items": null,
      "align_self": null,
      "border": null,
      "bottom": null,
      "display": null,
      "flex": null,
      "flex_flow": null,
      "grid_area": null,
      "grid_auto_columns": null,
      "grid_auto_flow": null,
      "grid_auto_rows": null,
      "grid_column": null,
      "grid_gap": null,
      "grid_row": null,
      "grid_template_areas": null,
      "grid_template_columns": null,
      "grid_template_rows": null,
      "height": null,
      "justify_content": null,
      "justify_items": null,
      "left": null,
      "margin": null,
      "max_height": null,
      "max_width": null,
      "min_height": null,
      "min_width": null,
      "object_fit": null,
      "object_position": null,
      "order": null,
      "overflow": null,
      "overflow_x": null,
      "overflow_y": null,
      "padding": null,
      "right": null,
      "top": null,
      "visibility": null,
      "width": null
     }
    },
    "4d26e7e86e0644d3b471ca7a6c482744": {
     "model_module": "@jupyter-widgets/controls",
     "model_module_version": "1.5.0",
     "model_name": "HBoxModel",
     "state": {
      "_dom_classes": [],
      "_model_module": "@jupyter-widgets/controls",
      "_model_module_version": "1.5.0",
      "_model_name": "HBoxModel",
      "_view_count": null,
      "_view_module": "@jupyter-widgets/controls",
      "_view_module_version": "1.5.0",
      "_view_name": "HBoxView",
      "box_style": "",
      "children": [
       "IPY_MODEL_834197a03c7b4382a0a335314a0b6bd7",
       "IPY_MODEL_1dbd1de4883e434fb612a82bed40f5c8",
       "IPY_MODEL_51a4c2bc791b421f8153332708a25c58"
      ],
      "layout": "IPY_MODEL_187f2f650a464271aedfad794c106c4c"
     }
    },
    "510c71f8b380415aac7f9ddeb7560d26": {
     "model_module": "@jupyter-widgets/controls",
     "model_module_version": "1.5.0",
     "model_name": "HTMLModel",
     "state": {
      "_dom_classes": [],
      "_model_module": "@jupyter-widgets/controls",
      "_model_module_version": "1.5.0",
      "_model_name": "HTMLModel",
      "_view_count": null,
      "_view_module": "@jupyter-widgets/controls",
      "_view_module_version": "1.5.0",
      "_view_name": "HTMLView",
      "description": "",
      "description_tooltip": null,
      "layout": "IPY_MODEL_d95488e144d34742a1f4716da873710a",
      "placeholder": "​",
      "style": "IPY_MODEL_d48d3037aaaf46faa8df2e4b7803e7b0",
      "value": "Summarize dataset: 100%"
     }
    },
    "51a4c2bc791b421f8153332708a25c58": {
     "model_module": "@jupyter-widgets/controls",
     "model_module_version": "1.5.0",
     "model_name": "HTMLModel",
     "state": {
      "_dom_classes": [],
      "_model_module": "@jupyter-widgets/controls",
      "_model_module_version": "1.5.0",
      "_model_name": "HTMLModel",
      "_view_count": null,
      "_view_module": "@jupyter-widgets/controls",
      "_view_module_version": "1.5.0",
      "_view_name": "HTMLView",
      "description": "",
      "description_tooltip": null,
      "layout": "IPY_MODEL_388808cce74945e3808c8e1e2f181f28",
      "placeholder": "​",
      "style": "IPY_MODEL_22884d6b6243403885a31d448b4df3f3",
      "value": " 1/1 [00:03&lt;00:00,  3.66s/it]"
     }
    },
    "55275ea91b504153b188a6faeb7f5612": {
     "model_module": "@jupyter-widgets/controls",
     "model_module_version": "1.5.0",
     "model_name": "HTMLModel",
     "state": {
      "_dom_classes": [],
      "_model_module": "@jupyter-widgets/controls",
      "_model_module_version": "1.5.0",
      "_model_name": "HTMLModel",
      "_view_count": null,
      "_view_module": "@jupyter-widgets/controls",
      "_view_module_version": "1.5.0",
      "_view_name": "HTMLView",
      "description": "",
      "description_tooltip": null,
      "layout": "IPY_MODEL_03bdf8d89df5472c9a9076fbdff5546d",
      "placeholder": "​",
      "style": "IPY_MODEL_7e10a4c8118a4dd086bbc7916bfa5fa8",
      "value": " 1/1 [00:06&lt;00:00,  6.81s/it]"
     }
    },
    "58bf70903c3446af8cf582dcd26b89e4": {
     "model_module": "@jupyter-widgets/base",
     "model_module_version": "1.2.0",
     "model_name": "LayoutModel",
     "state": {
      "_model_module": "@jupyter-widgets/base",
      "_model_module_version": "1.2.0",
      "_model_name": "LayoutModel",
      "_view_count": null,
      "_view_module": "@jupyter-widgets/base",
      "_view_module_version": "1.2.0",
      "_view_name": "LayoutView",
      "align_content": null,
      "align_items": null,
      "align_self": null,
      "border": null,
      "bottom": null,
      "display": null,
      "flex": null,
      "flex_flow": null,
      "grid_area": null,
      "grid_auto_columns": null,
      "grid_auto_flow": null,
      "grid_auto_rows": null,
      "grid_column": null,
      "grid_gap": null,
      "grid_row": null,
      "grid_template_areas": null,
      "grid_template_columns": null,
      "grid_template_rows": null,
      "height": null,
      "justify_content": null,
      "justify_items": null,
      "left": null,
      "margin": null,
      "max_height": null,
      "max_width": null,
      "min_height": null,
      "min_width": null,
      "object_fit": null,
      "object_position": null,
      "order": null,
      "overflow": null,
      "overflow_x": null,
      "overflow_y": null,
      "padding": null,
      "right": null,
      "top": null,
      "visibility": null,
      "width": null
     }
    },
    "5a446e638c334f0d9f1b006f31498f2a": {
     "model_module": "@jupyter-widgets/base",
     "model_module_version": "1.2.0",
     "model_name": "LayoutModel",
     "state": {
      "_model_module": "@jupyter-widgets/base",
      "_model_module_version": "1.2.0",
      "_model_name": "LayoutModel",
      "_view_count": null,
      "_view_module": "@jupyter-widgets/base",
      "_view_module_version": "1.2.0",
      "_view_name": "LayoutView",
      "align_content": null,
      "align_items": null,
      "align_self": null,
      "border": null,
      "bottom": null,
      "display": null,
      "flex": null,
      "flex_flow": null,
      "grid_area": null,
      "grid_auto_columns": null,
      "grid_auto_flow": null,
      "grid_auto_rows": null,
      "grid_column": null,
      "grid_gap": null,
      "grid_row": null,
      "grid_template_areas": null,
      "grid_template_columns": null,
      "grid_template_rows": null,
      "height": null,
      "justify_content": null,
      "justify_items": null,
      "left": null,
      "margin": null,
      "max_height": null,
      "max_width": null,
      "min_height": null,
      "min_width": null,
      "object_fit": null,
      "object_position": null,
      "order": null,
      "overflow": null,
      "overflow_x": null,
      "overflow_y": null,
      "padding": null,
      "right": null,
      "top": null,
      "visibility": null,
      "width": null
     }
    },
    "61f41f3f60994cc18df06a4faf874593": {
     "model_module": "@jupyter-widgets/controls",
     "model_module_version": "1.5.0",
     "model_name": "DescriptionStyleModel",
     "state": {
      "_model_module": "@jupyter-widgets/controls",
      "_model_module_version": "1.5.0",
      "_model_name": "DescriptionStyleModel",
      "_view_count": null,
      "_view_module": "@jupyter-widgets/base",
      "_view_module_version": "1.2.0",
      "_view_name": "StyleView",
      "description_width": ""
     }
    },
    "642a8a3f554b431aa745b1b1d29dcafa": {
     "model_module": "@jupyter-widgets/controls",
     "model_module_version": "1.5.0",
     "model_name": "HBoxModel",
     "state": {
      "_dom_classes": [],
      "_model_module": "@jupyter-widgets/controls",
      "_model_module_version": "1.5.0",
      "_model_name": "HBoxModel",
      "_view_count": null,
      "_view_module": "@jupyter-widgets/controls",
      "_view_module_version": "1.5.0",
      "_view_name": "HBoxView",
      "box_style": "",
      "children": [
       "IPY_MODEL_510c71f8b380415aac7f9ddeb7560d26",
       "IPY_MODEL_d723234e459a45a88440790041102c3c",
       "IPY_MODEL_d870e4c9040f4588bc9849d030aefaf0"
      ],
      "layout": "IPY_MODEL_58bf70903c3446af8cf582dcd26b89e4"
     }
    },
    "6bd199f5dfd74b10919cdfcc2fbab044": {
     "model_module": "@jupyter-widgets/base",
     "model_module_version": "1.2.0",
     "model_name": "LayoutModel",
     "state": {
      "_model_module": "@jupyter-widgets/base",
      "_model_module_version": "1.2.0",
      "_model_name": "LayoutModel",
      "_view_count": null,
      "_view_module": "@jupyter-widgets/base",
      "_view_module_version": "1.2.0",
      "_view_name": "LayoutView",
      "align_content": null,
      "align_items": null,
      "align_self": null,
      "border": null,
      "bottom": null,
      "display": null,
      "flex": null,
      "flex_flow": null,
      "grid_area": null,
      "grid_auto_columns": null,
      "grid_auto_flow": null,
      "grid_auto_rows": null,
      "grid_column": null,
      "grid_gap": null,
      "grid_row": null,
      "grid_template_areas": null,
      "grid_template_columns": null,
      "grid_template_rows": null,
      "height": null,
      "justify_content": null,
      "justify_items": null,
      "left": null,
      "margin": null,
      "max_height": null,
      "max_width": null,
      "min_height": null,
      "min_width": null,
      "object_fit": null,
      "object_position": null,
      "order": null,
      "overflow": null,
      "overflow_x": null,
      "overflow_y": null,
      "padding": null,
      "right": null,
      "top": null,
      "visibility": null,
      "width": null
     }
    },
    "6c79af7b499b424393e45c6608b18178": {
     "model_module": "@jupyter-widgets/controls",
     "model_module_version": "1.5.0",
     "model_name": "FloatProgressModel",
     "state": {
      "_dom_classes": [],
      "_model_module": "@jupyter-widgets/controls",
      "_model_module_version": "1.5.0",
      "_model_name": "FloatProgressModel",
      "_view_count": null,
      "_view_module": "@jupyter-widgets/controls",
      "_view_module_version": "1.5.0",
      "_view_name": "ProgressView",
      "bar_style": "success",
      "description": "",
      "description_tooltip": null,
      "layout": "IPY_MODEL_c7524aaa9b4a45fd805f6e3f31976fce",
      "max": 1,
      "min": 0,
      "orientation": "horizontal",
      "style": "IPY_MODEL_174fbc931be44327a3d846c4d1fd7fb7",
      "value": 1
     }
    },
    "7e10a4c8118a4dd086bbc7916bfa5fa8": {
     "model_module": "@jupyter-widgets/controls",
     "model_module_version": "1.5.0",
     "model_name": "DescriptionStyleModel",
     "state": {
      "_model_module": "@jupyter-widgets/controls",
      "_model_module_version": "1.5.0",
      "_model_name": "DescriptionStyleModel",
      "_view_count": null,
      "_view_module": "@jupyter-widgets/base",
      "_view_module_version": "1.2.0",
      "_view_name": "StyleView",
      "description_width": ""
     }
    },
    "834197a03c7b4382a0a335314a0b6bd7": {
     "model_module": "@jupyter-widgets/controls",
     "model_module_version": "1.5.0",
     "model_name": "HTMLModel",
     "state": {
      "_dom_classes": [],
      "_model_module": "@jupyter-widgets/controls",
      "_model_module_version": "1.5.0",
      "_model_name": "HTMLModel",
      "_view_count": null,
      "_view_module": "@jupyter-widgets/controls",
      "_view_module_version": "1.5.0",
      "_view_name": "HTMLView",
      "description": "",
      "description_tooltip": null,
      "layout": "IPY_MODEL_b7d9f47c5e914fd88aef59f468a4742e",
      "placeholder": "​",
      "style": "IPY_MODEL_61f41f3f60994cc18df06a4faf874593",
      "value": "Render HTML: 100%"
     }
    },
    "90e478ca5f6344c19676c52856947d71": {
     "model_module": "@jupyter-widgets/controls",
     "model_module_version": "1.5.0",
     "model_name": "DescriptionStyleModel",
     "state": {
      "_model_module": "@jupyter-widgets/controls",
      "_model_module_version": "1.5.0",
      "_model_name": "DescriptionStyleModel",
      "_view_count": null,
      "_view_module": "@jupyter-widgets/base",
      "_view_module_version": "1.2.0",
      "_view_name": "StyleView",
      "description_width": ""
     }
    },
    "9fce32a2442a4a6fae88661a36404b8f": {
     "model_module": "@jupyter-widgets/controls",
     "model_module_version": "1.5.0",
     "model_name": "ProgressStyleModel",
     "state": {
      "_model_module": "@jupyter-widgets/controls",
      "_model_module_version": "1.5.0",
      "_model_name": "ProgressStyleModel",
      "_view_count": null,
      "_view_module": "@jupyter-widgets/base",
      "_view_module_version": "1.2.0",
      "_view_name": "StyleView",
      "bar_color": null,
      "description_width": ""
     }
    },
    "ac9ea9f1930149ed8ab880801bc3a055": {
     "model_module": "@jupyter-widgets/base",
     "model_module_version": "1.2.0",
     "model_name": "LayoutModel",
     "state": {
      "_model_module": "@jupyter-widgets/base",
      "_model_module_version": "1.2.0",
      "_model_name": "LayoutModel",
      "_view_count": null,
      "_view_module": "@jupyter-widgets/base",
      "_view_module_version": "1.2.0",
      "_view_name": "LayoutView",
      "align_content": null,
      "align_items": null,
      "align_self": null,
      "border": null,
      "bottom": null,
      "display": null,
      "flex": null,
      "flex_flow": null,
      "grid_area": null,
      "grid_auto_columns": null,
      "grid_auto_flow": null,
      "grid_auto_rows": null,
      "grid_column": null,
      "grid_gap": null,
      "grid_row": null,
      "grid_template_areas": null,
      "grid_template_columns": null,
      "grid_template_rows": null,
      "height": null,
      "justify_content": null,
      "justify_items": null,
      "left": null,
      "margin": null,
      "max_height": null,
      "max_width": null,
      "min_height": null,
      "min_width": null,
      "object_fit": null,
      "object_position": null,
      "order": null,
      "overflow": null,
      "overflow_x": null,
      "overflow_y": null,
      "padding": null,
      "right": null,
      "top": null,
      "visibility": null,
      "width": null
     }
    },
    "b7d9f47c5e914fd88aef59f468a4742e": {
     "model_module": "@jupyter-widgets/base",
     "model_module_version": "1.2.0",
     "model_name": "LayoutModel",
     "state": {
      "_model_module": "@jupyter-widgets/base",
      "_model_module_version": "1.2.0",
      "_model_name": "LayoutModel",
      "_view_count": null,
      "_view_module": "@jupyter-widgets/base",
      "_view_module_version": "1.2.0",
      "_view_name": "LayoutView",
      "align_content": null,
      "align_items": null,
      "align_self": null,
      "border": null,
      "bottom": null,
      "display": null,
      "flex": null,
      "flex_flow": null,
      "grid_area": null,
      "grid_auto_columns": null,
      "grid_auto_flow": null,
      "grid_auto_rows": null,
      "grid_column": null,
      "grid_gap": null,
      "grid_row": null,
      "grid_template_areas": null,
      "grid_template_columns": null,
      "grid_template_rows": null,
      "height": null,
      "justify_content": null,
      "justify_items": null,
      "left": null,
      "margin": null,
      "max_height": null,
      "max_width": null,
      "min_height": null,
      "min_width": null,
      "object_fit": null,
      "object_position": null,
      "order": null,
      "overflow": null,
      "overflow_x": null,
      "overflow_y": null,
      "padding": null,
      "right": null,
      "top": null,
      "visibility": null,
      "width": null
     }
    },
    "c7524aaa9b4a45fd805f6e3f31976fce": {
     "model_module": "@jupyter-widgets/base",
     "model_module_version": "1.2.0",
     "model_name": "LayoutModel",
     "state": {
      "_model_module": "@jupyter-widgets/base",
      "_model_module_version": "1.2.0",
      "_model_name": "LayoutModel",
      "_view_count": null,
      "_view_module": "@jupyter-widgets/base",
      "_view_module_version": "1.2.0",
      "_view_name": "LayoutView",
      "align_content": null,
      "align_items": null,
      "align_self": null,
      "border": null,
      "bottom": null,
      "display": null,
      "flex": null,
      "flex_flow": null,
      "grid_area": null,
      "grid_auto_columns": null,
      "grid_auto_flow": null,
      "grid_auto_rows": null,
      "grid_column": null,
      "grid_gap": null,
      "grid_row": null,
      "grid_template_areas": null,
      "grid_template_columns": null,
      "grid_template_rows": null,
      "height": null,
      "justify_content": null,
      "justify_items": null,
      "left": null,
      "margin": null,
      "max_height": null,
      "max_width": null,
      "min_height": null,
      "min_width": null,
      "object_fit": null,
      "object_position": null,
      "order": null,
      "overflow": null,
      "overflow_x": null,
      "overflow_y": null,
      "padding": null,
      "right": null,
      "top": null,
      "visibility": null,
      "width": null
     }
    },
    "d48d3037aaaf46faa8df2e4b7803e7b0": {
     "model_module": "@jupyter-widgets/controls",
     "model_module_version": "1.5.0",
     "model_name": "DescriptionStyleModel",
     "state": {
      "_model_module": "@jupyter-widgets/controls",
      "_model_module_version": "1.5.0",
      "_model_name": "DescriptionStyleModel",
      "_view_count": null,
      "_view_module": "@jupyter-widgets/base",
      "_view_module_version": "1.2.0",
      "_view_name": "StyleView",
      "description_width": ""
     }
    },
    "d723234e459a45a88440790041102c3c": {
     "model_module": "@jupyter-widgets/controls",
     "model_module_version": "1.5.0",
     "model_name": "FloatProgressModel",
     "state": {
      "_dom_classes": [],
      "_model_module": "@jupyter-widgets/controls",
      "_model_module_version": "1.5.0",
      "_model_name": "FloatProgressModel",
      "_view_count": null,
      "_view_module": "@jupyter-widgets/controls",
      "_view_module_version": "1.5.0",
      "_view_name": "ProgressView",
      "bar_style": "success",
      "description": "",
      "description_tooltip": null,
      "layout": "IPY_MODEL_d97bab5f83a247fc8fb4eb758f55a94c",
      "max": 24,
      "min": 0,
      "orientation": "horizontal",
      "style": "IPY_MODEL_9fce32a2442a4a6fae88661a36404b8f",
      "value": 24
     }
    },
    "d870e4c9040f4588bc9849d030aefaf0": {
     "model_module": "@jupyter-widgets/controls",
     "model_module_version": "1.5.0",
     "model_name": "HTMLModel",
     "state": {
      "_dom_classes": [],
      "_model_module": "@jupyter-widgets/controls",
      "_model_module_version": "1.5.0",
      "_model_name": "HTMLModel",
      "_view_count": null,
      "_view_module": "@jupyter-widgets/controls",
      "_view_module_version": "1.5.0",
      "_view_name": "HTMLView",
      "description": "",
      "description_tooltip": null,
      "layout": "IPY_MODEL_5a446e638c334f0d9f1b006f31498f2a",
      "placeholder": "​",
      "style": "IPY_MODEL_e0f9cdc4ca8746f5914788f0cc70cd4b",
      "value": " 24/24 [00:17&lt;00:00,  1.42s/it, Completed]"
     }
    },
    "d95488e144d34742a1f4716da873710a": {
     "model_module": "@jupyter-widgets/base",
     "model_module_version": "1.2.0",
     "model_name": "LayoutModel",
     "state": {
      "_model_module": "@jupyter-widgets/base",
      "_model_module_version": "1.2.0",
      "_model_name": "LayoutModel",
      "_view_count": null,
      "_view_module": "@jupyter-widgets/base",
      "_view_module_version": "1.2.0",
      "_view_name": "LayoutView",
      "align_content": null,
      "align_items": null,
      "align_self": null,
      "border": null,
      "bottom": null,
      "display": null,
      "flex": null,
      "flex_flow": null,
      "grid_area": null,
      "grid_auto_columns": null,
      "grid_auto_flow": null,
      "grid_auto_rows": null,
      "grid_column": null,
      "grid_gap": null,
      "grid_row": null,
      "grid_template_areas": null,
      "grid_template_columns": null,
      "grid_template_rows": null,
      "height": null,
      "justify_content": null,
      "justify_items": null,
      "left": null,
      "margin": null,
      "max_height": null,
      "max_width": null,
      "min_height": null,
      "min_width": null,
      "object_fit": null,
      "object_position": null,
      "order": null,
      "overflow": null,
      "overflow_x": null,
      "overflow_y": null,
      "padding": null,
      "right": null,
      "top": null,
      "visibility": null,
      "width": null
     }
    },
    "d97bab5f83a247fc8fb4eb758f55a94c": {
     "model_module": "@jupyter-widgets/base",
     "model_module_version": "1.2.0",
     "model_name": "LayoutModel",
     "state": {
      "_model_module": "@jupyter-widgets/base",
      "_model_module_version": "1.2.0",
      "_model_name": "LayoutModel",
      "_view_count": null,
      "_view_module": "@jupyter-widgets/base",
      "_view_module_version": "1.2.0",
      "_view_name": "LayoutView",
      "align_content": null,
      "align_items": null,
      "align_self": null,
      "border": null,
      "bottom": null,
      "display": null,
      "flex": null,
      "flex_flow": null,
      "grid_area": null,
      "grid_auto_columns": null,
      "grid_auto_flow": null,
      "grid_auto_rows": null,
      "grid_column": null,
      "grid_gap": null,
      "grid_row": null,
      "grid_template_areas": null,
      "grid_template_columns": null,
      "grid_template_rows": null,
      "height": null,
      "justify_content": null,
      "justify_items": null,
      "left": null,
      "margin": null,
      "max_height": null,
      "max_width": null,
      "min_height": null,
      "min_width": null,
      "object_fit": null,
      "object_position": null,
      "order": null,
      "overflow": null,
      "overflow_x": null,
      "overflow_y": null,
      "padding": null,
      "right": null,
      "top": null,
      "visibility": null,
      "width": null
     }
    },
    "e0f9cdc4ca8746f5914788f0cc70cd4b": {
     "model_module": "@jupyter-widgets/controls",
     "model_module_version": "1.5.0",
     "model_name": "DescriptionStyleModel",
     "state": {
      "_model_module": "@jupyter-widgets/controls",
      "_model_module_version": "1.5.0",
      "_model_name": "DescriptionStyleModel",
      "_view_count": null,
      "_view_module": "@jupyter-widgets/base",
      "_view_module_version": "1.2.0",
      "_view_name": "StyleView",
      "description_width": ""
     }
    },
    "e27233c6fb6c4f62afb7bbd501c61d9c": {
     "model_module": "@jupyter-widgets/controls",
     "model_module_version": "1.5.0",
     "model_name": "HTMLModel",
     "state": {
      "_dom_classes": [],
      "_model_module": "@jupyter-widgets/controls",
      "_model_module_version": "1.5.0",
      "_model_name": "HTMLModel",
      "_view_count": null,
      "_view_module": "@jupyter-widgets/controls",
      "_view_module_version": "1.5.0",
      "_view_name": "HTMLView",
      "description": "",
      "description_tooltip": null,
      "layout": "IPY_MODEL_ac9ea9f1930149ed8ab880801bc3a055",
      "placeholder": "​",
      "style": "IPY_MODEL_90e478ca5f6344c19676c52856947d71",
      "value": "Generate report structure: 100%"
     }
    }
   }
  }
 },
 "nbformat": 4,
 "nbformat_minor": 1
}
