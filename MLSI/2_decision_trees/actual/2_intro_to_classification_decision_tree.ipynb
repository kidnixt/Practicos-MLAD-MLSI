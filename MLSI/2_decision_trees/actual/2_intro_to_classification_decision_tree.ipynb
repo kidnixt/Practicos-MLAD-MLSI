{
 "cells": [
  {
   "cell_type": "markdown",
   "metadata": {
    "id": "o2x7VQ4XMMTH"
   },
   "source": [
    "# Árboles de decisión y EDA\n",
    "La clase pasada estuvimos viendo un poco de estadística y EDA (exploratory data analysis).\n",
    "\n",
    "La primer mitad vamos a trabajar con el dataset de flores iris y la segunda mitad es para que ustedes trabajen con el dataset breast-cancer-wisconsin.data\n",
    "\n",
    "## Iris\n",
    "\n",
    "Iris es un dataset clásico para aquellos incursionando en el campo de Machine Learning. Se trata de una colección de 150 flores que deben ser categorizadas en 3 clases (Setosa, Versicolor, Virginica). Esto debe realizarse a partir de medidas tomadas sobre cada flor.\n",
    "\n",
    "\n",
    "Abajo comenzamos explorando el dataset y dejamos algunas tareas para que ustedes completen a medida que van avanzando. \n",
    "\n"
   ]
  },
  {
   "cell_type": "code",
   "execution_count": null,
   "metadata": {
    "id": "BuHDxq9FFCYq"
   },
   "outputs": [],
   "source": [
    "import numpy as np\n",
    "import pandas as pd\n",
    "import matplotlib.pyplot as plt\n",
    "from sklearn.datasets import load_iris\n",
    "\n",
    "iris_dataset = load_iris()\n",
    "iris_dataset.keys()\n"
   ]
  },
  {
   "cell_type": "code",
   "execution_count": null,
   "metadata": {},
   "outputs": [],
   "source": [
    "iris_dataset['feature_names']"
   ]
  },
  {
   "cell_type": "markdown",
   "metadata": {
    "id": "9eUlsCPfEBCt"
   },
   "source": [
    "### Explorar el dataset\n",
    "\n",
    "Lo primero que vamos a tener que hacer es cargar el dataset en un dataframe"
   ]
  },
  {
   "cell_type": "code",
   "execution_count": null,
   "metadata": {
    "colab": {
     "base_uri": "https://localhost:8080/"
    },
    "executionInfo": {
     "elapsed": 25,
     "status": "ok",
     "timestamp": 1630186371530,
     "user": {
      "displayName": "Federico Young Mendiola",
      "photoUrl": "",
      "userId": "13470236304085750724"
     },
     "user_tz": 180
    },
    "id": "dE5Xpf7CFE7F",
    "outputId": "280c72f3-29eb-49a9-f225-a03935c846f3"
   },
   "outputs": [],
   "source": [
    "#cargamos data al dataframe\n",
    "df = pd.DataFrame(iris_dataset['data'], columns=iris_dataset['feature_names'])\n",
    "#le agregamos el target\n",
    "df['target'] = iris_dataset['target']"
   ]
  },
  {
   "cell_type": "code",
   "execution_count": null,
   "metadata": {
    "colab": {
     "base_uri": "https://localhost:8080/"
    },
    "executionInfo": {
     "elapsed": 21,
     "status": "ok",
     "timestamp": 1630186371530,
     "user": {
      "displayName": "Federico Young Mendiola",
      "photoUrl": "",
      "userId": "13470236304085750724"
     },
     "user_tz": 180
    },
    "id": "kt3yP7_1So1-",
    "outputId": "ce809f9c-3244-438c-b574-bece999d9873"
   },
   "outputs": [],
   "source": [
    "df"
   ]
  },
  {
   "cell_type": "code",
   "execution_count": null,
   "metadata": {
    "colab": {
     "base_uri": "https://localhost:8080/",
     "height": 297
    },
    "executionInfo": {
     "elapsed": 16,
     "status": "ok",
     "timestamp": 1630186371531,
     "user": {
      "displayName": "Federico Young Mendiola",
      "photoUrl": "",
      "userId": "13470236304085750724"
     },
     "user_tz": 180
    },
    "id": "lX4GnnikJDaL",
    "outputId": "1ec19787-138e-4de5-cd2f-7fc34819990a"
   },
   "outputs": [],
   "source": [
    "df.describe()"
   ]
  },
  {
   "cell_type": "markdown",
   "metadata": {
    "id": "kq-rn8gfEBCv"
   },
   "source": [
    "### Plotting some features"
   ]
  },
  {
   "cell_type": "code",
   "execution_count": null,
   "metadata": {
    "colab": {
     "base_uri": "https://localhost:8080/",
     "height": 281
    },
    "executionInfo": {
     "elapsed": 15,
     "status": "ok",
     "timestamp": 1630186371531,
     "user": {
      "displayName": "Federico Young Mendiola",
      "photoUrl": "",
      "userId": "13470236304085750724"
     },
     "user_tz": 180
    },
    "id": "MGlIvJwHFE9J",
    "outputId": "9a872a65-1b67-491c-b0b7-470b2b38eff6"
   },
   "outputs": [],
   "source": [
    "colors = np.array([\"r\", \"g\", \"b\"])\n",
    "plt.scatter(iris_dataset.data[:, 0], iris_dataset.data[:, 1], color=colors[iris_dataset.target])\n",
    "plt.title(\"Sepal Length and Width\")\n",
    "plt.xlabel(\"Sepal Length\")\n",
    "plt.ylabel(\"Sepal Width\")\n",
    "plt.show()"
   ]
  },
  {
   "cell_type": "markdown",
   "metadata": {
    "id": "VakAgOP0EBCx"
   },
   "source": [
    "### Ejercicio 1\n",
    "Grafique el largo y ancho de los pétalos "
   ]
  },
  {
   "cell_type": "code",
   "execution_count": null,
   "metadata": {
    "executionInfo": {
     "elapsed": 4,
     "status": "ok",
     "timestamp": 1630191476400,
     "user": {
      "displayName": "Federico Young Mendiola",
      "photoUrl": "",
      "userId": "13470236304085750724"
     },
     "user_tz": 180
    },
    "id": "akXItKz6EBCy"
   },
   "outputs": [],
   "source": [
    "# Su código"
   ]
  },
  {
   "cell_type": "markdown",
   "metadata": {
    "id": "IPrD6XAXEBCy"
   },
   "source": [
    "¿Qué puede observar en ambas gráficas respecto a las tres clases? ¿Qué conclusiones puede tomar?\n"
   ]
  },
  {
   "cell_type": "markdown",
   "metadata": {
    "id": "DNHSBNwCL8x4"
   },
   "source": [
    "# Clasificación\n",
    "\n",
    "Para este problema de ejemplo vamos a entrenar un modelo sencillo basado en [Árboles de Decisión](https://scikit-learn.org/stable/modules/generated/sklearn.tree.DecisionTreeClassifier.html).\n",
    "\n",
    "Los árboles de decisión son algoritmos de Machine Learning supervisado. Se construye un arbol binario (cada nodo tiene dos ramas). Los valores objetivos se presentan en las hojas de los árboles.\n",
    "\n",
    "Antes de poder llegar a eso debemos dividir el dataset en conjuntos adecuados para **entrenar** y **testar** el modelo.\n"
   ]
  },
  {
   "cell_type": "markdown",
   "metadata": {},
   "source": [
    "### Ejercicio 2\n",
    "\n",
    "¿Por qué debemos separar el set de datos? Es decir, ¿por qué no podemos validar el resultado con los mismos datos con los que entrenamos?"
   ]
  },
  {
   "cell_type": "markdown",
   "metadata": {},
   "source": []
  },
  {
   "cell_type": "markdown",
   "metadata": {
    "id": "ip33QvrdEBCz"
   },
   "source": [
    "## Split train-test"
   ]
  },
  {
   "cell_type": "markdown",
   "metadata": {
    "id": "MoF6gemBEBCz"
   },
   "source": [
    "Usando sklearn separamos el dataset (y los targets) iniciales en dos: un set de entrenamiento y uno de test.\n"
   ]
  },
  {
   "cell_type": "code",
   "execution_count": null,
   "metadata": {
    "id": "_fqHrifkL6v0"
   },
   "outputs": [],
   "source": [
    "from sklearn.model_selection import train_test_split\n",
    "\n",
    "X_train, X_test, Y_train, Y_test = train_test_split(\n",
    "    df.drop('target', axis=1),\n",
    "    df['target'],\n",
    "    test_size=(1.0/3), random_state=42)\n",
    "\n",
    "print(f'df shape = {df.shape}')\n",
    "print('------------------------')\n",
    "print(f'X_train shape = {X_train.shape}\\n------------------------')\n",
    "print(f'Y_train shape = {Y_train.shape}\\n------------------------')\n",
    "print(f'X_test shape = {X_test.shape}\\n------------------------')\n",
    "print(f'Y_test shape = {Y_test.shape}')"
   ]
  },
  {
   "cell_type": "markdown",
   "metadata": {
    "id": "rEoBl2YMOtxp"
   },
   "source": [
    "Una vez separados los datos podemos crear un modelo y entrenarlo. Para ello, necesitamos un objeto de la clase `DecisionTreeClassifier`.\n",
    "\n",
    "Una vez creado el mismo, llamamos al método `fit` con los datos de entrenamiento para entrenarlo y luego podemos usar los métodos predict para obtener predicciones de las clases para los datos de test.\n"
   ]
  },
  {
   "cell_type": "markdown",
   "metadata": {
    "id": "oXQ67XxmEBC0"
   },
   "source": [
    "Entrenamiento de un árbol de decisión de profundidad máxima 3 para clasificar los datos\n",
    "\n",
    "Recuerden que pueden acceder a la documentación [aquí](https://scikit-learn.org/stable/modules/generated/sklearn.tree.DecisionTreeClassifier.html)\n"
   ]
  },
  {
   "cell_type": "code",
   "execution_count": null,
   "metadata": {
    "colab": {
     "base_uri": "https://localhost:8080/"
    },
    "executionInfo": {
     "elapsed": 13,
     "status": "ok",
     "timestamp": 1630186371532,
     "user": {
      "displayName": "Federico Young Mendiola",
      "photoUrl": "",
      "userId": "13470236304085750724"
     },
     "user_tz": 180
    },
    "id": "V9klIISuL7p5",
    "outputId": "be6b9940-eb14-4e69-dae9-18915e2cc4bf"
   },
   "outputs": [],
   "source": [
    "from sklearn.tree import DecisionTreeClassifier\n",
    "\n",
    "arbol = DecisionTreeClassifier(max_depth=3, criterion = 'entropy')\n",
    "\n",
    "# Hacemos el fit\n",
    "arbol.fit(X_train, Y_train)"
   ]
  },
  {
   "cell_type": "markdown",
   "metadata": {
    "id": "rkfif3UGuP3o"
   },
   "source": [
    "Plotting the Decision Tree"
   ]
  },
  {
   "cell_type": "code",
   "execution_count": null,
   "metadata": {
    "colab": {
     "base_uri": "https://localhost:8080/",
     "height": 575
    },
    "executionInfo": {
     "elapsed": 2218,
     "status": "ok",
     "timestamp": 1630186490215,
     "user": {
      "displayName": "Federico Young Mendiola",
      "photoUrl": "",
      "userId": "13470236304085750724"
     },
     "user_tz": 180
    },
    "id": "U8XsyRN8rQn_",
    "outputId": "a4addc93-7b9e-4fd7-c758-eda6ebf563d7"
   },
   "outputs": [],
   "source": [
    "from sklearn import tree\n",
    "fig = plt.figure(figsize=(15,10))\n",
    "tree.plot_tree(arbol, \n",
    "                   feature_names=iris_dataset.feature_names,  \n",
    "                   class_names=iris_dataset.target_names,\n",
    "                   filled=True,)"
   ]
  },
  {
   "cell_type": "code",
   "execution_count": null,
   "metadata": {
    "id": "IPfcFrZBsOmA"
   },
   "outputs": [],
   "source": [
    "fig.savefig(\"decision_tree.png\")"
   ]
  },
  {
   "cell_type": "markdown",
   "metadata": {
    "id": "qb7Rmk9bEBC1"
   },
   "source": [
    "### Ejercicio 3\n",
    "\n",
    "La accuracy es el porcentaje de datos que fueron clasificados correctamente\n",
    "\n",
    "¿Cuál fue la accuracy de los datos de test?\n"
   ]
  },
  {
   "cell_type": "code",
   "execution_count": null,
   "metadata": {
    "colab": {
     "base_uri": "https://localhost:8080/"
    },
    "executionInfo": {
     "elapsed": 389,
     "status": "ok",
     "timestamp": 1630187573626,
     "user": {
      "displayName": "Federico Young Mendiola",
      "photoUrl": "",
      "userId": "13470236304085750724"
     },
     "user_tz": 180
    },
    "id": "Ck6C0QHTP12E",
    "outputId": "95153b7b-8888-443b-a3cf-48244927f665"
   },
   "outputs": [],
   "source": [
    "from sklearn.metrics import accuracy_score\n",
    "\n",
    "Y_pred_test = arbol.predict(X_test)\n",
    "print(\"Accuracy de datos de test:\", accuracy_score(Y_pred_test, Y_test))"
   ]
  },
  {
   "cell_type": "markdown",
   "metadata": {},
   "source": [
    "### Ejercicio 4\n",
    "\n",
    "Armar un arbol de altura máxima 2 ¿Cuál de los dos es mejor?"
   ]
  },
  {
   "cell_type": "code",
   "execution_count": null,
   "metadata": {},
   "outputs": [],
   "source": [
    "#arbol2 = ...\n"
   ]
  },
  {
   "cell_type": "markdown",
   "metadata": {},
   "source": [
    "Matriz de Confusión"
   ]
  },
  {
   "cell_type": "code",
   "execution_count": null,
   "metadata": {
    "colab": {
     "base_uri": "https://localhost:8080/"
    },
    "executionInfo": {
     "elapsed": 382,
     "status": "ok",
     "timestamp": 1630188979445,
     "user": {
      "displayName": "Federico Young Mendiola",
      "photoUrl": "",
      "userId": "13470236304085750724"
     },
     "user_tz": 180
    },
    "id": "Bz7VXc82k7mU",
    "outputId": "c2f44ac0-4b7e-42af-ff1d-37aa13ad9439"
   },
   "outputs": [],
   "source": [
    "from sklearn.metrics import confusion_matrix, classification_report\n",
    "Y_pred1 = arbol.predict(X_test)\n",
    "Y_pred2 = arbol2.predict(X_test)\n",
    "print(\"Confusion Matrix Arbol 1\")       \n",
    "print(confusion_matrix(Y_test, Y_pred1))\n",
    "print(\"Confusion Matrix Arbol 2\")       \n",
    "print(confusion_matrix(Y_test, Y_pred2))\n",
    "print(\"--------------------------------\")\n",
    "print(\"Classification report Arbol 1\")\n",
    "print(classification_report(Y_test, Y_pred1, target_names = iris_dataset[\"target_names\"]))\n",
    "print(classification_report(Y_test, Y_pred2, target_names = iris_dataset[\"target_names\"]))"
   ]
  },
  {
   "cell_type": "markdown",
   "metadata": {},
   "source": [
    "También podemos imprimir la matriz de confusión más linda haciendo un plot"
   ]
  },
  {
   "cell_type": "code",
   "execution_count": null,
   "metadata": {
    "colab": {
     "base_uri": "https://localhost:8080/",
     "height": 296
    },
    "executionInfo": {
     "elapsed": 429,
     "status": "ok",
     "timestamp": 1630188693182,
     "user": {
      "displayName": "Federico Young Mendiola",
      "photoUrl": "",
      "userId": "13470236304085750724"
     },
     "user_tz": 180
    },
    "id": "NtkFLYU9zxyv",
    "outputId": "4c43bd73-a6a7-4a2d-e9fa-c3a20056cc47"
   },
   "outputs": [],
   "source": [
    "from sklearn.metrics import ConfusionMatrixDisplay\n",
    "\n",
    "cm = confusion_matrix(Y_test, Y_pred1)\n",
    "disp = ConfusionMatrixDisplay(confusion_matrix=cm)\n",
    "disp.plot()"
   ]
  },
  {
   "cell_type": "markdown",
   "metadata": {
    "id": "0frx7HtVV-nE"
   },
   "source": [
    "# Breast Cancer Wisconsin\n",
    "\n",
    "El dataset de Iris es muy sencillo y muy fácilmente podemos obtener 100% de precisión con un modelo simple. La tarea siguiente implica el uso de un dataset real para el cual van a tener que entrenar un Árbol de decisión para detectar cáncer de mama a partir de distintas mediciones. \n",
    "\n",
    "La descripción del dataset la pueden encontrar aquí: https://archive.ics.uci.edu/ml/datasets/Breast+Cancer+Wisconsin+%28Original%29"
   ]
  },
  {
   "cell_type": "markdown",
   "metadata": {},
   "source": [
    "Cargamos el nuevo df"
   ]
  },
  {
   "cell_type": "code",
   "execution_count": null,
   "metadata": {
    "id": "KxfFyI_p4b8d"
   },
   "outputs": [],
   "source": [
    "# breast_cancer_df = pd..."
   ]
  },
  {
   "cell_type": "markdown",
   "metadata": {},
   "source": [
    "Si hacemos `breast_cancer_df.head()` podemos ver que las columnas no tienen nombre"
   ]
  },
  {
   "cell_type": "code",
   "execution_count": null,
   "metadata": {
    "colab": {
     "base_uri": "https://localhost:8080/",
     "height": 204
    },
    "executionInfo": {
     "elapsed": 398,
     "status": "ok",
     "timestamp": 1630189749494,
     "user": {
      "displayName": "Federico Young Mendiola",
      "photoUrl": "",
      "userId": "13470236304085750724"
     },
     "user_tz": 180
    },
    "id": "XWA9do-lEBC3",
    "outputId": "281cc7bc-ee88-4bb4-abe8-37649f179544"
   },
   "outputs": [],
   "source": [
    "breast_cancer_df.head()"
   ]
  },
  {
   "cell_type": "markdown",
   "metadata": {},
   "source": [
    "Le podemos agregar el nombre a las columnas"
   ]
  },
  {
   "cell_type": "code",
   "execution_count": null,
   "metadata": {
    "colab": {
     "base_uri": "https://localhost:8080/",
     "height": 204
    },
    "executionInfo": {
     "elapsed": 708,
     "status": "ok",
     "timestamp": 1630189772505,
     "user": {
      "displayName": "Federico Young Mendiola",
      "photoUrl": "",
      "userId": "13470236304085750724"
     },
     "user_tz": 180
    },
    "id": "rsBygmntEBC3",
    "outputId": "32ec932c-26fe-46e5-9b3b-5706c13ac017"
   },
   "outputs": [],
   "source": [
    "breast_cancer_df.columns = [\"Id\", \"clump_thicknes\", \"cell_size\", \"cell_shape\", \"adhesion\", \"epithelial_cell_size\", \"nuclei\", \"chromatin\", \"nucleoli\", \"mitoses\", \"target\"]\n",
    "breast_cancer_df.head()"
   ]
  },
  {
   "cell_type": "code",
   "execution_count": null,
   "metadata": {
    "colab": {
     "base_uri": "https://localhost:8080/",
     "height": 204
    },
    "executionInfo": {
     "elapsed": 391,
     "status": "ok",
     "timestamp": 1630189790726,
     "user": {
      "displayName": "Federico Young Mendiola",
      "photoUrl": "",
      "userId": "13470236304085750724"
     },
     "user_tz": 180
    },
    "id": "42Kwmz7cYTAT",
    "outputId": "fe307aef-efb6-4fea-c5cc-379198388160"
   },
   "outputs": [],
   "source": [
    "# En el dataset las clases son 2 y 4 que representan Benigno y Maligno, vamos a reemplazarlas por 0 y 1 por simplicidad.\n",
    "breast_cancer_df[\"target\"].replace(2, 0, inplace=True)\n",
    "breast_cancer_df[\"target\"].replace(4, 1, inplace=True)\n",
    "\n",
    "# Opcion A) Eliminamos la columna de ID ya que no nos interesa\n",
    "breast_cancer_df.drop(columns=\"Id\", inplace=True)\n",
    "\n",
    "# Opcion B) Hacemos que el ID sea el Index\n",
    "#breast_cancer_df.set_index(\"Id\", inplace = True)\n",
    "breast_cancer_df.head()\n"
   ]
  },
  {
   "cell_type": "code",
   "execution_count": null,
   "metadata": {
    "colab": {
     "base_uri": "https://localhost:8080/"
    },
    "executionInfo": {
     "elapsed": 380,
     "status": "ok",
     "timestamp": 1630189795746,
     "user": {
      "displayName": "Federico Young Mendiola",
      "photoUrl": "",
      "userId": "13470236304085750724"
     },
     "user_tz": 180
    },
    "id": "9KhV4huaEBC4",
    "outputId": "25859f88-e850-461a-ae67-38dd28766f1d"
   },
   "outputs": [],
   "source": [
    "# Finalmente, contamos cuantos ejemplos son beningnos y cuantos no (0 = B, 1 = M)\n",
    "breast_cancer_df[\"target\"].value_counts()"
   ]
  },
  {
   "cell_type": "code",
   "execution_count": null,
   "metadata": {
    "colab": {
     "base_uri": "https://localhost:8080/"
    },
    "executionInfo": {
     "elapsed": 371,
     "status": "ok",
     "timestamp": 1630189799205,
     "user": {
      "displayName": "Federico Young Mendiola",
      "photoUrl": "",
      "userId": "13470236304085750724"
     },
     "user_tz": 180
    },
    "id": "zMi6xa1wJCcC",
    "outputId": "8b7ba2fa-78cc-498f-a1e9-a1ae3966035a"
   },
   "outputs": [],
   "source": [
    "breast_cancer_df[\"nuclei\"].value_counts()"
   ]
  },
  {
   "cell_type": "code",
   "execution_count": null,
   "metadata": {
    "colab": {
     "base_uri": "https://localhost:8080/",
     "height": 545
    },
    "executionInfo": {
     "elapsed": 385,
     "status": "ok",
     "timestamp": 1630189806383,
     "user": {
      "displayName": "Federico Young Mendiola",
      "photoUrl": "",
      "userId": "13470236304085750724"
     },
     "user_tz": 180
    },
    "id": "CSBHBGvHEBC4",
    "outputId": "467509ae-9851-4de6-b743-52b7081141ea"
   },
   "outputs": [],
   "source": [
    "breast_cancer_df[breast_cancer_df[\"nuclei\"]=='?']"
   ]
  },
  {
   "cell_type": "code",
   "execution_count": null,
   "metadata": {
    "id": "ij9i0U5DEBC4"
   },
   "outputs": [],
   "source": [
    "#Quitamos observaciones que tienen '?' en Nuclei quantity\n",
    "breast_cancer_df.drop(breast_cancer_df[breast_cancer_df[\"nuclei\"]=='?'].index, inplace = True)"
   ]
  },
  {
   "cell_type": "markdown",
   "metadata": {
    "id": "RP2pupvMEBC4"
   },
   "source": [
    "### Ejercicio 6\n",
    "\n",
    "Realice una exploración del dataset como hicimos para el caso de Iris."
   ]
  },
  {
   "cell_type": "code",
   "execution_count": null,
   "metadata": {
    "executionInfo": {
     "elapsed": 243,
     "status": "ok",
     "timestamp": 1630191740810,
     "user": {
      "displayName": "Federico Young Mendiola",
      "photoUrl": "",
      "userId": "13470236304085750724"
     },
     "user_tz": 180
    },
    "id": "PAQHm9qxEBC4"
   },
   "outputs": [],
   "source": []
  },
  {
   "cell_type": "markdown",
   "metadata": {
    "id": "SUkjcOehEBC5"
   },
   "source": [
    "### Ejercicio 7"
   ]
  },
  {
   "cell_type": "markdown",
   "metadata": {
    "id": "rM-aB7qi42Ce"
   },
   "source": [
    "Entrene al menos 2 arboles de Decisión para este set de datos. Recuerde separar los datos en conjuntos de entrenamiento y test."
   ]
  },
  {
   "cell_type": "code",
   "execution_count": null,
   "metadata": {
    "executionInfo": {
     "elapsed": 240,
     "status": "ok",
     "timestamp": 1630191781892,
     "user": {
      "displayName": "Federico Young Mendiola",
      "photoUrl": "",
      "userId": "13470236304085750724"
     },
     "user_tz": 180
    },
    "id": "Z7JFv5vCEBC5"
   },
   "outputs": [],
   "source": []
  },
  {
   "cell_type": "markdown",
   "metadata": {},
   "source": [
    "### Ejercicio 8\n",
    "¿Cuál de los árboles es el mejor?\n",
    "Imprima la matriz de confusión del mejor modelo"
   ]
  }
 ],
 "metadata": {
  "colab": {
   "collapsed_sections": [],
   "name": "Practico 2_intro_to_classification_Decision_tree.ipynb",
   "provenance": []
  },
  "interpreter": {
   "hash": "31f0e624692c3076b56a95230a40bf670b331d02e5aa3fca18763ebaf25ecf10"
  },
  "kernelspec": {
   "display_name": "Python 3",
   "language": "python",
   "name": "python3"
  },
  "language_info": {
   "codemirror_mode": {
    "name": "ipython",
    "version": 3
   },
   "file_extension": ".py",
   "mimetype": "text/x-python",
   "name": "python",
   "nbconvert_exporter": "python",
   "pygments_lexer": "ipython3",
   "version": "3.10.12"
  }
 },
 "nbformat": 4,
 "nbformat_minor": 2
}
