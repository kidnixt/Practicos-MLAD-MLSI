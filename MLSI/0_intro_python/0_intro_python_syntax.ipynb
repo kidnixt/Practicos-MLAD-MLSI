{
  "cells": [
    {
      "cell_type": "markdown",
      "metadata": {
        "id": "TxZP5zk9k9pf"
      },
      "source": [
        "## Práctico 0 - Introducción a Python y diferentes entornos de desarrollo\n",
        "\n",
        "### Python\n",
        "\n",
        "* Es un lenguaje interpretado, no compilado (lento en tareas pesadas).\n",
        "* Es fuertemente tipado y tiene tipado dinámico. También infiere los tipos de manera automática.\n",
        "* Es multiplataforma.\n",
        "* Es \"sencillo\" de leer, tiene una comunidad muy grande en la web.\n",
        "* https://www.python.org/downloads/\n",
        "\n",
        "### Entorno Local\n",
        "\n",
        "* Desarrollo en Visual Studio Code.\n",
        "* Utilizamos notebooks con extensión .ipynb.\n",
        "\n",
        "### Google Colab\n",
        "\n",
        "* Plataforma web para la codificación y ejecución de Python utilizando Jupyter Notebook.\n",
        "* Por defecto, nos proporciona un espacio virtual (VM o parte de ella) con 13GB de RAM y 100GB de disco aprox. Las unidades de procesamiento varían según demanda. Para nuestras necesidades educativas, está impecable.\n",
        "\n",
        "### Kaggle\n",
        "\n",
        "* Plataforma que ofrece datasets, competencias, tutoriales, entre otros.\n",
        "* También tenemos la posibilidad de utilizar notebooks.\n",
        "* https://www.kaggle.com/\n",
        "  "
      ]
    },
    {
      "cell_type": "markdown",
      "metadata": {
        "id": "V-ABJTsekBtc"
      },
      "source": [
        "### Ejecutar comandos de consola desde una notebook\n",
        "Para ejecutar comandos de consola (no de Python) desde una notebook, iniciamos la linea con `!`"
      ]
    },
    {
      "cell_type": "code",
      "execution_count": 2,
      "metadata": {
        "colab": {
          "base_uri": "https://localhost:8080/"
        },
        "id": "4rKppTVCkBte",
        "outputId": "99936ceb-eb81-4316-9589-871cad1b0b9c"
      },
      "outputs": [
        {
          "name": "stdout",
          "output_type": "stream",
          "text": [
            "/home/alejo/Desktop/Practicos_MLAD/Practico0\n"
          ]
        }
      ],
      "source": [
        "!pwd"
      ]
    },
    {
      "cell_type": "markdown",
      "metadata": {
        "id": "iCXH1u774R8j"
      },
      "source": [
        "La VM ejecuta en un entorno Linux, por lo tanto, son comandos de dicho entorno. Por lo general, utilizaremos los binarios de 'pip' para manejar paquetes de Python."
      ]
    },
    {
      "cell_type": "markdown",
      "metadata": {
        "id": "qs5pFYQMaBrF"
      },
      "source": [
        "### Tipos\n",
        "\n",
        "Python es un lenguaje tipado, en particular es **dinamicamente tipado** (una variable puede cambiar de tipo en tiempo de ejecución) e **infiere los tipos** de manera automática, como vemos a continuación:\n"
      ]
    },
    {
      "cell_type": "code",
      "execution_count": 3,
      "metadata": {
        "colab": {
          "base_uri": "https://localhost:8080/"
        },
        "id": "TivOOxhzaBrT",
        "outputId": "931e6c03-93a1-46a4-e4cb-97a2db09e9f9"
      },
      "outputs": [
        {
          "data": {
            "text/plain": [
              "int"
            ]
          },
          "execution_count": 3,
          "metadata": {},
          "output_type": "execute_result"
        }
      ],
      "source": [
        "type(234345235)"
      ]
    },
    {
      "cell_type": "code",
      "execution_count": 4,
      "metadata": {
        "colab": {
          "base_uri": "https://localhost:8080/"
        },
        "id": "DBiiEcFSaBr6",
        "outputId": "955d9179-0303-433a-d15e-6763264add11"
      },
      "outputs": [
        {
          "data": {
            "text/plain": [
              "float"
            ]
          },
          "execution_count": 4,
          "metadata": {},
          "output_type": "execute_result"
        }
      ],
      "source": [
        "type(1.1)"
      ]
    },
    {
      "cell_type": "code",
      "execution_count": 5,
      "metadata": {
        "colab": {
          "base_uri": "https://localhost:8080/"
        },
        "id": "TL0lY2_waBsQ",
        "outputId": "14a1b019-8e8d-4542-860c-f0d6996d1d88"
      },
      "outputs": [
        {
          "data": {
            "text/plain": [
              "str"
            ]
          },
          "execution_count": 5,
          "metadata": {},
          "output_type": "execute_result"
        }
      ],
      "source": [
        "type('c')"
      ]
    },
    {
      "cell_type": "code",
      "execution_count": 6,
      "metadata": {
        "colab": {
          "base_uri": "https://localhost:8080/"
        },
        "id": "slQZ7i3baBtP",
        "outputId": "0012bae0-4a68-4d1b-a632-acb04194c56f"
      },
      "outputs": [
        {
          "data": {
            "text/plain": [
              "bool"
            ]
          },
          "execution_count": 6,
          "metadata": {},
          "output_type": "execute_result"
        }
      ],
      "source": [
        "type(True)"
      ]
    },
    {
      "cell_type": "markdown",
      "metadata": {
        "id": "ahPJWj4mlRh_"
      },
      "source": [
        "Tipado dinámico (también inferencia de tipo, no tenemos que especificar el tipo)"
      ]
    },
    {
      "cell_type": "code",
      "execution_count": 7,
      "metadata": {
        "colab": {
          "base_uri": "https://localhost:8080/"
        },
        "id": "qzcznq54kBtg",
        "outputId": "a7efcb42-5fc6-4579-da63-3ddf3594b0d4"
      },
      "outputs": [
        {
          "name": "stdout",
          "output_type": "stream",
          "text": [
            "<class 'int'>\n",
            "<class 'str'>\n"
          ]
        }
      ],
      "source": [
        "unaVariable = 3\n",
        "print(type(unaVariable))\n",
        "unaVariable = \"3\"\n",
        "print(type(unaVariable))"
      ]
    },
    {
      "cell_type": "code",
      "execution_count": 8,
      "metadata": {
        "colab": {
          "base_uri": "https://localhost:8080/"
        },
        "id": "EhUjENk-kBtg",
        "outputId": "aff879c4-c981-46f1-dd56-ef5478b601b6"
      },
      "outputs": [
        {
          "name": "stdout",
          "output_type": "stream",
          "text": [
            "33\n"
          ]
        }
      ],
      "source": [
        "unaVariableInt = 3\n",
        "print(str(unaVariableInt) + unaVariable)"
      ]
    },
    {
      "cell_type": "code",
      "execution_count": 9,
      "metadata": {
        "colab": {
          "base_uri": "https://localhost:8080/"
        },
        "id": "TRmjXWH15mYS",
        "outputId": "6798c174-2a85-44e9-925b-8768e4a7c4c6"
      },
      "outputs": [
        {
          "name": "stdout",
          "output_type": "stream",
          "text": [
            "6\n"
          ]
        }
      ],
      "source": [
        "unaVariableInt = 3\n",
        "print(unaVariableInt + int(unaVariable))"
      ]
    },
    {
      "cell_type": "code",
      "execution_count": 10,
      "metadata": {
        "colab": {
          "base_uri": "https://localhost:8080/",
          "height": 183
        },
        "id": "XTifMoLi5pDO",
        "outputId": "6e041569-177a-40e8-e70c-b82c064395f7"
      },
      "outputs": [
        {
          "ename": "TypeError",
          "evalue": "unsupported operand type(s) for +: 'int' and 'str'",
          "output_type": "error",
          "traceback": [
            "\u001b[0;31m---------------------------------------------------------------------------\u001b[0m",
            "\u001b[0;31mTypeError\u001b[0m                                 Traceback (most recent call last)",
            "Cell \u001b[0;32mIn[10], line 2\u001b[0m\n\u001b[1;32m      1\u001b[0m unaVariableInt \u001b[38;5;241m=\u001b[39m \u001b[38;5;241m3\u001b[39m\n\u001b[0;32m----> 2\u001b[0m \u001b[38;5;28mprint\u001b[39m(\u001b[43munaVariableInt\u001b[49m\u001b[43m \u001b[49m\u001b[38;5;241;43m+\u001b[39;49m\u001b[43m \u001b[49m\u001b[43munaVariable\u001b[49m)\n",
            "\u001b[0;31mTypeError\u001b[0m: unsupported operand type(s) for +: 'int' and 'str'"
          ]
        }
      ],
      "source": [
        "unaVariableInt = 3\n",
        "print(unaVariableInt + unaVariable)"
      ]
    },
    {
      "cell_type": "markdown",
      "metadata": {
        "id": "TteDdZdykBth"
      },
      "source": [
        "### Notación de tipos\n",
        "\n",
        "Para anotar tipos, lo hacemos escribiendo `:` seguido del tipo, al momento de declarar la variable\n"
      ]
    },
    {
      "cell_type": "code",
      "execution_count": null,
      "metadata": {
        "colab": {
          "base_uri": "https://localhost:8080/"
        },
        "id": "aNaN4ezikBti",
        "outputId": "401129bc-9b17-4943-a273-a84d32d03695"
      },
      "outputs": [
        {
          "data": {
            "text/plain": [
              "str"
            ]
          },
          "execution_count": 13,
          "metadata": {},
          "output_type": "execute_result"
        }
      ],
      "source": [
        "unaVariable:int\n",
        "type(unaVariable)"
      ]
    },
    {
      "cell_type": "markdown",
      "metadata": {
        "id": "vhDgZoREkBti"
      },
      "source": [
        "Es solo una sugerencia, pero el lenguaje no nos exige respetarlo. Sirve como pseudo-documentación para el programador."
      ]
    },
    {
      "cell_type": "markdown",
      "metadata": {
        "id": "AvTkyy-0aBtt"
      },
      "source": [
        "### Input y Print\n",
        "La manera más fácil de imprimir usando notebooks, es si la última línea de la celda es una variable o un valor."
      ]
    },
    {
      "cell_type": "code",
      "execution_count": null,
      "metadata": {
        "colab": {
          "base_uri": "https://localhost:8080/",
          "height": 35
        },
        "id": "JNtl5kdrkBtj",
        "outputId": "380cb243-1ccc-4440-aeaa-75261de63ef0"
      },
      "outputs": [
        {
          "data": {
            "text/plain": [
              "'hola'"
            ]
          },
          "execution_count": 14,
          "metadata": {},
          "output_type": "execute_result"
        }
      ],
      "source": [
        "'hola'"
      ]
    },
    {
      "cell_type": "code",
      "execution_count": null,
      "metadata": {
        "id": "qIZW1zHkkBtk"
      },
      "outputs": [],
      "source": [
        "# no imprime porque es una asignación\n",
        "a = 5"
      ]
    },
    {
      "cell_type": "code",
      "execution_count": null,
      "metadata": {
        "colab": {
          "base_uri": "https://localhost:8080/"
        },
        "id": "jG-UsW0WkBtk",
        "outputId": "e5a3347a-ec93-416e-86d5-9539f603d08f"
      },
      "outputs": [
        {
          "data": {
            "text/plain": [
              "5"
            ]
          },
          "execution_count": 17,
          "metadata": {},
          "output_type": "execute_result"
        }
      ],
      "source": [
        "a"
      ]
    },
    {
      "cell_type": "code",
      "execution_count": null,
      "metadata": {
        "colab": {
          "base_uri": "https://localhost:8080/"
        },
        "id": "2QH4nn-NaBt6",
        "outputId": "d9610573-d365-4068-e98c-fbcb36f93a1d"
      },
      "outputs": [],
      "source": [
        "nombre = input('Cómo te llamas?')\n",
        "edad = int(input('Cuál es tu edad?'))"
      ]
    },
    {
      "cell_type": "markdown",
      "metadata": {
        "id": "BzrSy9sFkBtk"
      },
      "source": [
        "Para imprimir, vamos a usar la funcion `print`. Esta es una funcion variádica, esto significa que puede recibir la cantidad de argumentos que se nos ocurra, y los imprime todos separados por un espacio."
      ]
    },
    {
      "cell_type": "code",
      "execution_count": null,
      "metadata": {
        "colab": {
          "base_uri": "https://localhost:8080/"
        },
        "id": "3FID-RZTaBuR",
        "outputId": "96e01e5c-1c97-4b9e-af7c-4f0c0c6bcf83"
      },
      "outputs": [
        {
          "name": "stdout",
          "output_type": "stream",
          "text": [
            "Hola alejo tu edad es 23\n"
          ]
        }
      ],
      "source": [
        "print('Hola', nombre, 'tu edad es', edad)"
      ]
    },
    {
      "cell_type": "markdown",
      "metadata": {
        "id": "VY54-Q6MkBtl"
      },
      "source": [
        "Pero esta no es la unica manera de imprimir, tambien podemos armar un string y formatearlo\n",
        "Este es un método que es bastante común en otros lenguajes también. Básicamente consiste de armar un string indicando dónde va a imprimir determiadas variables, y luego le pasamos las variables.\n",
        "\n",
        "Para esto basta con armar un string indicando con corchetes `{}` donde queremos imprimir las variables, y luego se las pasamos llamando al método `format`"
      ]
    },
    {
      "cell_type": "code",
      "execution_count": null,
      "metadata": {
        "colab": {
          "base_uri": "https://localhost:8080/"
        },
        "id": "lnIiJpeLkBtl",
        "outputId": "bee8794d-9df5-436b-e942-855a6ac332ea"
      },
      "outputs": [
        {
          "name": "stdout",
          "output_type": "stream",
          "text": [
            "Hola alejo, tu edad es 23\n"
          ]
        }
      ],
      "source": [
        "print('Hola {}, tu edad es {}'.format(nombre, edad))\n"
      ]
    },
    {
      "cell_type": "markdown",
      "metadata": {
        "id": "l83Y_WrUkBtm"
      },
      "source": [
        "Además de esto, podemos agregar un número dentro de los corchetes, en caso de querer identificar a cuál de las variables nos referimos."
      ]
    },
    {
      "cell_type": "code",
      "execution_count": null,
      "metadata": {
        "colab": {
          "base_uri": "https://localhost:8080/"
        },
        "id": "8IfEzRdckBtm",
        "outputId": "bae3a3f1-69b5-402a-db81-f8cdd078a779"
      },
      "outputs": [
        {
          "name": "stdout",
          "output_type": "stream",
          "text": [
            "Hola 23, tu edad es alejo\n"
          ]
        }
      ],
      "source": [
        "print('Hola {1}, tu edad es {0}'.format(nombre, edad))"
      ]
    },
    {
      "cell_type": "markdown",
      "metadata": {
        "id": "S_gNW9JLkBtm"
      },
      "source": [
        "Otra manera de identificar a las variables es mediante un nombre"
      ]
    },
    {
      "cell_type": "code",
      "execution_count": null,
      "metadata": {
        "colab": {
          "base_uri": "https://localhost:8080/"
        },
        "id": "KTFuqHvckBtm",
        "outputId": "854a06e0-0ee5-4451-a2d4-a16c6afbb04b"
      },
      "outputs": [
        {
          "name": "stdout",
          "output_type": "stream",
          "text": [
            "Hola alejo, tu edad es 23\n"
          ]
        }
      ],
      "source": [
        "print('Hola {un_nombre}, tu edad es {una_edad}'.format(un_nombre=nombre, una_edad=edad))"
      ]
    },
    {
      "cell_type": "markdown",
      "metadata": {
        "id": "gv31bqUWkBtn"
      },
      "source": [
        "### fstring\n",
        "Desde python 3.6 existe una forma bastante mas amigable de formatear los strings, se les llaman `fstrings`\n",
        "Basta con escribir una `f` inmediatante antes de abrir las comillas (sin espacios en el medio), y entre los corchetes podemos poner la expresion que queremos imprimir."
      ]
    },
    {
      "cell_type": "code",
      "execution_count": null,
      "metadata": {
        "colab": {
          "base_uri": "https://localhost:8080/"
        },
        "id": "WeyHcYj5kBtn",
        "outputId": "819bec70-6b8a-4ba2-b00f-267ce29d8134"
      },
      "outputs": [
        {
          "name": "stdout",
          "output_type": "stream",
          "text": [
            "Hola alejo, tu edad es 23\n"
          ]
        }
      ],
      "source": [
        "print(f'Hola {nombre}, tu edad es {edad}')"
      ]
    },
    {
      "cell_type": "markdown",
      "metadata": {
        "id": "uDZmIdh7aBuw"
      },
      "source": [
        "### Estructuras de control\n",
        "Para las estructuras de control es importante que la indentación sea consistente, ya que en lugar de llaves, se controla mediante el uso de esta."
      ]
    },
    {
      "cell_type": "code",
      "execution_count": null,
      "metadata": {
        "colab": {
          "base_uri": "https://localhost:8080/"
        },
        "id": "CfuwcKa9aBu1",
        "outputId": "ba5ea1db-bc37-4d4b-a5a9-24f50dc95582"
      },
      "outputs": [
        {
          "name": "stdout",
          "output_type": "stream",
          "text": [
            "Bienvenido al curso humano\n"
          ]
        }
      ],
      "source": [
        "if edad < 20:\n",
        "    print('Bienvenido al curso joven superdotado')\n",
        "elif edad >= 20 and edad <= 90:\n",
        "    print('Bienvenido al curso humano')\n",
        "else:\n",
        "    print('\\_(¤ v ¤)_/')"
      ]
    },
    {
      "cell_type": "code",
      "execution_count": null,
      "metadata": {
        "colab": {
          "base_uri": "https://localhost:8080/"
        },
        "id": "uoO0DScNaBvi",
        "outputId": "3c1c735a-e5de-4650-a2b2-fda3dd62f03e"
      },
      "outputs": [
        {
          "name": "stdout",
          "output_type": "stream",
          "text": [
            "0\n",
            "1\n",
            "2\n",
            "3\n",
            "4\n",
            "5\n",
            "6\n",
            "7\n",
            "8\n",
            "9\n"
          ]
        }
      ],
      "source": [
        "numero = 0\n",
        "while numero < 10:\n",
        "    print(numero)\n",
        "    numero += 1"
      ]
    },
    {
      "cell_type": "code",
      "execution_count": null,
      "metadata": {
        "colab": {
          "base_uri": "https://localhost:8080/"
        },
        "id": "bm1O1vioaBwA",
        "outputId": "ef6b4563-1ed8-4507-b712-d95e4633e843"
      },
      "outputs": [
        {
          "name": "stdout",
          "output_type": "stream",
          "text": [
            "0\n",
            "1\n",
            "2\n",
            "3\n",
            "4\n",
            "5\n",
            "6\n",
            "7\n",
            "8\n",
            "9\n"
          ]
        }
      ],
      "source": [
        "for i in range(10): \n",
        "    print(i)"
      ]
    },
    {
      "cell_type": "markdown",
      "metadata": {
        "id": "amAu2Cn7aBwW"
      },
      "source": [
        "### Listas"
      ]
    },
    {
      "cell_type": "code",
      "execution_count": null,
      "metadata": {
        "colab": {
          "base_uri": "https://localhost:8080/"
        },
        "id": "94JVZ6k-aBwY",
        "outputId": "73831c7a-0c0b-43d2-8669-13d7a2c53bc7"
      },
      "outputs": [
        {
          "name": "stdout",
          "output_type": "stream",
          "text": [
            "[0, 1, 2, 3]\n"
          ]
        }
      ],
      "source": [
        "lista = [0, 1, 2, 3]\n",
        "print(lista)"
      ]
    },
    {
      "cell_type": "code",
      "execution_count": null,
      "metadata": {
        "colab": {
          "base_uri": "https://localhost:8080/"
        },
        "id": "W249Orf3kBtp",
        "outputId": "360844a6-ec03-49f0-ed6f-1a43f11ec4c6"
      },
      "outputs": [
        {
          "name": "stdout",
          "output_type": "stream",
          "text": [
            "[0, 1, 2, 3, 4]\n"
          ]
        }
      ],
      "source": [
        "lista.append(4) # Al final\n",
        "print(lista)"
      ]
    },
    {
      "cell_type": "code",
      "execution_count": null,
      "metadata": {
        "colab": {
          "base_uri": "https://localhost:8080/"
        },
        "id": "9qgQTSyVkBtp",
        "outputId": "7c00adf4-043f-4aae-ceee-faa416431f89"
      },
      "outputs": [
        {
          "name": "stdout",
          "output_type": "stream",
          "text": [
            "[0, 1, 2, 3]\n"
          ]
        }
      ],
      "source": [
        "lista.pop() # Elimina el último\n",
        "print(lista)"
      ]
    },
    {
      "cell_type": "code",
      "execution_count": null,
      "metadata": {
        "colab": {
          "base_uri": "https://localhost:8080/"
        },
        "id": "Ujjhrxv6kBtq",
        "outputId": "4eccf5f3-711f-4c4c-d79c-2106aef1d617"
      },
      "outputs": [
        {
          "name": "stdout",
          "output_type": "stream",
          "text": [
            "[0, 1, 3]\n"
          ]
        }
      ],
      "source": [
        "lista.pop(2) # Elimina el elemento en la posición 2\n",
        "print(lista)"
      ]
    },
    {
      "cell_type": "code",
      "execution_count": null,
      "metadata": {
        "colab": {
          "base_uri": "https://localhost:8080/"
        },
        "id": "abXWd6F5aBwp",
        "outputId": "12dfff21-3d41-4293-d4ad-8c0b262d62e9"
      },
      "outputs": [
        {
          "data": {
            "text/plain": [
              "0"
            ]
          },
          "execution_count": 41,
          "metadata": {},
          "output_type": "execute_result"
        }
      ],
      "source": [
        "len([])"
      ]
    },
    {
      "cell_type": "code",
      "execution_count": null,
      "metadata": {},
      "outputs": [
        {
          "data": {
            "text/plain": [
              "3"
            ]
          },
          "execution_count": 42,
          "metadata": {},
          "output_type": "execute_result"
        }
      ],
      "source": [
        "len(lista)"
      ]
    },
    {
      "cell_type": "code",
      "execution_count": null,
      "metadata": {
        "colab": {
          "base_uri": "https://localhost:8080/"
        },
        "id": "gZC_uy8_aBxC",
        "outputId": "1e2368e8-a655-43ea-d7c8-e32875ecebec"
      },
      "outputs": [
        {
          "data": {
            "text/plain": [
              "False"
            ]
          },
          "execution_count": 43,
          "metadata": {},
          "output_type": "execute_result"
        }
      ],
      "source": [
        "lista[1] + lista[2] == 3"
      ]
    },
    {
      "cell_type": "code",
      "execution_count": null,
      "metadata": {
        "colab": {
          "base_uri": "https://localhost:8080/"
        },
        "id": "ASBVomReaBxW",
        "outputId": "39b09364-14a0-48a2-bf3a-048b3fb3bcf1"
      },
      "outputs": [
        {
          "name": "stdout",
          "output_type": "stream",
          "text": [
            "[0, 1, 3, 3, 4, 5, 6]\n"
          ]
        }
      ],
      "source": [
        "lista.extend([3,4,5,6])\n",
        "print(lista)"
      ]
    },
    {
      "cell_type": "markdown",
      "metadata": {
        "id": "RVznMolmaBxo"
      },
      "source": [
        "### Sets\n",
        "\n",
        "* Sin orden, ni índice.\n",
        "* No pueden cambiarse (a medias, puedo agregar y quitar objetos, pero no puedo cambiar uno ya existente por otro).\n",
        "* No hay duplicados."
      ]
    },
    {
      "cell_type": "code",
      "execution_count": null,
      "metadata": {
        "colab": {
          "base_uri": "https://localhost:8080/"
        },
        "id": "fVhqwlhuaBxq",
        "outputId": "2e6ee251-ba5f-4147-a837-fa5bf1a7d0fe"
      },
      "outputs": [
        {
          "data": {
            "text/plain": [
              "{0, 1, 3, 4, 5, 6}"
            ]
          },
          "execution_count": 45,
          "metadata": {},
          "output_type": "execute_result"
        }
      ],
      "source": [
        "uniques = set(lista)\n",
        "uniques"
      ]
    },
    {
      "cell_type": "code",
      "execution_count": null,
      "metadata": {
        "colab": {
          "base_uri": "https://localhost:8080/"
        },
        "id": "VZyGZyQ3kBtr",
        "outputId": "1f64519f-096e-4e17-f6bc-9cc37157881c"
      },
      "outputs": [
        {
          "data": {
            "text/plain": [
              "{0, 1, 3, 4, 5, 6}"
            ]
          },
          "execution_count": 46,
          "metadata": {},
          "output_type": "execute_result"
        }
      ],
      "source": [
        "uniques.add(1)\n",
        "uniques.add(5)\n",
        "uniques"
      ]
    },
    {
      "cell_type": "code",
      "execution_count": null,
      "metadata": {
        "colab": {
          "base_uri": "https://localhost:8080/"
        },
        "id": "YNNjQdUYkBtr",
        "outputId": "1168b28b-ad2c-40b0-afdb-75de848791cb"
      },
      "outputs": [
        {
          "data": {
            "text/plain": [
              "{3, 4, 5, 6, 7, 8}"
            ]
          },
          "execution_count": 47,
          "metadata": {},
          "output_type": "execute_result"
        }
      ],
      "source": [
        "others = set([3,4,5,6,7,8])\n",
        "others"
      ]
    },
    {
      "cell_type": "markdown",
      "metadata": {
        "id": "DNjkzTy67LAZ"
      },
      "source": [
        "El no permitir duplicados, nos da la oportunidad de quitar duplicados de manera fácil de una lista, por ejemplo:"
      ]
    },
    {
      "cell_type": "code",
      "execution_count": null,
      "metadata": {
        "colab": {
          "base_uri": "https://localhost:8080/"
        },
        "id": "Z-syzvOb7QXr",
        "outputId": "10e3f661-f554-4b12-dc9b-ed429967afa1"
      },
      "outputs": [
        {
          "name": "stdout",
          "output_type": "stream",
          "text": [
            "[0, 1, 3, 4, 5, 6]\n",
            "[0, 1, 3, 4, 5, 6]\n"
          ]
        }
      ],
      "source": [
        "print(lista)\n",
        "lista = list(set(lista))\n",
        "print(lista)"
      ]
    },
    {
      "cell_type": "markdown",
      "metadata": {
        "id": "3uYZ37kQkBts"
      },
      "source": [
        "#### Igualdad, subconjunto y pertenencia de un elemento"
      ]
    },
    {
      "cell_type": "code",
      "execution_count": null,
      "metadata": {
        "colab": {
          "base_uri": "https://localhost:8080/"
        },
        "id": "WOMboN9_kBts",
        "outputId": "29f51b1f-4260-4e3a-b1a0-86b95ebb3879"
      },
      "outputs": [
        {
          "data": {
            "text/plain": [
              "False"
            ]
          },
          "execution_count": 50,
          "metadata": {},
          "output_type": "execute_result"
        }
      ],
      "source": [
        "uniques == others"
      ]
    },
    {
      "cell_type": "code",
      "execution_count": null,
      "metadata": {
        "colab": {
          "base_uri": "https://localhost:8080/"
        },
        "id": "LIfrUkKNkBts",
        "outputId": "7b39e422-537e-4000-f709-438dabc7b98b"
      },
      "outputs": [
        {
          "data": {
            "text/plain": [
              "True"
            ]
          },
          "execution_count": 51,
          "metadata": {},
          "output_type": "execute_result"
        }
      ],
      "source": [
        "subset = set([1,3])\n",
        "subset.issubset(uniques)"
      ]
    },
    {
      "cell_type": "code",
      "execution_count": null,
      "metadata": {
        "colab": {
          "base_uri": "https://localhost:8080/"
        },
        "id": "cKo2wvELkBts",
        "outputId": "2bff24c0-22ea-4405-92c6-9f17304d470e"
      },
      "outputs": [
        {
          "data": {
            "text/plain": [
              "True"
            ]
          },
          "execution_count": 52,
          "metadata": {},
          "output_type": "execute_result"
        }
      ],
      "source": [
        "uniques.issuperset(subset)"
      ]
    },
    {
      "cell_type": "code",
      "execution_count": null,
      "metadata": {
        "colab": {
          "base_uri": "https://localhost:8080/"
        },
        "id": "wR_peTDJkBts",
        "outputId": "a5b573a0-9edf-4db6-d095-9124babbee33"
      },
      "outputs": [
        {
          "data": {
            "text/plain": [
              "True"
            ]
          },
          "execution_count": 53,
          "metadata": {},
          "output_type": "execute_result"
        }
      ],
      "source": [
        "1 in uniques"
      ]
    },
    {
      "cell_type": "markdown",
      "metadata": {
        "id": "uLcaA6GnkBtt"
      },
      "source": [
        "#### Intersección y unión"
      ]
    },
    {
      "cell_type": "code",
      "execution_count": null,
      "metadata": {
        "colab": {
          "base_uri": "https://localhost:8080/"
        },
        "id": "eQemQDOrkBtt",
        "outputId": "6c14a62f-4864-4ff9-8b50-a65b85fc7218"
      },
      "outputs": [
        {
          "data": {
            "text/plain": [
              "{3, 4, 5, 6}"
            ]
          },
          "execution_count": 54,
          "metadata": {},
          "output_type": "execute_result"
        }
      ],
      "source": [
        "intersected_sets = uniques & others\n",
        "intersected_sets"
      ]
    },
    {
      "cell_type": "code",
      "execution_count": null,
      "metadata": {
        "colab": {
          "base_uri": "https://localhost:8080/"
        },
        "id": "LG7JqmTWkBtt",
        "outputId": "188793e0-a878-4fdd-e0d8-232f6ec4072e"
      },
      "outputs": [
        {
          "data": {
            "text/plain": [
              "{0, 1, 3, 4, 5, 6, 7, 8}"
            ]
          },
          "execution_count": 55,
          "metadata": {},
          "output_type": "execute_result"
        }
      ],
      "source": [
        "joined_sets = uniques | others\n",
        "joined_sets"
      ]
    },
    {
      "cell_type": "markdown",
      "metadata": {
        "id": "AEDg7kuqaByj"
      },
      "source": [
        "### Diccionario\n",
        "\n",
        "* Colección ordenada.\n",
        "* Clave - valor.\n",
        "* No hay claves duplicadas.\n",
        "* Permite cambios/updates.\n",
        "* Desde Python 3.7, son ordenados."
      ]
    },
    {
      "cell_type": "code",
      "execution_count": null,
      "metadata": {
        "colab": {
          "base_uri": "https://localhost:8080/"
        },
        "id": "JZuQTj7w9Z6s",
        "outputId": "0120627c-5a3b-43f7-fbc2-0f0eaf9b27b3"
      },
      "outputs": [
        {
          "name": "stdout",
          "output_type": "stream",
          "text": [
            "Python 3.10.12\n"
          ]
        }
      ],
      "source": [
        "#!python3 --version\n",
        "!python --version"
      ]
    },
    {
      "cell_type": "code",
      "execution_count": null,
      "metadata": {
        "id": "uTc2wxsvaByp"
      },
      "outputs": [],
      "source": [
        "key_value = dict() # key_value = {}"
      ]
    },
    {
      "cell_type": "code",
      "execution_count": null,
      "metadata": {
        "id": "hFC99ZkVaBzN"
      },
      "outputs": [],
      "source": [
        "key_value[\"test\"] =  2"
      ]
    },
    {
      "cell_type": "code",
      "execution_count": null,
      "metadata": {
        "colab": {
          "base_uri": "https://localhost:8080/"
        },
        "id": "ghGfoEXVaBzl",
        "outputId": "d95dfc09-d8cf-46b7-e42e-90515648231d"
      },
      "outputs": [
        {
          "data": {
            "text/plain": [
              "{'test': 2}"
            ]
          },
          "execution_count": 60,
          "metadata": {},
          "output_type": "execute_result"
        }
      ],
      "source": [
        "key_value"
      ]
    },
    {
      "cell_type": "code",
      "execution_count": null,
      "metadata": {
        "colab": {
          "base_uri": "https://localhost:8080/"
        },
        "id": "6HE1HVSEaB0H",
        "outputId": "efffd5b1-6083-46cc-c065-ee48e73b55a7"
      },
      "outputs": [
        {
          "data": {
            "text/plain": [
              "2"
            ]
          },
          "execution_count": 61,
          "metadata": {},
          "output_type": "execute_result"
        }
      ],
      "source": [
        "key_value[\"test\"]"
      ]
    },
    {
      "cell_type": "code",
      "execution_count": null,
      "metadata": {
        "colab": {
          "base_uri": "https://localhost:8080/"
        },
        "id": "sst5Hf9VkBtu",
        "outputId": "21108326-fd66-42d2-e662-cf1b49778f44"
      },
      "outputs": [
        {
          "name": "stdout",
          "output_type": "stream",
          "text": [
            "None\n"
          ]
        }
      ],
      "source": [
        "print(key_value.get(\"test2\"))"
      ]
    },
    {
      "cell_type": "code",
      "execution_count": null,
      "metadata": {
        "colab": {
          "base_uri": "https://localhost:8080/",
          "height": 165
        },
        "id": "rHur1tpn8BFp",
        "outputId": "36526d91-30d8-4cff-d983-0ddcc668c806"
      },
      "outputs": [
        {
          "ename": "KeyError",
          "evalue": "'test2'",
          "output_type": "error",
          "traceback": [
            "\u001b[0;31m---------------------------------------------------------------------------\u001b[0m",
            "\u001b[0;31mKeyError\u001b[0m                                  Traceback (most recent call last)",
            "Cell \u001b[0;32mIn[66], line 1\u001b[0m\n\u001b[0;32m----> 1\u001b[0m \u001b[43mkey_value\u001b[49m\u001b[43m[\u001b[49m\u001b[38;5;124;43m\"\u001b[39;49m\u001b[38;5;124;43mtest2\u001b[39;49m\u001b[38;5;124;43m\"\u001b[39;49m\u001b[43m]\u001b[49m\n",
            "\u001b[0;31mKeyError\u001b[0m: 'test2'"
          ]
        }
      ],
      "source": [
        "key_value[\"test2\"]"
      ]
    },
    {
      "cell_type": "code",
      "execution_count": null,
      "metadata": {},
      "outputs": [
        {
          "data": {
            "text/plain": [
              "False"
            ]
          },
          "execution_count": 65,
          "metadata": {},
          "output_type": "execute_result"
        }
      ],
      "source": [
        "\"test2\" in key_value"
      ]
    },
    {
      "cell_type": "code",
      "execution_count": null,
      "metadata": {
        "colab": {
          "base_uri": "https://localhost:8080/",
          "height": 35
        },
        "id": "2jYEqyEaaB0Q",
        "outputId": "ed5ca62f-6e6e-4c7f-ac55-7f0dc9dafda0"
      },
      "outputs": [
        {
          "data": {
            "text/plain": [
              "'NO ESTÁ'"
            ]
          },
          "execution_count": 67,
          "metadata": {},
          "output_type": "execute_result"
        }
      ],
      "source": [
        "key_value.get(\"test2\", \"NO ESTÁ\")"
      ]
    },
    {
      "cell_type": "code",
      "execution_count": null,
      "metadata": {
        "colab": {
          "base_uri": "https://localhost:8080/"
        },
        "id": "kJH0OFnAaB00",
        "outputId": "51bc649e-24b8-4ae4-f1a1-c6fb9f7e64c3"
      },
      "outputs": [
        {
          "data": {
            "text/plain": [
              "{'alumno1': 172121, 'alumno2': 412312, 'alumno5': 939121}"
            ]
          },
          "execution_count": 68,
          "metadata": {},
          "output_type": "execute_result"
        }
      ],
      "source": [
        "key_value = {'alumno1': 172121, 'alumno2': 412312, 'alumno5': 939121}\n",
        "key_value"
      ]
    },
    {
      "cell_type": "code",
      "execution_count": null,
      "metadata": {
        "colab": {
          "base_uri": "https://localhost:8080/",
          "height": 165
        },
        "id": "QIVft2YX87iv",
        "outputId": "b3717ea2-c486-490e-ee90-9d2dde1fcdaa"
      },
      "outputs": [
        {
          "ename": "KeyError",
          "evalue": "'test'",
          "output_type": "error",
          "traceback": [
            "\u001b[0;31m---------------------------------------------------------------------------\u001b[0m",
            "\u001b[0;31mKeyError\u001b[0m                                  Traceback (most recent call last)",
            "Cell \u001b[0;32mIn[69], line 1\u001b[0m\n\u001b[0;32m----> 1\u001b[0m \u001b[43mkey_value\u001b[49m\u001b[43m[\u001b[49m\u001b[38;5;124;43m\"\u001b[39;49m\u001b[38;5;124;43mtest\u001b[39;49m\u001b[38;5;124;43m\"\u001b[39;49m\u001b[43m]\u001b[49m\n",
            "\u001b[0;31mKeyError\u001b[0m: 'test'"
          ]
        }
      ],
      "source": [
        "key_value[\"test\"]"
      ]
    },
    {
      "cell_type": "markdown",
      "metadata": {
        "id": "Wqv_lM4xkBtv"
      },
      "source": [
        "Si no queremos borrar lo que teníamos antes, en vez de la asignación podemos usar el operador de actualización"
      ]
    },
    {
      "cell_type": "code",
      "execution_count": null,
      "metadata": {
        "colab": {
          "base_uri": "https://localhost:8080/"
        },
        "id": "v3BY4jidkBtv",
        "outputId": "91114535-a1f6-47b5-cb87-2b951e449de0"
      },
      "outputs": [
        {
          "data": {
            "text/plain": [
              "{'alumno1': 172121, 'alumno2': 412312, 'alumno5': 939121, 'alumno6': 187976}"
            ]
          },
          "execution_count": 70,
          "metadata": {},
          "output_type": "execute_result"
        }
      ],
      "source": [
        "key_value.update({'alumno6' : 187976}) # key_value['alumno6'] = 187976\n",
        "key_value"
      ]
    },
    {
      "cell_type": "code",
      "execution_count": null,
      "metadata": {
        "colab": {
          "base_uri": "https://localhost:8080/"
        },
        "id": "yxUiSZG0kBtv",
        "outputId": "27c43d90-1afa-44e3-c541-c7c559eb1db8"
      },
      "outputs": [
        {
          "data": {
            "text/plain": [
              "187976"
            ]
          },
          "execution_count": 71,
          "metadata": {},
          "output_type": "execute_result"
        }
      ],
      "source": [
        "key_value.get('alumno6')"
      ]
    },
    {
      "cell_type": "markdown",
      "metadata": {
        "id": "zOoxsRopkBtw"
      },
      "source": [
        "#### Iterar sobre dict"
      ]
    },
    {
      "cell_type": "code",
      "execution_count": null,
      "metadata": {
        "colab": {
          "base_uri": "https://localhost:8080/"
        },
        "id": "P9oKegVmkBtw",
        "outputId": "927c2f97-1a28-4612-eacb-b9e68c25c28f"
      },
      "outputs": [
        {
          "name": "stdout",
          "output_type": "stream",
          "text": [
            "alumno1 172121\n",
            "alumno2 412312\n",
            "alumno5 939121\n",
            "alumno6 187976\n"
          ]
        }
      ],
      "source": [
        "for key in key_value.keys():\n",
        "    print(key, key_value[key])"
      ]
    },
    {
      "cell_type": "markdown",
      "metadata": {
        "id": "J93buXqb-iFu"
      },
      "source": [
        "También podríamos acceder directo a los valores con .values()"
      ]
    },
    {
      "cell_type": "markdown",
      "metadata": {
        "id": "jue9rnv8-sQF"
      },
      "source": [
        "Otra forma es con el objeto .items()"
      ]
    },
    {
      "cell_type": "code",
      "execution_count": null,
      "metadata": {
        "colab": {
          "base_uri": "https://localhost:8080/"
        },
        "id": "LP_yc6zX-9tn",
        "outputId": "31e1c90f-465e-43c0-dc9f-c9e45b57f298"
      },
      "outputs": [
        {
          "data": {
            "text/plain": [
              "dict_items([('alumno1', 172121), ('alumno2', 412312), ('alumno5', 939121), ('alumno6', 187976)])"
            ]
          },
          "execution_count": 73,
          "metadata": {},
          "output_type": "execute_result"
        }
      ],
      "source": [
        "key_value.items()"
      ]
    },
    {
      "cell_type": "code",
      "execution_count": null,
      "metadata": {
        "colab": {
          "base_uri": "https://localhost:8080/"
        },
        "id": "_R6MJhEF-vKA",
        "outputId": "670bbd40-47a1-4a0b-ed76-37d489d47c71"
      },
      "outputs": [
        {
          "name": "stdout",
          "output_type": "stream",
          "text": [
            "alumno1 172121\n",
            "alumno2 412312\n",
            "alumno5 939121\n",
            "alumno6 187976\n"
          ]
        }
      ],
      "source": [
        "for key, value in key_value.items():\n",
        "    print(key, value)"
      ]
    },
    {
      "cell_type": "markdown",
      "metadata": {
        "id": "9X8ZKDWzkBtw"
      },
      "source": [
        "### Tuplas\n",
        "\n",
        "* Colección de valores ordenados.\n",
        "* No permiten cambios."
      ]
    },
    {
      "cell_type": "code",
      "execution_count": null,
      "metadata": {
        "colab": {
          "base_uri": "https://localhost:8080/"
        },
        "id": "r6Fjj5lkkBtw",
        "outputId": "4b5ae11e-d3ae-4340-b43e-c3f551d9ba4f"
      },
      "outputs": [
        {
          "data": {
            "text/plain": [
              "(1, 2, 3)"
            ]
          },
          "execution_count": 75,
          "metadata": {},
          "output_type": "execute_result"
        }
      ],
      "source": [
        "tupla = 1,2,3\n",
        "tupla"
      ]
    },
    {
      "cell_type": "code",
      "execution_count": null,
      "metadata": {
        "colab": {
          "base_uri": "https://localhost:8080/"
        },
        "id": "H4u4gg4XkBtx",
        "outputId": "c21107ee-f2f4-452e-a5e9-d601c2990089"
      },
      "outputs": [
        {
          "data": {
            "text/plain": [
              "1"
            ]
          },
          "execution_count": 76,
          "metadata": {},
          "output_type": "execute_result"
        }
      ],
      "source": [
        "tupla[0]"
      ]
    },
    {
      "cell_type": "markdown",
      "metadata": {
        "id": "-EyzsvZTAah7"
      },
      "source": [
        "La tupla y otros objetos ordenados nos permiten hacer asignación múltiple, un recurso muy útil y que nos ahorra líneas de código."
      ]
    },
    {
      "cell_type": "code",
      "execution_count": null,
      "metadata": {
        "colab": {
          "base_uri": "https://localhost:8080/"
        },
        "id": "Ubc-TwDOAioE",
        "outputId": "7a215b82-22dd-4c7c-f2e2-2fa86d69f4e2"
      },
      "outputs": [
        {
          "data": {
            "text/plain": [
              "(3, 4, 5)"
            ]
          },
          "execution_count": 77,
          "metadata": {},
          "output_type": "execute_result"
        }
      ],
      "source": [
        "3,4,5"
      ]
    },
    {
      "cell_type": "code",
      "execution_count": null,
      "metadata": {
        "id": "iVT6uwIde8mD"
      },
      "outputs": [],
      "source": [
        "a,b,c = 3,4,5"
      ]
    },
    {
      "cell_type": "code",
      "execution_count": null,
      "metadata": {
        "id": "Cx3ZiI4xkBtx"
      },
      "outputs": [],
      "source": [
        "d,e,f = tupla"
      ]
    },
    {
      "cell_type": "code",
      "execution_count": null,
      "metadata": {},
      "outputs": [
        {
          "data": {
            "text/plain": [
              "(1, 2, 3)"
            ]
          },
          "execution_count": 80,
          "metadata": {},
          "output_type": "execute_result"
        }
      ],
      "source": [
        "d,e,f"
      ]
    },
    {
      "cell_type": "markdown",
      "metadata": {
        "id": "muOZuFaVaB2K"
      },
      "source": [
        "### Numpy\n",
        "En general vamos a usar numpy para trabajar con listas numéricas.\n",
        "\n",
        "Python es un lenguaje bastante lento como ya vimos (lo notamos en operaciones largas y complejas), numpy es un biblioteca compilada y escrita en C, la cual hace que sea exponencialmente más rápido. Además nos provee algunas funciones útiles."
      ]
    },
    {
      "cell_type": "code",
      "execution_count": 12,
      "metadata": {
        "id": "WvHe-0IuaB2O"
      },
      "outputs": [],
      "source": [
        "import numpy as np\n",
        "# !pip install numpy"
      ]
    },
    {
      "cell_type": "markdown",
      "metadata": {
        "id": "vq9vyasoCVNL"
      },
      "source": [
        "Ejemplo de uso de memoria, NumPy vs Lists:"
      ]
    },
    {
      "cell_type": "code",
      "execution_count": null,
      "metadata": {},
      "outputs": [
        {
          "name": "stdout",
          "output_type": "stream",
          "text": [
            "{(2, 5), (1, 4), (3, 6)}\n"
          ]
        }
      ],
      "source": [
        "l1 = [1,2,3]\n",
        "l2 = [4,5,6]\n",
        "print(set(zip(l1,l2)))"
      ]
    },
    {
      "cell_type": "code",
      "execution_count": null,
      "metadata": {
        "colab": {
          "base_uri": "https://localhost:8080/"
        },
        "id": "mwCTo-2PCaQ3",
        "outputId": "0dd3f859-610c-48ba-9fcc-17bb6eca160a"
      },
      "outputs": [
        {
          "name": "stdout",
          "output_type": "stream",
          "text": [
            "Tiempo para las listas de Python: 0.7895150184631348 segundos\n",
            "\n",
            "Tiempo para los NumPy Array: 0.024281740188598633 seconds\n",
            "\n",
            "Las listas de Python son 32.514762629485986 veces más lentas que los NumPy Arrays\n"
          ]
        }
      ],
      "source": [
        "import sys\n",
        "import time\n",
        "  \n",
        "size = 10_000_000\n",
        "  \n",
        "list1 = range(size)\n",
        "list2 = range(size)\n",
        "  \n",
        "nparray1 = np.arange(size)\n",
        "nparray2 = np.arange(size)\n",
        "  \n",
        "# Capturo tiempo inicial antes de la operación con listas\n",
        "initialTime = time.time()\n",
        "\n",
        "# Multiplico elementos de las dos listas y los guardo en una nueva\n",
        "resultantList = [(a * b) for a, b in zip(list1, list2)]\n",
        "\n",
        "# Capturo tiempo final después de la operación con listas\n",
        "finalTime = time.time()\n",
        "\n",
        "# Calculo el tiempo de ejecución\n",
        "list_seconds = (finalTime - initialTime)\n",
        "print(\"Tiempo para las listas de Python:\", list_seconds, \"segundos\")\n",
        "print()\n",
        "\n",
        "# Idem para NumPy Arrays\n",
        "\n",
        "initialTime = time.time()\n",
        "\n",
        "resultantNPArray = nparray1 * nparray2\n",
        "\n",
        "finalTime = time.time()\n",
        "\n",
        "# Calculo el tiempo de ejecución\n",
        "numpy_seconds = (finalTime - initialTime)\n",
        "print(\"Tiempo para los NumPy Array:\", numpy_seconds, \"seconds\")\n",
        "print(\"\")\n",
        "\n",
        "print(\"Las listas de Python son\", list_seconds / numpy_seconds, \"veces más lentas que los NumPy Arrays\")"
      ]
    },
    {
      "cell_type": "markdown",
      "metadata": {
        "id": "vwAZ4KGAE0lG"
      },
      "source": [
        "Si utilizo un método para multiplicar las listas más \"simple\" o intuitivo, es incluso peor:"
      ]
    },
    {
      "cell_type": "code",
      "execution_count": null,
      "metadata": {
        "colab": {
          "base_uri": "https://localhost:8080/"
        },
        "id": "2kFsuYlyE55H",
        "outputId": "ef7e8596-ceae-481b-80b9-b744f7e3f7ad"
      },
      "outputs": [
        {
          "name": "stdout",
          "output_type": "stream",
          "text": [
            "Tiempo para las listas de Python (método 2): 2.3839035034179688 segundos\n"
          ]
        }
      ],
      "source": [
        "initialTime = time.time()\n",
        "resultantList = []\n",
        "for i in range(size):\n",
        "  resultantList.append(list1[i]*list2[i])\n",
        "finalTime = time.time()\n",
        "print(\"Tiempo para las listas de Python (método 2):\", (finalTime - initialTime), \"segundos\")"
      ]
    },
    {
      "cell_type": "code",
      "execution_count": null,
      "metadata": {
        "colab": {
          "base_uri": "https://localhost:8080/"
        },
        "id": "tksNbGhPaB2i",
        "outputId": "410da19d-e20e-45c4-9fb3-6fdae836e87e"
      },
      "outputs": [
        {
          "data": {
            "text/plain": [
              "array([1.5, 3. , 4. ])"
            ]
          },
          "execution_count": 104,
          "metadata": {},
          "output_type": "execute_result"
        }
      ],
      "source": [
        "np.array([1.5, 3, 4])"
      ]
    },
    {
      "cell_type": "code",
      "execution_count": null,
      "metadata": {
        "colab": {
          "base_uri": "https://localhost:8080/"
        },
        "id": "MpQpcLL8aB25",
        "outputId": "9fcb2362-d51b-4899-d241-38258373f129"
      },
      "outputs": [
        {
          "data": {
            "text/plain": [
              "array([1, 3, 4], dtype=int32)"
            ]
          },
          "execution_count": 105,
          "metadata": {},
          "output_type": "execute_result"
        }
      ],
      "source": [
        "a1 = np.array([1.5, 3, 4], dtype=np.int32)\n",
        "a1"
      ]
    },
    {
      "cell_type": "markdown",
      "metadata": {
        "id": "BGMvi0GvFzqx"
      },
      "source": [
        "Acá comenzamos con las operaciones que NumPy ya tiene hechas, nos ahorramos muchas líneas de código y son MUY performantes:"
      ]
    },
    {
      "cell_type": "code",
      "execution_count": null,
      "metadata": {
        "colab": {
          "base_uri": "https://localhost:8080/"
        },
        "id": "twfJdyOiaB3Z",
        "outputId": "fb068e5a-a2fa-41a5-e337-d276d5e50cb7"
      },
      "outputs": [
        {
          "data": {
            "text/plain": [
              "8"
            ]
          },
          "execution_count": 106,
          "metadata": {},
          "output_type": "execute_result"
        }
      ],
      "source": [
        "np.sum(a1)"
      ]
    },
    {
      "cell_type": "code",
      "execution_count": null,
      "metadata": {
        "colab": {
          "base_uri": "https://localhost:8080/"
        },
        "id": "Y82UoFFAaB3r",
        "outputId": "92c3202a-de67-45fa-a2c5-dadd57e8d084"
      },
      "outputs": [
        {
          "data": {
            "text/plain": [
              "2.6666666666666665"
            ]
          },
          "execution_count": 107,
          "metadata": {},
          "output_type": "execute_result"
        }
      ],
      "source": [
        "np.mean(a1)"
      ]
    },
    {
      "cell_type": "markdown",
      "metadata": {
        "id": "CJT3Fj4WF8uy"
      },
      "source": [
        "NPArray \"unidimensional\""
      ]
    },
    {
      "cell_type": "code",
      "execution_count": null,
      "metadata": {
        "colab": {
          "base_uri": "https://localhost:8080/"
        },
        "id": "zTR3slDUaB4A",
        "outputId": "bb82bdb8-f0a1-4d7b-df97-550c14a86fd5"
      },
      "outputs": [
        {
          "data": {
            "text/plain": [
              "(3,)"
            ]
          },
          "execution_count": 167,
          "metadata": {},
          "output_type": "execute_result"
        }
      ],
      "source": [
        "np.shape(a1) # Array unidimensional con 3 elementos"
      ]
    },
    {
      "cell_type": "markdown",
      "metadata": {
        "id": "n0lZjeP_GC7N"
      },
      "source": [
        ".reshape(filas, columnas)"
      ]
    },
    {
      "cell_type": "code",
      "execution_count": null,
      "metadata": {
        "colab": {
          "base_uri": "https://localhost:8080/"
        },
        "id": "pOZ0T1MLaB4V",
        "outputId": "d59085b0-cb58-4d78-e4b6-32653961f279"
      },
      "outputs": [
        {
          "data": {
            "text/plain": [
              "array([[1],\n",
              "       [3],\n",
              "       [4]], dtype=int32)"
            ]
          },
          "execution_count": 168,
          "metadata": {},
          "output_type": "execute_result"
        }
      ],
      "source": [
        "a1.reshape(3, -1) # Array bidimensional con 3 filas. El número de columnas se calcula automáticamente (-1)"
      ]
    },
    {
      "cell_type": "code",
      "execution_count": null,
      "metadata": {
        "colab": {
          "base_uri": "https://localhost:8080/"
        },
        "id": "ZoPQdzhaG1T4",
        "outputId": "f2814430-8540-4ee2-80ca-a5426a4b2664"
      },
      "outputs": [
        {
          "data": {
            "text/plain": [
              "array([[1, 3, 4]], dtype=int32)"
            ]
          },
          "execution_count": 169,
          "metadata": {},
          "output_type": "execute_result"
        }
      ],
      "source": [
        "a1.reshape(-1, 3) # Array bidimensional con 3 columnas. El número de filas se calcula automáticamente (-1)"
      ]
    },
    {
      "cell_type": "markdown",
      "metadata": {
        "id": "xU0ZlJYJGMmY"
      },
      "source": [
        "Útil para soluciones equiprobables: "
      ]
    },
    {
      "cell_type": "code",
      "execution_count": null,
      "metadata": {
        "colab": {
          "base_uri": "https://localhost:8080/"
        },
        "id": "Sm21kmcyaB4m",
        "outputId": "56b22e0b-d011-44b0-fe08-72a65ad40fb8"
      },
      "outputs": [
        {
          "data": {
            "text/plain": [
              "array([3., 3., 3., 3., 3., 3., 3., 3., 3., 3.])"
            ]
          },
          "execution_count": 111,
          "metadata": {},
          "output_type": "execute_result"
        }
      ],
      "source": [
        "np.ones(10) * 3"
      ]
    },
    {
      "cell_type": "code",
      "execution_count": null,
      "metadata": {
        "colab": {
          "base_uri": "https://localhost:8080/"
        },
        "id": "Gq9p4g0PaB46",
        "outputId": "3897497e-74fd-40c8-8ad7-966ea145ab2e"
      },
      "outputs": [
        {
          "data": {
            "text/plain": [
              "array([1., 1., 1., 1., 1., 1., 1., 1., 1., 1.])"
            ]
          },
          "execution_count": 112,
          "metadata": {},
          "output_type": "execute_result"
        }
      ],
      "source": [
        "np.zeros(10) + 1"
      ]
    },
    {
      "cell_type": "markdown",
      "metadata": {
        "id": "zLOhDmQ4aB5Q"
      },
      "source": [
        "### Matrices con NP"
      ]
    },
    {
      "cell_type": "code",
      "execution_count": null,
      "metadata": {
        "colab": {
          "base_uri": "https://localhost:8080/"
        },
        "id": "mrFVZREkaB5S",
        "outputId": "51743cf1-d1fe-4c3a-a65a-ad8cc9567949"
      },
      "outputs": [
        {
          "data": {
            "text/plain": [
              "array([[1, 2, 3],\n",
              "       [6, 4, 5]])"
            ]
          },
          "execution_count": 113,
          "metadata": {},
          "output_type": "execute_result"
        }
      ],
      "source": [
        "m1 = np.array([[1,2,3],[6,4,5]])\n",
        "m1"
      ]
    },
    {
      "cell_type": "code",
      "execution_count": null,
      "metadata": {
        "colab": {
          "base_uri": "https://localhost:8080/"
        },
        "id": "yDe9j8kmaB5m",
        "outputId": "386fcc2d-a4da-40d3-8099-7aeb64fc58fc"
      },
      "outputs": [
        {
          "data": {
            "text/plain": [
              "(2, 3)"
            ]
          },
          "execution_count": 170,
          "metadata": {},
          "output_type": "execute_result"
        }
      ],
      "source": [
        "m1.shape"
      ]
    },
    {
      "cell_type": "code",
      "execution_count": null,
      "metadata": {
        "colab": {
          "base_uri": "https://localhost:8080/"
        },
        "id": "rwslq5c-aB5x",
        "outputId": "b36ddaf8-b1a7-4c41-d860-d14d85fe213a"
      },
      "outputs": [
        {
          "data": {
            "text/plain": [
              "array([[1, 2],\n",
              "       [3, 6],\n",
              "       [4, 5]])"
            ]
          },
          "execution_count": 174,
          "metadata": {},
          "output_type": "execute_result"
        }
      ],
      "source": [
        "m1.reshape(3, -1) # Array bidimensional con 3 filas. El número de columnas se calcula automáticamente (-1)"
      ]
    },
    {
      "cell_type": "code",
      "execution_count": null,
      "metadata": {
        "colab": {
          "base_uri": "https://localhost:8080/"
        },
        "id": "imM3TpBjaB6P",
        "outputId": "4febd1b9-e549-42b4-9756-2e58740afb55"
      },
      "outputs": [
        {
          "data": {
            "text/plain": [
              "array([[1, 6],\n",
              "       [2, 4],\n",
              "       [3, 5]])"
            ]
          },
          "execution_count": 172,
          "metadata": {},
          "output_type": "execute_result"
        }
      ],
      "source": [
        "m1.transpose()"
      ]
    },
    {
      "cell_type": "code",
      "execution_count": null,
      "metadata": {
        "colab": {
          "base_uri": "https://localhost:8080/"
        },
        "id": "3Xe_JI68aB6s",
        "outputId": "ab7c5a16-6bfc-415f-b742-be7ac7ef8aef"
      },
      "outputs": [
        {
          "data": {
            "text/plain": [
              "21"
            ]
          },
          "execution_count": 120,
          "metadata": {},
          "output_type": "execute_result"
        }
      ],
      "source": [
        "np.sum(m1)"
      ]
    },
    {
      "cell_type": "code",
      "execution_count": null,
      "metadata": {
        "colab": {
          "base_uri": "https://localhost:8080/"
        },
        "id": "D8b4kX114_5l",
        "outputId": "e8b307c1-448c-4567-8e6b-c771c9d7b2f1"
      },
      "outputs": [
        {
          "data": {
            "text/plain": [
              "array([[1, 2, 3],\n",
              "       [6, 4, 5]])"
            ]
          },
          "execution_count": 121,
          "metadata": {},
          "output_type": "execute_result"
        }
      ],
      "source": [
        "m1"
      ]
    },
    {
      "cell_type": "markdown",
      "metadata": {
        "id": "nVCM9VUWHIAa"
      },
      "source": [
        "![image.png](data:image/png;base64,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)"
      ]
    },
    {
      "cell_type": "code",
      "execution_count": null,
      "metadata": {
        "colab": {
          "base_uri": "https://localhost:8080/"
        },
        "id": "hETgJPYMaB6-",
        "outputId": "0453d755-39c5-48f2-a320-dadd312ee510"
      },
      "outputs": [
        {
          "data": {
            "text/plain": [
              "array([7, 6, 8])"
            ]
          },
          "execution_count": 122,
          "metadata": {},
          "output_type": "execute_result"
        }
      ],
      "source": [
        "np.sum(m1, axis=0) #similar a decir, cortá por cada valor en el eje de las abscisas (x)"
      ]
    },
    {
      "cell_type": "code",
      "execution_count": null,
      "metadata": {
        "colab": {
          "base_uri": "https://localhost:8080/"
        },
        "id": "LrhbBL87aB7j",
        "outputId": "795a0302-78ea-4297-8bfb-8e846fe8c999"
      },
      "outputs": [
        {
          "data": {
            "text/plain": [
              "array([ 6, 15])"
            ]
          },
          "execution_count": 123,
          "metadata": {},
          "output_type": "execute_result"
        }
      ],
      "source": [
        "np.sum(m1, axis=1) #similar a decir, cortá por cada valor en el eje de las ordenadas (y)"
      ]
    },
    {
      "cell_type": "markdown",
      "metadata": {
        "id": "E9x0nV92kBt1"
      },
      "source": [
        "### Funciones"
      ]
    },
    {
      "cell_type": "markdown",
      "metadata": {
        "id": "R9w-dTjEkBt1"
      },
      "source": [
        "#### Declaración de la función y del retorno"
      ]
    },
    {
      "cell_type": "code",
      "execution_count": null,
      "metadata": {
        "id": "FPjCED8baB8R"
      },
      "outputs": [],
      "source": [
        "from typing import Tuple\n",
        "\n",
        "def who_are_you() -> Tuple[str,str]:\n",
        "    return 'I turned myself into a pickle', \"I'm picle rick!!!!\""
      ]
    },
    {
      "cell_type": "code",
      "execution_count": null,
      "metadata": {
        "colab": {
          "base_uri": "https://localhost:8080/"
        },
        "id": "Thh1btMHaB8i",
        "outputId": "f301f067-8e0d-4229-bb9d-d5f52963d133"
      },
      "outputs": [
        {
          "data": {
            "text/plain": [
              "('I turned myself into a pickle', \"I'm picle rick!!!!\")"
            ]
          },
          "execution_count": 125,
          "metadata": {},
          "output_type": "execute_result"
        }
      ],
      "source": [
        "who_are_you()"
      ]
    },
    {
      "cell_type": "code",
      "execution_count": null,
      "metadata": {
        "colab": {
          "base_uri": "https://localhost:8080/"
        },
        "id": "J5xfWJ1Ul8g1",
        "outputId": "16cd9660-5cba-4cb0-9257-d7d29a03f56e"
      },
      "outputs": [
        {
          "data": {
            "text/plain": [
              "tuple"
            ]
          },
          "execution_count": 126,
          "metadata": {},
          "output_type": "execute_result"
        }
      ],
      "source": [
        "type(who_are_you())"
      ]
    },
    {
      "cell_type": "code",
      "execution_count": null,
      "metadata": {
        "colab": {
          "base_uri": "https://localhost:8080/"
        },
        "id": "ATcSLnS1aB84",
        "outputId": "a2d68443-47fb-49ce-dacd-970048948898"
      },
      "outputs": [
        {
          "name": "stdout",
          "output_type": "stream",
          "text": [
            "I turned myself into a pickle\n",
            "I'm picle rick!!!!\n"
          ]
        }
      ],
      "source": [
        "_, answer = who_are_you()\n",
        "print(_)\n",
        "print(answer)"
      ]
    },
    {
      "cell_type": "markdown",
      "metadata": {
        "id": "R4vv_5i4kBt2"
      },
      "source": [
        "#### Tipos en los parámetros"
      ]
    },
    {
      "cell_type": "code",
      "execution_count": null,
      "metadata": {
        "id": "B9aO3Mx2kBt2"
      },
      "outputs": [],
      "source": [
        "def my_sum(a:int, b:int) -> int:\n",
        "    return a + b"
      ]
    },
    {
      "cell_type": "markdown",
      "metadata": {
        "id": "etnyOFl_kBt2"
      },
      "source": [
        "Pero esto en realidad es solo una sugerencia, le podemos pasar cualquier tipo y Python nos lo permite, como ya vimos antes.\n",
        "\n",
        "Hay que tener cuidado a la hora de llamar a las funciones."
      ]
    },
    {
      "cell_type": "code",
      "execution_count": null,
      "metadata": {
        "colab": {
          "base_uri": "https://localhost:8080/",
          "height": 304
        },
        "id": "5k99DCZwkBt2",
        "outputId": "8eb35f43-9756-42c6-a74e-5f65a5cddc28"
      },
      "outputs": [
        {
          "name": "stdout",
          "output_type": "stream",
          "text": [
            "15\n",
            "hola chau\n"
          ]
        },
        {
          "ename": "TypeError",
          "evalue": "can only concatenate str (not \"int\") to str",
          "output_type": "error",
          "traceback": [
            "\u001b[0;31m---------------------------------------------------------------------------\u001b[0m",
            "\u001b[0;31mTypeError\u001b[0m                                 Traceback (most recent call last)",
            "Cell \u001b[0;32mIn[129], line 3\u001b[0m\n\u001b[1;32m      1\u001b[0m \u001b[38;5;28mprint\u001b[39m(my_sum(\u001b[38;5;241m10\u001b[39m,\u001b[38;5;241m5\u001b[39m))\n\u001b[1;32m      2\u001b[0m \u001b[38;5;28mprint\u001b[39m(my_sum(\u001b[38;5;124m'\u001b[39m\u001b[38;5;124mhola\u001b[39m\u001b[38;5;124m'\u001b[39m,\u001b[38;5;124m'\u001b[39m\u001b[38;5;124m chau\u001b[39m\u001b[38;5;124m'\u001b[39m))\n\u001b[0;32m----> 3\u001b[0m \u001b[38;5;28mprint\u001b[39m(\u001b[43mmy_sum\u001b[49m\u001b[43m(\u001b[49m\u001b[38;5;124;43m'\u001b[39;49m\u001b[38;5;124;43mhola\u001b[39;49m\u001b[38;5;124;43m'\u001b[39;49m\u001b[43m,\u001b[49m\u001b[43m \u001b[49m\u001b[38;5;241;43m5\u001b[39;49m\u001b[43m)\u001b[49m)\n",
            "Cell \u001b[0;32mIn[128], line 2\u001b[0m, in \u001b[0;36mmy_sum\u001b[0;34m(a, b)\u001b[0m\n\u001b[1;32m      1\u001b[0m \u001b[38;5;28;01mdef\u001b[39;00m \u001b[38;5;21mmy_sum\u001b[39m(a:\u001b[38;5;28mint\u001b[39m, b:\u001b[38;5;28mint\u001b[39m) \u001b[38;5;241m-\u001b[39m\u001b[38;5;241m>\u001b[39m \u001b[38;5;28mint\u001b[39m:\n\u001b[0;32m----> 2\u001b[0m     \u001b[38;5;28;01mreturn\u001b[39;00m \u001b[43ma\u001b[49m\u001b[43m \u001b[49m\u001b[38;5;241;43m+\u001b[39;49m\u001b[43m \u001b[49m\u001b[43mb\u001b[49m\n",
            "\u001b[0;31mTypeError\u001b[0m: can only concatenate str (not \"int\") to str"
          ]
        }
      ],
      "source": [
        "print(my_sum(10,5))\n",
        "print(my_sum('hola',' chau'))\n",
        "print(my_sum('hola', 5))"
      ]
    },
    {
      "cell_type": "markdown",
      "metadata": {
        "id": "ndUHZj3PaB9D"
      },
      "source": [
        "### Clases"
      ]
    },
    {
      "cell_type": "markdown",
      "metadata": {
        "id": "CQU-u5EcmEFf"
      },
      "source": [
        "\\__init__ es el constructor, self se pasa de manera implícita, es el objeto en si mismo, en Python hay que especificarlo. El self es parecido al this"
      ]
    },
    {
      "cell_type": "code",
      "execution_count": null,
      "metadata": {
        "id": "xksEnMQ2aB9H"
      },
      "outputs": [],
      "source": [
        "class Person:\n",
        "    def __init__(self, name, age):\n",
        "        self.name = name\n",
        "        self.age = age\n",
        "        \n",
        "    def say_hi(self, other):\n",
        "        print(f'Hello {other.name}! I am {self.name}')         "
      ]
    },
    {
      "cell_type": "code",
      "execution_count": null,
      "metadata": {
        "colab": {
          "base_uri": "https://localhost:8080/"
        },
        "id": "dhEaigsKaB9U",
        "outputId": "c42883f6-6888-4d10-db20-35e94a9acf9b"
      },
      "outputs": [
        {
          "name": "stdout",
          "output_type": "stream",
          "text": [
            "Hello Maria! I am Juan\n",
            "Hello Juan! I am Maria\n"
          ]
        }
      ],
      "source": [
        "juan = Person(\"Juan\", 21)\n",
        "maria = Person(\"Maria\", 32)\n",
        "juan.say_hi(maria)\n",
        "maria.say_hi(juan)"
      ]
    },
    {
      "cell_type": "markdown",
      "metadata": {
        "id": "tovjO1aNaB9l"
      },
      "source": [
        "#### Abstract class"
      ]
    },
    {
      "cell_type": "markdown",
      "metadata": {
        "id": "-mI2abWGmPJb"
      },
      "source": [
        "ABC es abstract base class, nos da lo necesario para trabajar con clases abstractas."
      ]
    },
    {
      "cell_type": "code",
      "execution_count": null,
      "metadata": {
        "id": "WOjMh0sSaB9n"
      },
      "outputs": [],
      "source": [
        "from abc import ABC, abstractmethod \n",
        "import math"
      ]
    },
    {
      "cell_type": "code",
      "execution_count": null,
      "metadata": {
        "id": "J0cj_aR1aB97"
      },
      "outputs": [],
      "source": [
        "class Shape(ABC):\n",
        "  def __init__(self, name):\n",
        "    self.name = name\n",
        "  \n",
        "  @abstractmethod\n",
        "  def area(self):\n",
        "    pass\n",
        "\n",
        "  def say_name(self):\n",
        "    print(\"Soy un:\", self.name)"
      ]
    },
    {
      "cell_type": "code",
      "execution_count": null,
      "metadata": {
        "id": "jUhL58B4aB-D"
      },
      "outputs": [],
      "source": [
        "class Rectangle(Shape):\n",
        "  def __init__(self, lenght, width):\n",
        "    super().__init__(\"rectangle\")\n",
        "    self.lenght = lenght\n",
        "    self.width = width\n",
        "\n",
        "  def area(self):\n",
        "    print(\"Area:\", self.lenght * self.width)\n",
        "\n",
        "  def say_name(self):\n",
        "    super().say_name()"
      ]
    },
    {
      "cell_type": "code",
      "execution_count": null,
      "metadata": {
        "id": "3Jwp2625aB-s"
      },
      "outputs": [],
      "source": [
        "class Circle(Shape):\n",
        "  def __init__(self, radius):\n",
        "    super().__init__(\"Circle\")\n",
        "    self.radius = radius\n",
        "\n",
        "  def area(self):\n",
        "    print(\"Área:\", math.pi * self.radius * self.radius)"
      ]
    },
    {
      "cell_type": "code",
      "execution_count": null,
      "metadata": {
        "colab": {
          "base_uri": "https://localhost:8080/"
        },
        "id": "BZPLzi2faB--",
        "outputId": "c5771535-9134-4500-aa8a-295b204ad1c3"
      },
      "outputs": [
        {
          "name": "stdout",
          "output_type": "stream",
          "text": [
            "Soy un: rectangle\n",
            "Area: 12\n"
          ]
        }
      ],
      "source": [
        "r = Rectangle(3,4)\n",
        "r.say_name()\n",
        "r.area()"
      ]
    },
    {
      "cell_type": "code",
      "execution_count": null,
      "metadata": {
        "colab": {
          "base_uri": "https://localhost:8080/"
        },
        "id": "q6yLo0u9aB_G",
        "outputId": "d68f68e3-e064-47ad-8960-16211cae9017"
      },
      "outputs": [
        {
          "name": "stdout",
          "output_type": "stream",
          "text": [
            "Soy un: Circle\n",
            "Área: 12.566370614359172\n"
          ]
        }
      ],
      "source": [
        "c = Circle(2)\n",
        "c.say_name()\n",
        "c.area()"
      ]
    },
    {
      "cell_type": "markdown",
      "metadata": {
        "id": "AwfGtUktaB_O"
      },
      "source": [
        "### Plot"
      ]
    },
    {
      "cell_type": "code",
      "execution_count": null,
      "metadata": {
        "id": "F-xPhFA8aB_P"
      },
      "outputs": [],
      "source": [
        "#!pip install matplotlib\n",
        "import matplotlib.pyplot as plt"
      ]
    },
    {
      "cell_type": "code",
      "execution_count": null,
      "metadata": {
        "colab": {
          "base_uri": "https://localhost:8080/"
        },
        "id": "0g9avvbO5kUO",
        "outputId": "60fee068-ae6f-4126-af6e-f2b3faf48c18"
      },
      "outputs": [
        {
          "data": {
            "text/plain": [
              "(3,)"
            ]
          },
          "execution_count": 152,
          "metadata": {},
          "output_type": "execute_result"
        }
      ],
      "source": [
        "m1[0].shape"
      ]
    },
    {
      "cell_type": "code",
      "execution_count": null,
      "metadata": {
        "colab": {
          "base_uri": "https://localhost:8080/"
        },
        "id": "PQFTl2Z25l01",
        "outputId": "19f90c19-ac77-4596-bd9f-9002914f0890"
      },
      "outputs": [
        {
          "data": {
            "text/plain": [
              "numpy.ndarray"
            ]
          },
          "execution_count": 153,
          "metadata": {},
          "output_type": "execute_result"
        }
      ],
      "source": [
        "type(a1)"
      ]
    },
    {
      "cell_type": "code",
      "execution_count": null,
      "metadata": {},
      "outputs": [
        {
          "name": "stdout",
          "output_type": "stream",
          "text": [
            "[1 3 4]\n",
            "\n",
            "[[1 2 3]\n",
            " [6 4 5]]\n"
          ]
        }
      ],
      "source": [
        "print(a1)\n",
        "print(\"\")\n",
        "print(m1)"
      ]
    },
    {
      "cell_type": "code",
      "execution_count": null,
      "metadata": {
        "colab": {
          "base_uri": "https://localhost:8080/",
          "height": 282
        },
        "id": "1b6UdTABaB_c",
        "outputId": "aef1a733-567a-4abe-84b6-9b903dedd9a6"
      },
      "outputs": [
        {
          "data": {
            "text/plain": [
              "[<matplotlib.lines.Line2D at 0x7be1046bc9d0>]"
            ]
          },
          "execution_count": 154,
          "metadata": {},
          "output_type": "execute_result"
        },
        {
          "data": {
            "image/png": "[encoded data removed]",
            "text/plain": [
              "<Figure size 640x480 with 1 Axes>"
            ]
          },
          "metadata": {},
          "output_type": "display_data"
        }
      ],
      "source": [
        "plt.plot(a1, m1[0])"
      ]
    },
    {
      "cell_type": "code",
      "execution_count": null,
      "metadata": {
        "colab": {
          "base_uri": "https://localhost:8080/",
          "height": 282
        },
        "id": "QyPKPVuWaCAB",
        "outputId": "a8efc4f1-35fe-48f2-b760-b60ddaa40494"
      },
      "outputs": [
        {
          "data": {
            "text/plain": [
              "<matplotlib.collections.PathCollection at 0x7be0f9eb47f0>"
            ]
          },
          "execution_count": 155,
          "metadata": {},
          "output_type": "execute_result"
        },
        {
          "data": {
            "image/png": "[encoded data removed]",
            "text/plain": [
              "<Figure size 640x480 with 1 Axes>"
            ]
          },
          "metadata": {},
          "output_type": "display_data"
        }
      ],
      "source": [
        "plt.scatter(a1, m1[0])"
      ]
    },
    {
      "cell_type": "code",
      "execution_count": null,
      "metadata": {},
      "outputs": [],
      "source": [
        "lista = [0, 1, 1, 2, 3, 3 ,3]"
      ]
    },
    {
      "cell_type": "code",
      "execution_count": null,
      "metadata": {
        "colab": {
          "base_uri": "https://localhost:8080/",
          "height": 317
        },
        "id": "LxqJGFT_aCAI",
        "outputId": "ddd6aa72-f64c-4a16-cb7a-2e5742124c69"
      },
      "outputs": [
        {
          "data": {
            "text/plain": [
              "(array([1., 0., 0., 2., 0., 0., 1., 0., 0., 3.]),\n",
              " array([0. , 0.3, 0.6, 0.9, 1.2, 1.5, 1.8, 2.1, 2.4, 2.7, 3. ]),\n",
              " <BarContainer object of 10 artists>)"
            ]
          },
          "execution_count": 184,
          "metadata": {},
          "output_type": "execute_result"
        },
        {
          "data": {
            "image/png": "[encoded data removed]",
            "text/plain": [
              "<Figure size 640x480 with 1 Axes>"
            ]
          },
          "metadata": {},
          "output_type": "display_data"
        }
      ],
      "source": [
        "plt.hist(lista)"
      ]
    },
    {
      "cell_type": "markdown",
      "metadata": {
        "id": "ahcbvxRJaCAS"
      },
      "source": [
        "### Random"
      ]
    },
    {
      "cell_type": "code",
      "execution_count": 14,
      "metadata": {
        "colab": {
          "base_uri": "https://localhost:8080/"
        },
        "id": "weLp7MbbaCAk",
        "outputId": "5972f8b3-b0c1-41d0-82b6-d491412541fa"
      },
      "outputs": [
        {
          "data": {
            "text/plain": [
              "0.6193115251507059"
            ]
          },
          "execution_count": 14,
          "metadata": {},
          "output_type": "execute_result"
        }
      ],
      "source": [
        "np.random.random()"
      ]
    },
    {
      "cell_type": "code",
      "execution_count": 16,
      "metadata": {
        "colab": {
          "base_uri": "https://localhost:8080/"
        },
        "id": "8garWJ-kaCAw",
        "outputId": "2b8d1081-f5b5-495f-e6f0-86f3e13add01"
      },
      "outputs": [
        {
          "data": {
            "text/plain": [
              "array([0.80879207, 0.97253986, 0.23033582, 0.59261418, 0.71810543,\n",
              "       0.17775137, 0.81010567, 0.7792117 , 0.01205506, 0.17710831])"
            ]
          },
          "execution_count": 16,
          "metadata": {},
          "output_type": "execute_result"
        }
      ],
      "source": [
        "np.random.random(10)"
      ]
    },
    {
      "cell_type": "code",
      "execution_count": 17,
      "metadata": {
        "id": "qTShWT8SaCA9"
      },
      "outputs": [],
      "source": [
        "mu, sigma = 0, 0.1 # mean and standard deviation\n",
        "normal = np.random.normal(mu, sigma, 1000)"
      ]
    },
    {
      "cell_type": "code",
      "execution_count": 18,
      "metadata": {
        "colab": {
          "base_uri": "https://localhost:8080/",
          "height": 508
        },
        "id": "Qtp_q9l6mkeI",
        "outputId": "2c30223b-0fa8-4b53-aeb3-32df2df0d70a"
      },
      "outputs": [
        {
          "ename": "NameError",
          "evalue": "name 'plt' is not defined",
          "output_type": "error",
          "traceback": [
            "\u001b[0;31m---------------------------------------------------------------------------\u001b[0m",
            "\u001b[0;31mNameError\u001b[0m                                 Traceback (most recent call last)",
            "Cell \u001b[0;32mIn[18], line 2\u001b[0m\n\u001b[1;32m      1\u001b[0m towerCounts \u001b[38;5;241m=\u001b[39m \u001b[38;5;241m30\u001b[39m\n\u001b[0;32m----> 2\u001b[0m \u001b[43mplt\u001b[49m\u001b[38;5;241m.\u001b[39mhist(normal, towerCounts, density\u001b[38;5;241m=\u001b[39m\u001b[38;5;28;01mTrue\u001b[39;00m)\n",
            "\u001b[0;31mNameError\u001b[0m: name 'plt' is not defined"
          ]
        }
      ],
      "source": [
        "towerCounts = 30\n",
        "plt.hist(normal, towerCounts, density=True)"
      ]
    },
    {
      "cell_type": "code",
      "execution_count": null,
      "metadata": {
        "id": "WWqKMxeZaCBJ"
      },
      "outputs": [],
      "source": [
        "dice = np.random.choice([1, 2, 3, 4, 5, 6], p=np.ones(6)* (1/6), size=20000)"
      ]
    },
    {
      "cell_type": "code",
      "execution_count": null,
      "metadata": {
        "colab": {
          "base_uri": "https://localhost:8080/",
          "height": 335
        },
        "id": "n8p9O1eIaCBQ",
        "outputId": "72614b2e-b3d1-45ca-91f4-cad5195f98cd"
      },
      "outputs": [
        {
          "data": {
            "text/plain": [
              "(array([3292.,    0., 3326.,    0., 3387.,    0., 3340.,    0., 3329.,\n",
              "        3326.]),\n",
              " array([1. , 1.5, 2. , 2.5, 3. , 3.5, 4. , 4.5, 5. , 5.5, 6. ]),\n",
              " <BarContainer object of 10 artists>)"
            ]
          },
          "execution_count": 163,
          "metadata": {},
          "output_type": "execute_result"
        },
        {
          "data": {
            "image/png": "[encoded data removed]",
            "text/plain": [
              "<Figure size 640x480 with 1 Axes>"
            ]
          },
          "metadata": {},
          "output_type": "display_data"
        }
      ],
      "source": [
        "plt.hist(dice)"
      ]
    },
    {
      "cell_type": "code",
      "execution_count": null,
      "metadata": {
        "id": "Jjp2_BTeaCBi"
      },
      "outputs": [],
      "source": [
        "loaded_dice = np.random.choice([1, 2, 3, 4, 5, 6], p=[0.1, 0, 0, 0, 0.2, 0.7], size=20000)"
      ]
    },
    {
      "cell_type": "code",
      "execution_count": null,
      "metadata": {
        "colab": {
          "base_uri": "https://localhost:8080/",
          "height": 334
        },
        "id": "vkkLvkYVaCBy",
        "outputId": "bbe5b2e4-baf9-4fab-c232-346d8bf31602"
      },
      "outputs": [
        {
          "data": {
            "text/plain": [
              "(array([ 1985.,     0.,     0.,     0.,     0.,     0.,     0.,     0.,\n",
              "         4005., 14010.]),\n",
              " array([1. , 1.5, 2. , 2.5, 3. , 3.5, 4. , 4.5, 5. , 5.5, 6. ]),\n",
              " <BarContainer object of 10 artists>)"
            ]
          },
          "execution_count": 166,
          "metadata": {},
          "output_type": "execute_result"
        },
        {
          "data": {
            "image/png": "[encoded data removed]",
            "text/plain": [
              "<Figure size 640x480 with 1 Axes>"
            ]
          },
          "metadata": {},
          "output_type": "display_data"
        }
      ],
      "source": [
        "plt.hist(loaded_dice)"
      ]
    },
    {
      "cell_type": "markdown",
      "metadata": {
        "id": "RW2z8xuaaCB3"
      },
      "source": [
        "### Fuera de la notebook\n",
        "\n",
        "Podemos programar fuera de la notebook. Para ello es una buena practica armar un main (si no hacemos un main, ejecuta todo el archivo linea por linea)\n",
        "\n",
        "Para armar el main debemos hacer el siguiente if\n",
        "```\n",
        "if __name__ == \"__main__\":\n",
        "    main()\n",
        "```\n",
        "La funcion `main()` no es necesaria, y se puede llamar de otra forma, pero es una buena practica\n",
        "```\n",
        "def main():\n",
        "    print(\"this is my main function\")\n",
        "\n",
        "```\n",
        "\n",
        "Como la funcion `main()` la definimos a parte, podemos importarla a la notebook"
      ]
    },
    {
      "cell_type": "code",
      "execution_count": null,
      "metadata": {
        "id": "g-e0ZoyKaCB4",
        "outputId": "bfa5f0f9-5a32-48e5-94eb-36213c7db806"
      },
      "outputs": [],
      "source": [
        "from intro_python_syntax import main\n",
        "main()"
      ]
    },
    {
      "cell_type": "markdown",
      "metadata": {
        "id": "E9N6cKA8kBt7"
      },
      "source": [
        "### Exportar notebook a codigo\n",
        "Por ultimo, si estamos trabajando en vs code, la herramienta nos permite pasar de un archivo `.py` a `.ipynb` y vice versa\n",
        "\n",
        "Esto podria llegar a servir en caso de querer debuggear, de todas maneras, la manera mas rapida de debuggear suele ser utilizando f-strings `print(f'{foo = } - {bar = }')`"
      ]
    }
  ],
  "metadata": {
    "colab": {
      "provenance": []
    },
    "interpreter": {
      "hash": "31f0e624692c3076b56a95230a40bf670b331d02e5aa3fca18763ebaf25ecf10"
    },
    "kernelspec": {
      "display_name": "Python 3.8.8 64-bit ('mlsi2021': conda)",
      "name": "python3"
    },
    "language_info": {
      "codemirror_mode": {
        "name": "ipython",
        "version": 3
      },
      "file_extension": ".py",
      "mimetype": "text/x-python",
      "name": "python",
      "nbconvert_exporter": "python",
      "pygments_lexer": "ipython3",
      "version": "3.10.12"
    }
  },
  "nbformat": 4,
  "nbformat_minor": 0
}
