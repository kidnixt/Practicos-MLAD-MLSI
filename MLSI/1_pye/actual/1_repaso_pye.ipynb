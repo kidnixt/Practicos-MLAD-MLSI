{
  "cells": [
    {
      "cell_type": "markdown",
      "metadata": {
        "id": "UEtQOYsTQjXU"
      },
      "source": [
        "# Práctico 1"
      ]
    },
    {
      "cell_type": "markdown",
      "metadata": {
        "id": "TW-qgyxMQjXX"
      },
      "source": [
        "## Librerías"
      ]
    },
    {
      "cell_type": "markdown",
      "metadata": {
        "id": "IYyCF-mdQjXa"
      },
      "source": [
        "<img src=\"https://numpy.org/images/content_images/ds-landscape.png\" width=600 alt='Image from numpy website.'>"
      ]
    },
    {
      "cell_type": "code",
      "execution_count": null,
      "metadata": {
        "id": "z3h_rCjlQjXc"
      },
      "outputs": [],
      "source": [
        "# Importar librerias\n",
        "# !pip install libreria\n",
        "import numpy as np\n",
        "import pandas as pd\n",
        "import matplotlib.pyplot as plt\n",
        "import seaborn as sns\n",
        "from scipy.stats.mstats import winsorize\n",
        "# from google.colab import drive, files\n",
        "import io"
      ]
    },
    {
      "cell_type": "markdown",
      "metadata": {
        "id": "opEbqWEtrRm7"
      },
      "source": [
        "[Documentación Pandas](https://pandas.pydata.org/docs/reference/index.html)  "
      ]
    },
    {
      "cell_type": "markdown",
      "metadata": {
        "id": "erJb5HEwQjXe"
      },
      "source": [
        "## Carga y preparación de los datos"
      ]
    },
    {
      "cell_type": "markdown",
      "metadata": {
        "id": "fhxiZOeVykgl"
      },
      "source": [
        "Carga de los datos"
      ]
    },
    {
      "cell_type": "code",
      "execution_count": null,
      "metadata": {
        "colab": {
          "base_uri": "https://localhost:8080/"
        },
        "id": "C8MrFcbwQjXf",
        "outputId": "e91a63fd-b830-40f6-aa48-1f12e3d51d99"
      },
      "outputs": [],
      "source": [
        "# Drive\n",
        "#drive.mount('/content/drive', force_remount=True)\n",
        "#df=pd.read_csv(\"/content/drive/My Drive/data/credit_data.csv\", sep = \",\")\n",
        "\n",
        "# Local (o Kaggle)\n",
        "df=pd.read_csv(\"credit_data.csv\", sep = \",\")"
      ]
    },
    {
      "cell_type": "markdown",
      "metadata": {
        "id": "QRu5wMuRyqA4"
      },
      "source": [
        "Comando desde consola para ver que tengo en esta sesión Drive"
      ]
    },
    {
      "cell_type": "code",
      "execution_count": null,
      "metadata": {
        "colab": {
          "base_uri": "https://localhost:8080/"
        },
        "id": "M4DvrKOfta3K",
        "outputId": "67c862f4-0920-4aef-b422-247fd04fcca4"
      },
      "outputs": [],
      "source": [
        "!ls -ltrh drive/"
      ]
    },
    {
      "cell_type": "markdown",
      "metadata": {
        "id": "yqmk1UveytiQ"
      },
      "source": [
        "Tipo de objeto creado"
      ]
    },
    {
      "cell_type": "code",
      "execution_count": null,
      "metadata": {
        "colab": {
          "base_uri": "https://localhost:8080/"
        },
        "id": "6WqVxbOkQjXi",
        "outputId": "02c92339-bec6-47ac-daed-b06cbb5f28fc"
      },
      "outputs": [],
      "source": [
        "type(df)"
      ]
    },
    {
      "cell_type": "markdown",
      "metadata": {
        "id": "TA6x5rVCyvZz"
      },
      "source": [
        "Número de filas en el data frame"
      ]
    },
    {
      "cell_type": "code",
      "execution_count": null,
      "metadata": {
        "colab": {
          "base_uri": "https://localhost:8080/"
        },
        "id": "qTkrQL-eQjXl",
        "outputId": "3eaa2aa3-8731-4552-fe31-e8466ad9f73e"
      },
      "outputs": [],
      "source": [
        "print(f\"El dataset tiene {df.shape[0]} filas (cantidad de observaciones) y {df.shape[1]} columnas (variables)\")"
      ]
    },
    {
      "cell_type": "markdown",
      "metadata": {
        "id": "rlpY9pRCyzLO"
      },
      "source": [
        "Visualización del data frame"
      ]
    },
    {
      "cell_type": "code",
      "execution_count": null,
      "metadata": {
        "colab": {
          "base_uri": "https://localhost:8080/",
          "height": 424
        },
        "id": "B2kW36sKQjXs",
        "outputId": "b290c3f3-12ee-4d3f-9630-627e5e4caf09"
      },
      "outputs": [],
      "source": [
        "df"
      ]
    },
    {
      "cell_type": "markdown",
      "metadata": {
        "id": "tYJQvQQzy1Rn"
      },
      "source": [
        "Primeras filas del data frame"
      ]
    },
    {
      "cell_type": "code",
      "execution_count": null,
      "metadata": {
        "colab": {
          "base_uri": "https://localhost:8080/",
          "height": 206
        },
        "id": "y5UvWdjQQjXu",
        "outputId": "a1bb1ced-607a-40fb-8ad7-f4b6d9f869ec"
      },
      "outputs": [],
      "source": [
        "df.head(5)"
      ]
    },
    {
      "cell_type": "markdown",
      "metadata": {
        "id": "PE-Zb0rfy283"
      },
      "source": [
        "Últimas filas del data frame"
      ]
    },
    {
      "cell_type": "code",
      "execution_count": null,
      "metadata": {
        "colab": {
          "base_uri": "https://localhost:8080/",
          "height": 143
        },
        "id": "GTESKFiAQjXv",
        "outputId": "d16ecac8-e6cb-47e8-eca9-c5c82671709a"
      },
      "outputs": [],
      "source": [
        "df.tail(3)"
      ]
    },
    {
      "cell_type": "markdown",
      "metadata": {
        "id": "mc2DKoa3y5m6"
      },
      "source": [
        "Selección de filas con índice 2, 3 y 4"
      ]
    },
    {
      "cell_type": "code",
      "execution_count": null,
      "metadata": {
        "colab": {
          "base_uri": "https://localhost:8080/",
          "height": 143
        },
        "id": "1bwni2v88N51",
        "outputId": "2e97cbd1-819d-41ba-b044-2cbbf5a2e34f"
      },
      "outputs": [],
      "source": [
        "df.loc[2:4]"
      ]
    },
    {
      "cell_type": "markdown",
      "metadata": {
        "id": "_XwES9z_zAQJ"
      },
      "source": [
        "Selección de filas con index par, callback function"
      ]
    },
    {
      "cell_type": "code",
      "execution_count": null,
      "metadata": {
        "id": "Q3PZSfJ-bE0s"
      },
      "outputs": [],
      "source": [
        "def pares(x):\n",
        "  return x.index % 2 == 0"
      ]
    },
    {
      "cell_type": "code",
      "execution_count": null,
      "metadata": {
        "colab": {
          "base_uri": "https://localhost:8080/",
          "height": 424
        },
        "id": "-dlb3pYjbZWZ",
        "outputId": "f8cc3746-a98c-46df-cdd1-d0e34ba4060b"
      },
      "outputs": [],
      "source": [
        "df.loc[pares]"
      ]
    },
    {
      "cell_type": "markdown",
      "metadata": {
        "id": "gx9FP35ty-gF"
      },
      "source": [
        "Selección de filas con index par, lambda expression"
      ]
    },
    {
      "cell_type": "code",
      "execution_count": null,
      "metadata": {
        "colab": {
          "base_uri": "https://localhost:8080/",
          "height": 424
        },
        "id": "Pjt0Yb9fQjXw",
        "outputId": "fe6ba807-7c91-4f1c-9ff0-3e810978de2d"
      },
      "outputs": [],
      "source": [
        "df.loc[lambda x: x.index % 2 == 0]"
      ]
    },
    {
      "cell_type": "markdown",
      "metadata": {
        "id": "r2OXqgL5zC9t"
      },
      "source": [
        "Selección de columnas por el nombre"
      ]
    },
    {
      "cell_type": "code",
      "execution_count": null,
      "metadata": {
        "colab": {
          "base_uri": "https://localhost:8080/",
          "height": 424
        },
        "id": "O7eZ0RhDQjXx",
        "outputId": "87d8a2d3-cfdb-4efd-c341-15b8cf4cce21"
      },
      "outputs": [],
      "source": [
        "df[['Age','Risk']]"
      ]
    },
    {
      "cell_type": "markdown",
      "metadata": {
        "id": "Wx-ISELfzHlW"
      },
      "source": [
        "Identificamos las variables del data frame y sus características"
      ]
    },
    {
      "cell_type": "code",
      "execution_count": null,
      "metadata": {
        "colab": {
          "base_uri": "https://localhost:8080/"
        },
        "id": "f0zupwXAQjXz",
        "outputId": "5e0becec-009c-4ebb-cce0-357db712d211"
      },
      "outputs": [],
      "source": [
        "df.info()"
      ]
    },
    {
      "cell_type": "markdown",
      "metadata": {},
      "source": [
        "### Medidas estadísticas"
      ]
    },
    {
      "cell_type": "markdown",
      "metadata": {},
      "source": [
        "#### Media"
      ]
    },
    {
      "cell_type": "code",
      "execution_count": null,
      "metadata": {},
      "outputs": [],
      "source": [
        "age_mean = df['Age'].mean()\n",
        "print(f\"La media de la edad es {age_mean}\")\n"
      ]
    },
    {
      "cell_type": "markdown",
      "metadata": {},
      "source": [
        "#### Mediana"
      ]
    },
    {
      "cell_type": "code",
      "execution_count": null,
      "metadata": {},
      "outputs": [],
      "source": [
        "age_median = df['Age'].median()\n",
        "print(f\"La mediana de la edad es {age_median}\")"
      ]
    },
    {
      "cell_type": "markdown",
      "metadata": {},
      "source": [
        "#### Varianza"
      ]
    },
    {
      "cell_type": "code",
      "execution_count": null,
      "metadata": {},
      "outputs": [],
      "source": [
        "age_var = df['Age'].var()\n",
        "print(f\"La varianza de la edad es {age_var}\")"
      ]
    },
    {
      "cell_type": "markdown",
      "metadata": {},
      "source": [
        "#### Desviación estándar"
      ]
    },
    {
      "cell_type": "code",
      "execution_count": null,
      "metadata": {},
      "outputs": [],
      "source": [
        "age_std = df['Age'].std()\n",
        "print(f\"La desviación estándar de la edad es {age_std}\")"
      ]
    },
    {
      "cell_type": "markdown",
      "metadata": {},
      "source": [
        "### Valores nulos"
      ]
    },
    {
      "cell_type": "code",
      "execution_count": null,
      "metadata": {
        "colab": {
          "base_uri": "https://localhost:8080/",
          "height": 424
        },
        "id": "8WpUlFV4A6vT",
        "outputId": "646922ca-6d24-4599-b665-9554d24f2d48"
      },
      "outputs": [],
      "source": [
        "df.isnull()"
      ]
    },
    {
      "cell_type": "markdown",
      "metadata": {
        "id": "2CPPHynizKrf"
      },
      "source": [
        "Porcentaje de valores nulos"
      ]
    },
    {
      "cell_type": "code",
      "execution_count": null,
      "metadata": {
        "colab": {
          "base_uri": "https://localhost:8080/"
        },
        "id": "OLMP4kdREklH",
        "outputId": "9ab91962-7ff5-4e8c-b28c-5743675b6d4a"
      },
      "outputs": [],
      "source": [
        "df.isnull().mean()"
      ]
    },
    {
      "cell_type": "code",
      "execution_count": null,
      "metadata": {},
      "outputs": [],
      "source": [
        "# En este caso nos interesa manternerlos, pero podríamos:\n",
        "\n",
        "# Reemplazar valores nulos numéricos por la media\n",
        "#df['Age'] = df['Age'].fillna(df['Age'].mean())\n",
        "\n",
        "# Reemplazar valores nulos categóricos por otro valor\n",
        "#df['Saving accounts'] = df['Saving accounts'].fillna('unknown')\n",
        "\n",
        "# Eliminar valores nulos (como última opción)\n",
        "print(f'El dataset tiene {len(df)} filas')\n",
        "df_drop = df.dropna()\n",
        "print(f'El dataset tiene {len(df_drop)} filas después de eliminar los nulos')"
      ]
    },
    {
      "cell_type": "markdown",
      "metadata": {
        "id": "zl_v8twizPz7"
      },
      "source": [
        "Conversión variable categórica"
      ]
    },
    {
      "cell_type": "code",
      "execution_count": null,
      "metadata": {
        "id": "0qU3suyUQjX0"
      },
      "outputs": [],
      "source": [
        "# Obtener los valores únicos de la columna 'Sex' del DataFrame \n",
        "sex_list = df['Sex'].unique()\n",
        "\n",
        "# Enumerar la lista de valores únicos de 'Sex' para crear tuplas con un índice y el valor\n",
        "tuple_list = enumerate(sex_list)\n",
        "# Recorrer las tuplas creadas con enumerate para imprimir el índice y la categoría de 'Sex'\n",
        "for idx, category in tuple_list:\n",
        "  print(idx, category)\n",
        "  \n",
        "# Crear un diccionario de mapeo donde cada categoría de 'Sex' es la clave y su índice es el valor\n",
        "sex_mapping = {category: idx for idx, category in enumerate(sex_list)}\n",
        "\n",
        "# Reemplazar los valores de la columna 'Sex' en el DataFrame con sus respectivos índices del mapeo\n",
        "df['Sex'] = df['Sex'].map(sex_mapping)\n",
        "df['Sex']"
      ]
    },
    {
      "cell_type": "markdown",
      "metadata": {},
      "source": [
        "Conversión variable continua"
      ]
    },
    {
      "cell_type": "code",
      "execution_count": null,
      "metadata": {},
      "outputs": [],
      "source": [
        "print(type(df['Duration'].iloc[0]))\n",
        "\n",
        "df['Duration_float'] = df['Duration'].astype('float64')\n",
        "df['Duration_float']"
      ]
    },
    {
      "cell_type": "markdown",
      "metadata": {
        "id": "jCv2GH0GzSo-"
      },
      "source": [
        "Nuevas variables"
      ]
    },
    {
      "cell_type": "code",
      "execution_count": null,
      "metadata": {
        "id": "hsJH0x4DQjX0"
      },
      "outputs": [],
      "source": [
        "df['Credit per year'] = df['Credit amount'] / df['Duration']"
      ]
    },
    {
      "cell_type": "code",
      "execution_count": null,
      "metadata": {
        "id": "F6OhsVwFQjX0"
      },
      "outputs": [],
      "source": [
        "df['Older than 40'] = df['Age'] > 40"
      ]
    },
    {
      "cell_type": "code",
      "execution_count": null,
      "metadata": {
        "colab": {
          "base_uri": "https://localhost:8080/",
          "height": 424
        },
        "id": "k9Mm2sEyQjX1",
        "outputId": "a95a6817-827c-43a6-ca20-88332ae1fa5c"
      },
      "outputs": [],
      "source": [
        "df"
      ]
    },
    {
      "cell_type": "markdown",
      "metadata": {
        "id": "4VvGKvc1QjX1"
      },
      "source": [
        "## Análisis exploratorio de los datos y estadísticas"
      ]
    },
    {
      "cell_type": "markdown",
      "metadata": {
        "id": "RTSLZTGLzV68"
      },
      "source": [
        "Estadísticas descriptivas"
      ]
    },
    {
      "cell_type": "code",
      "execution_count": null,
      "metadata": {
        "colab": {
          "base_uri": "https://localhost:8080/",
          "height": 300
        },
        "id": "vS76brafQjX1",
        "outputId": "08e502ee-3473-4e43-a976-388b680ff261"
      },
      "outputs": [],
      "source": [
        "df.describe()"
      ]
    },
    {
      "cell_type": "markdown",
      "metadata": {
        "id": "IY0D05SzQjX2"
      },
      "source": [
        "### Análisis univariado"
      ]
    },
    {
      "cell_type": "markdown",
      "metadata": {
        "id": "Nm34XzRqq5V4"
      },
      "source": [
        "[Documentación Matplotlib](https://matplotlib.org/stable/api/index.html)  \n",
        "[Documentación SeaBorn](https://seaborn.pydata.org/api.html)"
      ]
    },
    {
      "cell_type": "markdown",
      "metadata": {
        "id": "1aESqJ6qzYAt"
      },
      "source": [
        "Histograma"
      ]
    },
    {
      "cell_type": "code",
      "execution_count": null,
      "metadata": {
        "colab": {
          "base_uri": "https://localhost:8080/",
          "height": 482
        },
        "id": "4OfIR1PEgVDe",
        "outputId": "2f3cf351-5e13-4e3a-855f-60c401a2e070"
      },
      "outputs": [],
      "source": [
        "plt.hist(df['Age'], color='orange', edgecolor='black', alpha=0.7)  \n",
        "sns.set(style=\"whitegrid\")\n",
        "plt.xlabel('Age', fontsize=11)\n",
        "plt.ylabel('Frequency', fontsize=11)\n",
        "plt.title('Age Distribution', fontsize=12, fontweight='bold')\n",
        "sns.despine()\n",
        "\n"
      ]
    },
    {
      "cell_type": "markdown",
      "metadata": {
        "id": "vK2yrtZvzcEQ"
      },
      "source": [
        "Selección de filas en base a condición"
      ]
    },
    {
      "cell_type": "code",
      "execution_count": null,
      "metadata": {
        "colab": {
          "base_uri": "https://localhost:8080/",
          "height": 424
        },
        "id": "rE9fRcIcQjX2",
        "outputId": "6ce1379c-1c2c-4297-c287-1535959ad7ef"
      },
      "outputs": [],
      "source": [
        "df.loc[df['Age'] > 35]"
      ]
    },
    {
      "cell_type": "markdown",
      "metadata": {
        "id": "VY0D9AObzh2d"
      },
      "source": [
        "Plot de Frecuencia, condicionado"
      ]
    },
    {
      "cell_type": "code",
      "execution_count": null,
      "metadata": {
        "colab": {
          "base_uri": "https://localhost:8080/",
          "height": 482
        },
        "id": "72cxq-KGQjX3",
        "outputId": "8f6617e5-be76-4f1e-e95d-956e93a1e8bb"
      },
      "outputs": [],
      "source": [
        "sns.set(style=\"whitegrid\")\n",
        "\n",
        "plt.figure(figsize=(20, 5))\n",
        "sns.countplot(data=df.loc[(df['Age'] > 35) & (df.Age != 49)], \n",
        "              x='Age', hue='Age', palette=\"Blues\", edgecolor='black', alpha=0.8, legend=False)\n",
        "\n",
        "plt.xlabel('Age', fontsize=14, fontweight='bold')\n",
        "plt.ylabel('Count', fontsize=14, fontweight='bold')\n",
        "plt.title('Count of Ages > 35 (Excluding 49)', fontsize=16, fontweight='bold')\n",
        "\n",
        "sns.despine()\n",
        "\n",
        "plt.show()"
      ]
    },
    {
      "cell_type": "markdown",
      "metadata": {
        "id": "_d10cMDtznR-"
      },
      "source": [
        "Boxplot por edad"
      ]
    },
    {
      "cell_type": "code",
      "execution_count": null,
      "metadata": {
        "colab": {
          "base_uri": "https://localhost:8080/",
          "height": 443
        },
        "id": "Jv94vSWcQjX3",
        "outputId": "de676234-0845-4bfb-98d9-c359aaf0647c"
      },
      "outputs": [],
      "source": [
        "plt.figure(figsize=(3,5))\n",
        "sns.boxplot(y = 'Age', data = df)"
      ]
    },
    {
      "cell_type": "markdown",
      "metadata": {
        "id": "h6f1OHxXzpPS"
      },
      "source": [
        "Distribución de la edad"
      ]
    },
    {
      "cell_type": "code",
      "execution_count": null,
      "metadata": {
        "colab": {
          "base_uri": "https://localhost:8080/",
          "height": 663
        },
        "id": "RMU5yLfqQjX3",
        "outputId": "e99840c2-e552-4ac5-bc0e-5c2f2b678d69"
      },
      "outputs": [],
      "source": [
        "sns.histplot(df[\"Age\"], kde=True)\n",
        "plt.title(\"Age distribution\")"
      ]
    },
    {
      "cell_type": "code",
      "execution_count": null,
      "metadata": {},
      "outputs": [],
      "source": [
        "sns.set(style=\"whitegrid\")\n",
        "\n",
        "fig, ax = plt.subplots(2, 1, figsize=(8, 8), gridspec_kw={'height_ratios': [1, 4]})\n",
        "\n",
        "sns.boxplot(x=df[\"Age\"], ax=ax[0], color='skyblue')\n",
        "\n",
        "sns.histplot(df[\"Age\"], kde=True, ax=ax[1], color='blue', bins=20)\n",
        "\n",
        "ax[0].set(title='Boxplot of Age')\n",
        "ax[1].set(title='Age Distribution with KDE')\n",
        "\n",
        "plt.tight_layout()\n",
        "\n",
        "plt.show()\n"
      ]
    },
    {
      "cell_type": "markdown",
      "metadata": {
        "id": "1jNHIZ7VzrX8"
      },
      "source": [
        "Valores únicos de las variables categóricas"
      ]
    },
    {
      "cell_type": "code",
      "execution_count": null,
      "metadata": {
        "colab": {
          "base_uri": "https://localhost:8080/"
        },
        "id": "Fv9DxCWIQjX4",
        "outputId": "34e8431e-cdc6-4e87-83a4-03c3cd7154f2"
      },
      "outputs": [],
      "source": [
        "df['Saving accounts'].unique()"
      ]
    },
    {
      "cell_type": "markdown",
      "metadata": {
        "id": "T7rHwH7sztD3"
      },
      "source": [
        "Frecuencia de los valores de las variables categóricas"
      ]
    },
    {
      "cell_type": "code",
      "execution_count": null,
      "metadata": {
        "colab": {
          "base_uri": "https://localhost:8080/"
        },
        "id": "_PzmKAx5QjX4",
        "outputId": "c888fb2b-6fad-4765-a61a-406ddbf1152e"
      },
      "outputs": [],
      "source": [
        "df['Saving accounts'].value_counts()"
      ]
    },
    {
      "cell_type": "markdown",
      "metadata": {
        "id": "GYxUHENazvi2"
      },
      "source": [
        "Plot de frecuencia"
      ]
    },
    {
      "cell_type": "code",
      "execution_count": null,
      "metadata": {},
      "outputs": [],
      "source": [
        "sns.set(style=\"whitegrid\")\n",
        "\n",
        "plt.figure(figsize=(8, 5)) \n",
        "sns.countplot(data=df, x='Saving accounts', hue='Saving accounts', palette='coolwarm', edgecolor='black', dodge=False, legend=False)\n",
        "\n",
        "plt.xlabel('Saving Accounts', fontsize=14)\n",
        "plt.ylabel('Count', fontsize=14)\n",
        "plt.title('Distribution of Saving Accounts', fontsize=16, fontweight='bold')\n",
        "\n",
        "\n",
        "sns.despine()\n",
        "\n",
        "plt.show()\n"
      ]
    },
    {
      "cell_type": "code",
      "execution_count": null,
      "metadata": {},
      "outputs": [],
      "source": [
        "sns.set(style=\"whitegrid\")\n",
        "\n",
        "plt.figure(figsize=(8, 5))  \n",
        "\n",
        "data_normalized = df['Saving accounts'].value_counts(normalize=True)\n",
        "\n",
        "sns.barplot(x=data_normalized.index, y=data_normalized.values, palette='viridis', edgecolor='black')\n",
        "\n",
        "plt.xlabel('Saving Accounts', fontsize=14)\n",
        "plt.ylabel('Proportion', fontsize=14)\n",
        "plt.title('Proportion of Saving Accounts', fontsize=16, fontweight='bold')\n",
        "\n",
        "sns.despine()\n",
        "\n",
        "plt.show()\n"
      ]
    },
    {
      "cell_type": "markdown",
      "metadata": {},
      "source": [
        "### Outliers"
      ]
    },
    {
      "cell_type": "markdown",
      "metadata": {},
      "source": [
        "#### Boxplot por duración"
      ]
    },
    {
      "cell_type": "code",
      "execution_count": null,
      "metadata": {},
      "outputs": [],
      "source": [
        "plt.figure(figsize=(3,5))\n",
        "sns.boxplot(y = 'Duration', data = df)"
      ]
    },
    {
      "cell_type": "markdown",
      "metadata": {},
      "source": [
        "#### Winsorize\n",
        "\n",
        "Winsorize para manejar outliers. Este caso, lo que hace es llevar todos los outliers del percentil 95 o más, al valor del percentil 95 real."
      ]
    },
    {
      "cell_type": "code",
      "execution_count": null,
      "metadata": {},
      "outputs": [],
      "source": [
        "df['Duration2'] = winsorize(df['Duration'], limits=[None, 0.05])\n",
        "plt.figure(figsize=(3,5))\n",
        "sns.boxplot(y = 'Duration2', data = df)"
      ]
    },
    {
      "cell_type": "markdown",
      "metadata": {},
      "source": [
        "#### Comparativa"
      ]
    },
    {
      "cell_type": "code",
      "execution_count": null,
      "metadata": {},
      "outputs": [],
      "source": [
        "df[['Duration','Duration2']].mean()"
      ]
    },
    {
      "cell_type": "code",
      "execution_count": null,
      "metadata": {},
      "outputs": [],
      "source": [
        "df[['Duration','Duration2']].std()"
      ]
    },
    {
      "cell_type": "code",
      "execution_count": null,
      "metadata": {},
      "outputs": [],
      "source": [
        "df[['Duration','Duration2']].max()"
      ]
    },
    {
      "cell_type": "markdown",
      "metadata": {
        "id": "ET5Qj3-7QjX-"
      },
      "source": [
        "### Análisis bivariado (EXTRA)"
      ]
    },
    {
      "cell_type": "markdown",
      "metadata": {
        "id": "eqd0a6Vfz5JI"
      },
      "source": [
        "Tabla de frecuencia cruzada"
      ]
    },
    {
      "cell_type": "code",
      "execution_count": null,
      "metadata": {
        "colab": {
          "base_uri": "https://localhost:8080/",
          "height": 206
        },
        "id": "rqdcA2kdQjX_",
        "outputId": "b1753544-2d40-4ee5-e781-4b28b0ac1089"
      },
      "outputs": [],
      "source": [
        "pd.crosstab(df['Saving accounts'], df.Risk)"
      ]
    },
    {
      "cell_type": "markdown",
      "metadata": {
        "id": "Cdgjyqmtz8tr"
      },
      "source": [
        "Tabla de frecuencia normalizada, con márgenes"
      ]
    },
    {
      "cell_type": "code",
      "execution_count": null,
      "metadata": {
        "colab": {
          "base_uri": "https://localhost:8080/",
          "height": 238
        },
        "id": "-JWApASyQjYA",
        "outputId": "2c0d98ea-e070-4681-ce89-a0812ce88b95"
      },
      "outputs": [],
      "source": [
        "pd.crosstab(df['Saving accounts'], df['Risk'], margins=True, normalize=True)"
      ]
    },
    {
      "cell_type": "markdown",
      "metadata": {
        "id": "9e47KhoF0BA8"
      },
      "source": [
        "Scatter plot"
      ]
    },
    {
      "cell_type": "code",
      "execution_count": null,
      "metadata": {
        "colab": {
          "base_uri": "https://localhost:8080/",
          "height": 466
        },
        "id": "l7x3hvKGQjYA",
        "outputId": "33c7a81c-e524-4f23-9089-5509201ce255"
      },
      "outputs": [],
      "source": [
        "# Correlación entre dos variables numéricas\n",
        "df.plot.scatter(x='Age',y='Credit amount')"
      ]
    },
    {
      "cell_type": "markdown",
      "metadata": {
        "id": "rI7JJ7p-0DCv"
      },
      "source": [
        "Media de edad agrupado por propósito"
      ]
    },
    {
      "cell_type": "code",
      "execution_count": null,
      "metadata": {
        "colab": {
          "base_uri": "https://localhost:8080/"
        },
        "id": "TGLYG492QjYB",
        "outputId": "85fd833e-375e-46d0-c75c-d538146cc329"
      },
      "outputs": [],
      "source": [
        "df.groupby('Purpose')['Age'].mean().sort_values(ascending=False)"
      ]
    },
    {
      "cell_type": "markdown",
      "metadata": {
        "id": "5tNJI7X00EkH"
      },
      "source": [
        "Estadísticas de edad según propósito"
      ]
    },
    {
      "cell_type": "code",
      "execution_count": null,
      "metadata": {
        "colab": {
          "base_uri": "https://localhost:8080/",
          "height": 394
        },
        "id": "UMku0wchQjYB",
        "outputId": "e626546f-40a3-48ee-92ef-a96a1509c6e5"
      },
      "outputs": [],
      "source": [
        "df.groupby('Purpose')['Age'].describe()"
      ]
    },
    {
      "cell_type": "markdown",
      "metadata": {
        "id": "VYUOlsvk0HNJ"
      },
      "source": [
        "Boxplot"
      ]
    },
    {
      "cell_type": "code",
      "execution_count": null,
      "metadata": {
        "colab": {
          "base_uri": "https://localhost:8080/",
          "height": 713
        },
        "id": "KMB5H0LDQjYB",
        "outputId": "674c12e5-431b-4c70-bcfc-c6d049d4a8b0"
      },
      "outputs": [],
      "source": [
        "plt.figure(figsize=(18,8))\n",
        "sns.boxplot(y = 'Age', x = 'Purpose', data = df)"
      ]
    },
    {
      "cell_type": "markdown",
      "metadata": {
        "id": "8rzMZhPT0MEY"
      },
      "source": [
        "Plot de edad para los que tienen casa propia"
      ]
    },
    {
      "cell_type": "code",
      "execution_count": null,
      "metadata": {
        "colab": {
          "base_uri": "https://localhost:8080/",
          "height": 697
        },
        "id": "Lh6mvWecQjYC",
        "outputId": "c06a7399-afed-4622-9d9d-1932afcbe296"
      },
      "outputs": [],
      "source": [
        "plt.figure(figsize=(20,8))\n",
        "df[df['Housing'] == 'own']['Age'].value_counts().plot(kind='bar')"
      ]
    },
    {
      "cell_type": "markdown",
      "metadata": {
        "id": "T5m9HXmH0OH5"
      },
      "source": [
        "Plot de duración para los de edad 30"
      ]
    },
    {
      "cell_type": "code",
      "execution_count": null,
      "metadata": {
        "colab": {
          "base_uri": "https://localhost:8080/",
          "height": 466
        },
        "id": "qUNPKcs3QjYC",
        "outputId": "bb861716-11d9-46c3-c69b-2e07de93d341"
      },
      "outputs": [],
      "source": [
        "sns.countplot(data=df[df['Age'] == 30], x='Duration')"
      ]
    },
    {
      "cell_type": "code",
      "execution_count": null,
      "metadata": {
        "colab": {
          "base_uri": "https://localhost:8080/",
          "height": 386
        },
        "id": "EkbIXTX5QjYC",
        "outputId": "fb9ec57d-6828-440a-b930-fd42c02153f5"
      },
      "outputs": [],
      "source": [
        "# Plot de Housing según riesgo\n",
        "# Discreta vs algo\n",
        "sns.catplot(x=\"Housing\", col=\"Risk\",data= df,kind=\"count\")"
      ]
    },
    {
      "cell_type": "code",
      "execution_count": null,
      "metadata": {
        "colab": {
          "base_uri": "https://localhost:8080/",
          "height": 524
        },
        "id": "QExwLEBdlLrP",
        "outputId": "94176c32-6a67-412e-8d08-fcc60f253938"
      },
      "outputs": [],
      "source": [
        "sns.catplot(x=\"Age\", col=\"Risk\",data=df, kind=\"count\")"
      ]
    },
    {
      "cell_type": "markdown",
      "metadata": {
        "id": "XYAODr8IuOOL"
      },
      "source": [
        "### Análisis multivariado (EXTRA)"
      ]
    },
    {
      "cell_type": "code",
      "execution_count": null,
      "metadata": {
        "colab": {
          "base_uri": "https://localhost:8080/",
          "height": 558
        },
        "id": "T04hHumkuX6R",
        "outputId": "a509d283-36b5-441b-c583-11dc632fa043"
      },
      "outputs": [],
      "source": [
        "sns.catplot(data=df, x=\"Risk\", y=\"Age\", hue=\"Sex\", kind=\"swarm\")"
      ]
    },
    {
      "cell_type": "code",
      "execution_count": null,
      "metadata": {
        "colab": {
          "base_uri": "https://localhost:8080/",
          "height": 466
        },
        "id": "UMS_fBJ-u4Ek",
        "outputId": "25877837-15cf-4cae-8d47-4e79fc311319"
      },
      "outputs": [],
      "source": [
        "sns.scatterplot(data=df, x='Duration',y='Credit amount', hue='Risk')"
      ]
    },
    {
      "cell_type": "code",
      "execution_count": null,
      "metadata": {
        "colab": {
          "base_uri": "https://localhost:8080/",
          "height": 466
        },
        "id": "m8Du0a2Jv5UH",
        "outputId": "29396838-289a-4fc5-d6dd-fa9f8d228b1a"
      },
      "outputs": [],
      "source": [
        "sns.boxplot(data=df, x=\"Sex\", y=\"Duration\", hue=\"Risk\")"
      ]
    },
    {
      "cell_type": "markdown",
      "metadata": {
        "id": "UYEjye6KQjYF"
      },
      "source": [
        "## Ejercicios"
      ]
    },
    {
      "cell_type": "markdown",
      "metadata": {
        "id": "Df3fYvr4FMBC"
      },
      "source": [
        "### Cargue el dataset houses_data.csv"
      ]
    },
    {
      "cell_type": "code",
      "execution_count": null,
      "metadata": {
        "colab": {
          "base_uri": "https://localhost:8080/"
        },
        "id": "YVBlgj3oQjYF",
        "outputId": "589a0458-d48e-4af9-99b1-cd646d134b76"
      },
      "outputs": [],
      "source": [
        "#drive.mount('/content/drive', force_remount=True)\n",
        "\n",
        "#df_houses=pd.read_csv(\"/content/drive/My Drive/data/houses_data.csv\", sep = \",\")\n",
        "df_house = pd.read_csv(\"houses_data.csv\", sep = \",\")"
      ]
    },
    {
      "cell_type": "markdown",
      "metadata": {
        "id": "MmsdMu1hFPSf"
      },
      "source": [
        "### ¿Cuántas observaciones tiene el dataset?"
      ]
    },
    {
      "cell_type": "code",
      "execution_count": null,
      "metadata": {
        "id": "hqRxrptQQjYF"
      },
      "outputs": [],
      "source": [
        "# Su código"
      ]
    },
    {
      "cell_type": "markdown",
      "metadata": {
        "id": "-Opp3eeyFU4W"
      },
      "source": [
        "### ¿Qué variables tiene el dataset?"
      ]
    },
    {
      "cell_type": "code",
      "execution_count": null,
      "metadata": {
        "id": "4X4RQL-UQjYG"
      },
      "outputs": [],
      "source": [
        "# Su código"
      ]
    },
    {
      "cell_type": "markdown",
      "metadata": {
        "id": "joI8C9EVFXMq"
      },
      "source": [
        "### Crear un nuevo df seleccionando columnas bedrooms, bathrooms, square_footage_living, floors, waterfront, condition, square_footage_above, square_footage_basement, year_built, year_renovated, price"
      ]
    },
    {
      "cell_type": "code",
      "execution_count": null,
      "metadata": {
        "id": "oAwVLhNGQjYG"
      },
      "outputs": [],
      "source": [
        "# Su código"
      ]
    },
    {
      "cell_type": "markdown",
      "metadata": {
        "id": "_NwWG_P1FaGF"
      },
      "source": [
        "### Observar el tipo de los datos y realizar las modificaciones que crea adecuadas"
      ]
    },
    {
      "cell_type": "code",
      "execution_count": null,
      "metadata": {
        "id": "qWoynN_MQjYH"
      },
      "outputs": [],
      "source": [
        "# Su código"
      ]
    },
    {
      "cell_type": "markdown",
      "metadata": {
        "id": "nhrf-sk6FdIA"
      },
      "source": [
        "### Cree una nueva columna booleana llamada 'was_renewed' que indique true si y solo si la casa fue renovada en algún momento"
      ]
    },
    {
      "cell_type": "code",
      "execution_count": null,
      "metadata": {
        "id": "Jvu7JmPnQjYH"
      },
      "outputs": [],
      "source": [
        "# Su código"
      ]
    },
    {
      "cell_type": "markdown",
      "metadata": {
        "id": "81MoorB6Ffb_"
      },
      "source": [
        "### Grafique la distribución de bedrooms"
      ]
    },
    {
      "cell_type": "code",
      "execution_count": null,
      "metadata": {
        "id": "NrlNOvCQQjYH"
      },
      "outputs": [],
      "source": [
        "# Su código"
      ]
    },
    {
      "cell_type": "markdown",
      "metadata": {
        "id": "4myeD4jhFhyI"
      },
      "source": [
        "### ¿Cuáles son los valores de bedrooms y la frecuencia de cada uno?"
      ]
    },
    {
      "cell_type": "code",
      "execution_count": null,
      "metadata": {
        "id": "s86gYyCfQjYI"
      },
      "outputs": [],
      "source": [
        "# Su código"
      ]
    },
    {
      "cell_type": "markdown",
      "metadata": {
        "id": "BxJL6UjoFjps"
      },
      "source": [
        "### Grafique mediante un boxplot la variable price"
      ]
    },
    {
      "cell_type": "code",
      "execution_count": null,
      "metadata": {
        "id": "qOiNzVK-QjYI"
      },
      "outputs": [],
      "source": [
        "# Su código"
      ]
    },
    {
      "cell_type": "markdown",
      "metadata": {
        "id": "Xh_ZDJcEFoOy"
      },
      "source": [
        "### ¿Cual es la media de price? ¿Qué pasa con la mediana, por qué? ¿Y la desviación estándar?"
      ]
    },
    {
      "cell_type": "code",
      "execution_count": null,
      "metadata": {
        "id": "qrx6A0MCM3iJ"
      },
      "outputs": [],
      "source": [
        "# Su código"
      ]
    },
    {
      "cell_type": "markdown",
      "metadata": {
        "id": "FXGFAkMhFvtb"
      },
      "source": [
        "### Trabaje los valores atípicos (outliers) de price, ajustando el 5% superior y vuelva a revisar la media de price, ¿se acerca a la mediana?"
      ]
    },
    {
      "cell_type": "code",
      "execution_count": null,
      "metadata": {
        "id": "9re7kIQKNH9l"
      },
      "outputs": [],
      "source": [
        "# Su código"
      ]
    },
    {
      "cell_type": "markdown",
      "metadata": {
        "id": "RqSGoCddFysD"
      },
      "source": [
        "### Gráfique mediante un scatter plot la relación entre bedrooms y bathrooms"
      ]
    },
    {
      "cell_type": "code",
      "execution_count": null,
      "metadata": {
        "id": "ytBX238CQjYI"
      },
      "outputs": [],
      "source": [
        "# Su código"
      ]
    },
    {
      "cell_type": "markdown",
      "metadata": {
        "id": "c4xZ8wEJF05D"
      },
      "source": [
        "### ¿Cuántas casas renovadas tienen 3 bedrooms?\n",
        "Puede ayudarse mediante una tabla de frecuencia"
      ]
    },
    {
      "cell_type": "code",
      "execution_count": null,
      "metadata": {
        "id": "Y9Zrh-oTQjYJ"
      },
      "outputs": [],
      "source": [
        "# Su código"
      ]
    },
    {
      "cell_type": "markdown",
      "metadata": {
        "id": "Aoz06EUYF2vV"
      },
      "source": [
        "### Calcule la media de bedrooms por was_renewed"
      ]
    },
    {
      "cell_type": "code",
      "execution_count": null,
      "metadata": {
        "id": "8gZbKzYtQjYJ"
      },
      "outputs": [],
      "source": [
        "# Su código"
      ]
    }
  ],
  "metadata": {
    "colab": {
      "provenance": []
    },
    "kernelspec": {
      "display_name": "Python 3",
      "language": "python",
      "name": "python3"
    },
    "language_info": {
      "codemirror_mode": {
        "name": "ipython",
        "version": 3
      },
      "file_extension": ".py",
      "mimetype": "text/x-python",
      "name": "python",
      "nbconvert_exporter": "python",
      "pygments_lexer": "ipython3",
      "version": "3.10.12"
    }
  },
  "nbformat": 4,
  "nbformat_minor": 0
}
