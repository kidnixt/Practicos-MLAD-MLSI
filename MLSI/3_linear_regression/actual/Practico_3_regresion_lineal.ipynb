{
  "cells": [
    {
      "cell_type": "markdown",
      "metadata": {
        "id": "QZrCyIJX3Ll6"
      },
      "source": [
        "# Práctico 3.A - Regresión Lineal\n",
        "\n",
        "## Diabetes dataset\n",
        "\n",
        "Un dataset provisto por sklearn utilizado para el entrenamiento de distintos algoritmos de machine learning, contiene información acerca de 442 pacientes con diabetes, y una medida de la progresión de la enfermedad al cabo de un año desde el baseline."
      ]
    },
    {
      "cell_type": "code",
      "execution_count": null,
      "metadata": {
        "id": "tCA5dcNc3Esu"
      },
      "outputs": [],
      "source": [
        "import matplotlib.pyplot as plt\n",
        "import numpy as np\n",
        "import pandas as pd\n",
        "import seaborn as sns"
      ]
    },
    {
      "cell_type": "code",
      "execution_count": null,
      "metadata": {
        "id": "_SHz0Cfg3Esz",
        "tags": []
      },
      "outputs": [],
      "source": [
        "from sklearn.datasets import load_diabetes\n",
        "\n",
        "data_bulk = load_diabetes(return_X_y=False)\n",
        "df = pd.DataFrame(data_bulk.data, columns = data_bulk.feature_names)\n",
        "df['target'] = data_bulk.target"
      ]
    },
    {
      "cell_type": "code",
      "execution_count": null,
      "metadata": {
        "id": "6xAQGsSXGZ8J"
      },
      "outputs": [],
      "source": [
        "data_bulk"
      ]
    },
    {
      "cell_type": "code",
      "execution_count": null,
      "metadata": {
        "id": "1oXzrMk3GZ8J"
      },
      "outputs": [],
      "source": [
        "df.columns"
      ]
    },
    {
      "cell_type": "code",
      "execution_count": null,
      "metadata": {
        "id": "z0CVhQuEGZ8J"
      },
      "outputs": [],
      "source": [
        "df.info()"
      ]
    },
    {
      "cell_type": "code",
      "execution_count": null,
      "metadata": {
        "id": "9F9oLBfe5U49"
      },
      "outputs": [],
      "source": [
        "df.head()"
      ]
    },
    {
      "cell_type": "markdown",
      "metadata": {
        "id": "570A8Hla_iFP"
      },
      "source": [
        "NOTA: Los datos están estandarizados, interpretarlos directamente no tiene un sentido real."
      ]
    },
    {
      "cell_type": "markdown",
      "metadata": {
        "id": "-g6kYIDG5wqX"
      },
      "source": [
        "#### Descripción de los datos\n",
        "\n",
        "* age - age in years\n",
        "* sex\n",
        "* bmi - body mass index\n",
        "* bp - average blood pressure\n",
        "* s1 - tc, total serum cholesterol\n",
        "* s2 - ldl, low-density lipoproteins\n",
        "* s3 - hdl, high-density lipoproteins\n",
        "* s4 - tch, total cholesterol / HDL\n",
        "* s5 - ltg, possibly log of serum triglycerides level\n",
        "* s6 - glu, blood sugar level\n",
        "* target - Column 11 is a quantitative measure of disease progression one year after baseline\n",
        "\n",
        "fuentes:\n",
        "* [Diabetes Dataset - sklearn](https://scikit-learn.org/stable/modules/generated/sklearn.datasets.load_diabetes.html#sklearn.datasets.load_diabetes)\n",
        "* [Diabetes data](https://www4.stat.ncsu.edu/~boos/var.select/diabetes.html)"
      ]
    },
    {
      "cell_type": "code",
      "execution_count": null,
      "metadata": {
        "id": "UuEn9WP45PRw"
      },
      "outputs": [],
      "source": [
        "df.describe().apply(lambda s: s.apply('{0:.5f}'.format))"
      ]
    },
    {
      "cell_type": "code",
      "execution_count": null,
      "metadata": {
        "id": "hSqk4OCQGZ8K"
      },
      "outputs": [],
      "source": [
        "cmap = sns.diverging_palette(220, 20, sep=20, as_cmap=True)\n",
        "plt.figure(figsize=(17,9))\n",
        "sns.heatmap(df.corr(), annot=True,cmap=cmap, center=0).set_title(\"Correlation Heatmap\", fontsize=16)"
      ]
    },
    {
      "cell_type": "code",
      "execution_count": null,
      "metadata": {
        "id": "JXgpDrZqGZ8K"
      },
      "outputs": [],
      "source": [
        "df.plot.scatter(x = \"s1\", y = \"s2\")\n",
        "#df = df.drop(columns =\"s2\")\n"
      ]
    },
    {
      "cell_type": "code",
      "execution_count": null,
      "metadata": {
        "id": "Zbw45_vSlac6"
      },
      "outputs": [],
      "source": [
        "df"
      ]
    },
    {
      "cell_type": "markdown",
      "metadata": {
        "id": "1CjQ3S6U3Es4"
      },
      "source": [
        "### Particionar datos en train y test en proporción 2/3 y 1/3, respectivamente"
      ]
    },
    {
      "cell_type": "code",
      "execution_count": null,
      "metadata": {
        "id": "dujlkswg3Es5"
      },
      "outputs": [],
      "source": [
        "from sklearn.model_selection import train_test_split\n",
        "random_state = 17\n",
        "\n",
        "X, Y = df.loc[:, df.columns != 'target'], df[\"target\"]\n",
        "X_train, X_test, Y_train, Y_test = train_test_split(\n",
        "    X,\n",
        "    Y,\n",
        "    test_size=(1.0/3),\n",
        "    random_state=random_state)"
      ]
    },
    {
      "cell_type": "markdown",
      "metadata": {
        "id": "PTzJz5Pk3Es7"
      },
      "source": [
        "### Entrenamiento\n",
        "\n",
        "* [Linear Model - sklearn](https://scikit-learn.org/stable/modules/linear_model.html)"
      ]
    },
    {
      "cell_type": "code",
      "execution_count": null,
      "metadata": {
        "id": "WYjzasM5DND7"
      },
      "outputs": [],
      "source": [
        "from sklearn import linear_model\n",
        "\n",
        "regr = linear_model.LinearRegression()\n",
        "regr.fit(X_train, Y_train)"
      ]
    },
    {
      "cell_type": "markdown",
      "metadata": {
        "id": "YL4IxCoxGZ8L"
      },
      "source": [
        "Coeficientes"
      ]
    },
    {
      "cell_type": "code",
      "execution_count": null,
      "metadata": {
        "id": "mevH-Zr3GZ8L"
      },
      "outputs": [],
      "source": [
        "regr.coef_"
      ]
    },
    {
      "cell_type": "code",
      "execution_count": null,
      "metadata": {
        "id": "Fybt_vfiGZ8L"
      },
      "outputs": [],
      "source": [
        "regr.intercept_ #termino independiente"
      ]
    },
    {
      "cell_type": "code",
      "execution_count": null,
      "metadata": {
        "id": "ZK_KWqK3GZ8L"
      },
      "outputs": [],
      "source": [
        "feature = \"bmi\"\n",
        "\n",
        "Y_pred = regr.predict(X_test)\n",
        "\n",
        "sorted_indices = X_test[feature].argsort()\n",
        "X_test_sorted = X_test[feature].iloc[sorted_indices]\n",
        "Y_pred_sorted = Y_pred[sorted_indices]\n",
        "\n",
        "plt.figure(figsize=(8, 6))\n",
        "plt.scatter(X_test[feature], Y_test, color=\"blue\", label=\"Datos reales\")\n",
        "\n",
        "plt.plot(X_test_sorted, Y_pred_sorted, color=\"red\", label=\"Línea de regresión\")\n",
        "\n",
        "plt.title(f\"Regresión lineal: {feature} vs target\")\n",
        "plt.xlabel(feature)\n",
        "plt.ylabel(\"Target\")\n",
        "plt.legend()\n",
        "plt.grid(True)\n",
        "plt.show()\n"
      ]
    },
    {
      "cell_type": "markdown",
      "source": [
        "Estamos evaluando visualmente cómo nuestra regresión lineal multivariable predice el target en función de una sola variable (bmi). Aunque estamos graficando respecto a bmi, el modelo usó también las otras features (age, bp, etc.) para hacer esas predicciones.\n",
        "\n",
        "La línea roja no es una regresión simple de target ~ bmi, sino una curva de predicciones del modelo completo ordenadas por bmi. Como el modelo usó muchas otras variables además de bmi, la predicción puede cambiar fuertemente incluso si bmi es similar, si las demás variables cambian mucho."
      ],
      "metadata": {
        "id": "csClRSc9yO2I"
      }
    },
    {
      "cell_type": "code",
      "execution_count": null,
      "metadata": {
        "id": "NWIrGkK-yIMA"
      },
      "outputs": [],
      "source": [
        "feature = \"bmi\"\n",
        "\n",
        "bmi_range = np.linspace(X_test['bmi'].min(), X_test['bmi'].max(), 100)\n",
        "\n",
        "X_bmi_train = X_train[['bmi']]\n",
        "X_bmi_test = X_test[['bmi']]\n",
        "regr_bmi = linear_model.LinearRegression()\n",
        "regr_bmi.fit(X_bmi_train, Y_train)\n",
        "Y_bmi_pred_range = regr_bmi.predict(bmi_range.reshape(-1, 1))\n",
        "\n",
        "Y_pred_full_model = regr.predict(X_test)  # Predicciones con todas las variables\n",
        "sorted_indices = X_test['bmi'].argsort()\n",
        "X_test_sorted_by_bmi = X_test['bmi'].iloc[sorted_indices]\n",
        "Y_pred_sorted_by_bmi = Y_pred_full_model[sorted_indices]\n",
        "\n",
        "plt.figure(figsize=(10, 6))\n",
        "plt.scatter(X_test['bmi'], Y_test, color=\"blue\", alpha=0.5, label=\"Datos reales\")\n",
        "\n",
        "plt.plot(bmi_range, Y_bmi_pred_range, color=\"green\", label=\"Regresión solo con 'bmi'\")\n",
        "plt.plot(X_test_sorted_by_bmi, Y_pred_sorted_by_bmi, color=\"red\", label=\"Modelo completo (ordenado por 'bmi')\")\n",
        "\n",
        "plt.title(\"Comparación: Modelo con solo 'bmi' vs. Modelo completo (ordenado por 'bmi')\")\n",
        "plt.xlabel('bmi')\n",
        "plt.ylabel('Target')\n",
        "plt.legend()\n",
        "plt.grid(True)\n",
        "plt.show()"
      ]
    },
    {
      "cell_type": "markdown",
      "source": [
        "# Modelo verde\n",
        "\n",
        "- Es el modelo más simple posible.\n",
        "\n",
        "- Se ajusta lo mejor que puede usando solo la variable bmi.\n",
        "\n",
        "- Su forma recta indica que supone una relación lineal directa entre bmi y el target."
      ],
      "metadata": {
        "id": "Cz4mxtTCyR-H"
      }
    },
    {
      "cell_type": "markdown",
      "source": [
        "# Conclusiones\n",
        "\n",
        "1. El modelo con solo bmi (verde) capta la tendencia global, pero no puede adaptarse a la complejidad de los datos.\n",
        "\n",
        "2. El modelo completo (rojo) puede ajustarse más a los datos, pero muestra que las predicciones varían bastante incluso si bmi no lo hace mucho —lo que indica que otras variables son importantes.\n",
        "\n",
        "3. La dispersión de puntos sugiere que bmi por sí solo no es suficiente para explicar bien el target.\n",
        "\n",
        "4. Si la línea verde fuera muy parecida a la roja, significaría que bmi es casi todo lo que importa. Pero como no es así, ves que el modelo necesita otras variables para mejorar las predicciones."
      ],
      "metadata": {
        "id": "VJA97xluyTh6"
      }
    },
    {
      "cell_type": "code",
      "execution_count": null,
      "metadata": {
        "id": "cFJvKEpcGZ8M"
      },
      "outputs": [],
      "source": [
        "feature_names = X_train.columns.tolist()\n",
        "coefficients = regr.coef_.tolist()\n",
        "\n",
        "plt.figure(figsize=(10, 6))\n",
        "plt.barh(feature_names, coefficients)\n",
        "plt.xlabel('Coefficient Value')\n",
        "plt.ylabel('Feature')\n",
        "plt.title('Linear Regression Coefficients')\n",
        "plt.grid(axis='x')\n",
        "plt.show()"
      ]
    },
    {
      "cell_type": "markdown",
      "metadata": {
        "id": "MbpRsdxr3Es-"
      },
      "source": [
        "## Evaluación con métricas"
      ]
    },
    {
      "cell_type": "code",
      "execution_count": null,
      "metadata": {
        "id": "8n7oSw6HCBZm"
      },
      "outputs": [],
      "source": [
        "from sklearn.metrics import mean_absolute_error, mean_squared_error\n",
        "\n",
        "y_pred = regr.predict(X_test)"
      ]
    },
    {
      "cell_type": "markdown",
      "metadata": {
        "id": "Gntgb-4QjChB"
      },
      "source": [
        "$\n",
        "   \\LARGE\\text{MAE} = \\frac{1}{n} \\sum_{i=1}^{n} \\left(|\\hat{y}_i - y_i|  \\right)\n",
        "   $"
      ]
    },
    {
      "cell_type": "markdown",
      "metadata": {
        "id": "bi9hVlV8j1-c"
      },
      "source": [
        "$\n",
        "   \\LARGE\\text{MSE} = \\frac{1}{n} \\sum_{i=1}^{n} \\left(\\hat{y}_i - y_i \\right)^2\n",
        "   $"
      ]
    },
    {
      "cell_type": "markdown",
      "metadata": {
        "id": "DdD-AHKYj43q"
      },
      "source": [
        "$ \\LARGE R^2 = 1 - \\frac{\\sum_{i=1}^{n} \\left( y_i - \\hat{y}_i \\right)^2}{\\sum_{i=1}^{n} \\left( y_i - \\bar{y} \\right)^2}\n",
        "$"
      ]
    },
    {
      "cell_type": "markdown",
      "metadata": {
        "id": "hJnJzinDkKFy"
      },
      "source": [
        "$ y_i \\text{ son los valores reales}, \\\\\n",
        "\\hat{y}_i \\text{ son los valores predichos},  \\\\\n",
        "\\bar{y} \\text{ es la media de los valores reales},  \\\\\n",
        "n \\text{ es el número total de datos}.$"
      ]
    },
    {
      "cell_type": "markdown",
      "metadata": {
        "id": "UfenrOc9k3Xu"
      },
      "source": [
        "Coeficiente de determinacion: R-Cuadrado (R² o el coeficiente de determinación) es una medida estadística en un modelo de regresión que determina la proporción de varianza en la variable dependiente que puede ser explicada por la variable independiente. En otras palabras, r-cuadrado muestra lo bien que se ajustan los datos al modelo de regresión (la bondad del ajuste).\n",
        "\n",
        "*es una medida que nos dice qué tan bien un modelo de regresión está explicando la variabilidad de los datos.*"
      ]
    },
    {
      "cell_type": "code",
      "execution_count": null,
      "metadata": {
        "id": "iNEItPgz3Es_"
      },
      "outputs": [],
      "source": [
        "print(\"MAE\")\n",
        "print(f'(base regresssion) = {mean_absolute_error(Y_test, y_pred)}')\n",
        "print(\"\\n\")\n",
        "\n",
        "print(\"MSE\")\n",
        "print(f'(base regresssion) = {mean_squared_error(Y_test, y_pred)}')\n",
        "print(\"\\n\")\n",
        "\n",
        "\n",
        "print(\"R2-Score\")\n",
        "RSS = np.sum(np.square(Y_test - regr.predict(X_test))) #residual sum square\n",
        "TSS = np.sum(np.square(Y_test - np.mean(Y_test))) #total sum square\n",
        "R2 = 1 - RSS/TSS\n",
        "print(\"R-squared score on training data (manual):\", R2)\n",
        "\n",
        "score = regr.score(X_test, Y_test)\n",
        "print(\"R-squared score on training data:\", score)\n"
      ]
    },
    {
      "cell_type": "code",
      "execution_count": null,
      "metadata": {
        "id": "3BQcdCg3HKLf"
      },
      "outputs": [],
      "source": [
        "predicted = pd.DataFrame(regr.predict(X_test), columns = [\"predicted\"])\n",
        "plt.scatter(Y_test, predicted[\"predicted\"])\n",
        "plt.xlabel(\"target\")\n",
        "plt.ylabel(\"predicted\")\n",
        "plt.show()"
      ]
    },
    {
      "cell_type": "markdown",
      "metadata": {
        "id": "4EpobFtM9rcg"
      },
      "source": [
        "## Houses price prediction\n",
        "\n",
        "Este dataset contiene datos y precios de casas de King County, Washington. Los datos refieren a casas vendidas entre mayo de 2014 y mayo de 2015."
      ]
    },
    {
      "cell_type": "markdown",
      "metadata": {
        "id": "0m-Kd6FnGZ8N"
      },
      "source": [
        "### Ejercicio 1\n",
        "Cargue el dataset houses_data"
      ]
    },
    {
      "cell_type": "markdown",
      "metadata": {
        "id": "zlGTMvhCGZ8O"
      },
      "source": [
        "### Ejercicio 2\n",
        "Utilizando las herramientas vistas en el curso, realice un análisis exploratorio de los datos del dataframe y haga las modificaciones que crea necesarias."
      ]
    },
    {
      "cell_type": "markdown",
      "metadata": {
        "id": "8qZUDeOgGZ8O"
      },
      "source": [
        "### Ejercicio 3\n",
        "Entrene al menos dos modelos de regresión distintos para predecir el precio. Recuerde utilizar alguna de las técnicas de particionamiento vistas en el curso."
      ]
    },
    {
      "cell_type": "markdown",
      "metadata": {
        "id": "14MpoXp3GZ8O"
      },
      "source": [
        "### Ejercicio 4\n",
        "Con las distintas métricas que vimos en clase, evalúe la performance de ambos modelos. Conclusiones."
      ]
    }
  ],
  "metadata": {
    "colab": {
      "provenance": []
    },
    "kernelspec": {
      "display_name": "Python 3.9.17 64-bit",
      "language": "python",
      "name": "python3"
    },
    "language_info": {
      "codemirror_mode": {
        "name": "ipython",
        "version": 3
      },
      "file_extension": ".py",
      "mimetype": "text/x-python",
      "name": "python",
      "nbconvert_exporter": "python",
      "pygments_lexer": "ipython3",
      "version": "3.10.12"
    },
    "vscode": {
      "interpreter": {
        "hash": "397704579725e15f5c7cb49fe5f0341eb7531c82d19f2c29d197e8b64ab5776b"
      }
    }
  },
  "nbformat": 4,
  "nbformat_minor": 0
}