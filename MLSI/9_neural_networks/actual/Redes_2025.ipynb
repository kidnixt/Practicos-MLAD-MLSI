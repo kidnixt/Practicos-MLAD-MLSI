{
  "cells": [
    {
      "cell_type": "markdown",
      "metadata": {
        "id": "IQNRtRAqRgm5"
      },
      "source": [
        "# Redes Neuronales"
      ]
    },
    {
      "cell_type": "markdown",
      "metadata": {
        "id": "DmXXJsMugF-M"
      },
      "source": [
        "## Introducción\n",
        "\n",
        "Las redes neuronales artificiales son modelos que aprenden funciones complejas a partir de datos. En este práctico, trabajaremos con un problema de **regresión**: predecir el precio de viviendas a partir de características como número de habitaciones, edad, etc.\n",
        "\n",
        "Exploraremos distintas arquitecturas de redes neuronales y analizaremos cómo afecta su complejidad al desempeño del modelo.\n"
      ]
    },
    {
      "cell_type": "markdown",
      "metadata": {
        "id": "43FlqJf6SnAQ"
      },
      "source": [
        "## Dependencias"
      ]
    },
    {
      "cell_type": "code",
      "execution_count": null,
      "metadata": {
        "id": "JlnS9rZkRHZt"
      },
      "outputs": [],
      "source": [
        "import numpy as np\n",
        "import pandas as pd\n",
        "import tensorflow as tf\n",
        "from tensorflow import keras\n",
        "from tensorflow.keras import layers"
      ]
    },
    {
      "cell_type": "markdown",
      "metadata": {
        "id": "1TngldqhSCo3"
      },
      "source": [
        "## Carga de datos"
      ]
    },
    {
      "cell_type": "code",
      "execution_count": null,
      "metadata": {
        "id": "hGjeObR6RHZ5"
      },
      "outputs": [],
      "source": [
        "# Cargar el dataset de ejemplo que está en Keras\n",
        "from tensorflow.keras.datasets import boston_housing\n",
        "\n",
        "(X_train, y_train), (X_val, y_val) = boston_housing.load_data()"
      ]
    },
    {
      "cell_type": "markdown",
      "metadata": {
        "id": "qrvfoV75SKRd"
      },
      "source": [
        "### Shapes"
      ]
    },
    {
      "cell_type": "code",
      "execution_count": null,
      "metadata": {
        "id": "E7FpYrRARHZ7"
      },
      "outputs": [],
      "source": [
        "X_train.shape"
      ]
    },
    {
      "cell_type": "code",
      "execution_count": null,
      "metadata": {
        "id": "zvYgHE5ZRHZ-"
      },
      "outputs": [],
      "source": [
        "y_train.shape"
      ]
    },
    {
      "cell_type": "markdown",
      "metadata": {
        "id": "E1lKMGgCRHaC"
      },
      "source": [
        "## Arquitectura de la Red Neuronal\n",
        "El modelo que estamos utilizando es una red neuronal **secuencial** de tipo **feedforward**, diseñada para resolver un problema de **regresión** (predecir el precio de una casa).\n"
      ]
    },
    {
      "cell_type": "code",
      "execution_count": null,
      "metadata": {
        "id": "-XvD5l9MRHaI"
      },
      "outputs": [],
      "source": [
        "model_1 = keras.Sequential([\n",
        "    layers.Dense(64, activation='relu', input_shape=(X_train.shape[1],)),  # Capa oculta con la entrada siendo la cantidad de features\n",
        "    layers.Dense(32, activation='relu'),  # Capa oculta\n",
        "    layers.Dense(1)  # Capa de salida (el precio a predecir)\n",
        "])"
      ]
    },
    {
      "cell_type": "markdown",
      "metadata": {
        "id": "_XgPuZryg17I"
      },
      "source": [
        "- `Dense(64, activation='relu')`: primera capa oculta, con 64 neuronas. Utiliza la función ReLU para introducir no linealidad. Esta capa recibe como entrada un vector de 13 características (una por atributo del dataset).\n",
        "  \n",
        "- `Dense(32, activation='relu')`: segunda capa oculta, con menor cantidad de neuronas. Se busca una representación más compacta de los datos.\n",
        "\n",
        "- `Dense(1)`: capa de salida. Produce un único valor continuo correspondiente al precio predicho."
      ]
    },
    {
      "cell_type": "code",
      "execution_count": null,
      "metadata": {
        "id": "ZLhiZkyaRHaK"
      },
      "outputs": [],
      "source": [
        "model_1.summary()"
      ]
    },
    {
      "cell_type": "markdown",
      "metadata": {
        "id": "2U3UH2LFg7IV"
      },
      "source": [
        "### 🔍 ¿Por qué esta arquitectura?\n",
        "- Las redes densas son adecuadas cuando no hay estructura espacial en los datos (como ocurre con imágenes).\n",
        "- La función `ReLU` es rápida de computar y evita problemas de desvanecimiento del gradiente.\n",
        "- La capa de salida tiene una sola neurona porque estamos prediciendo un único valor numérico (no una clase)."
      ]
    },
    {
      "cell_type": "markdown",
      "metadata": {
        "id": "AHFLmQa5hHUK"
      },
      "source": [
        "## 🔧 Compilación del Modelo\n",
        "\n",
        "La compilación del modelo especifica **cómo será entrenado**. En este caso, usamos:\n",
        "\n",
        "- **Optimizador: `adam`**  \n",
        "  Un optimizador eficiente que ajusta automáticamente la tasa de aprendizaje de cada peso.\n",
        "\n",
        "- **Función de pérdida: `mean_squared_error` (MSE)**  \n",
        "  Es la función que el modelo intenta minimizar. Penaliza más los errores grandes, lo que puede ayudar a evitar grandes desviaciones en las predicciones.\n",
        "\n",
        "- **Métrica: `mae` (Mean Absolute Error)**  \n",
        "  Métrica adicional que se reporta durante el entrenamiento. Es útil porque está en las mismas unidades que el objetivo (precio de las casas), y es fácil de interpretar.\n",
        "\n",
        "> 💡 El modelo entrenará para minimizar MSE, pero durante el proceso también se mostrará el MAE como referencia de desempeño.\n"
      ]
    },
    {
      "cell_type": "code",
      "execution_count": null,
      "metadata": {
        "id": "-55ACgeNRHaO"
      },
      "outputs": [],
      "source": [
        "model_1.compile(optimizer='adam', loss='mean_squared_error', metrics=['mae'])"
      ]
    },
    {
      "cell_type": "markdown",
      "metadata": {
        "id": "q6rXMYCShXxk"
      },
      "source": [
        "## 🚀 Entrenamiento del Modelo\n",
        "\n",
        "Utilizamos el método `fit()` para entrenar la red neuronal. Este método ajusta los pesos del modelo para minimizar la función de pérdida.\n",
        "\n",
        "### Parámetros clave:\n",
        "\n",
        "- **`X_train`, `y_train`**: conjunto de entrenamiento (entradas y salidas).\n",
        "- **`validation_data=(X_val, y_val)`**: conjunto de validación que permite evaluar el modelo en datos no vistos, detectando sobreajuste.\n",
        "- **`epochs=100`**: número de veces que el modelo verá todo el conjunto de entrenamiento.\n",
        "- **`batch_size=32`**: tamaño de los bloques de datos usados para actualizar los pesos.\n",
        "\n",
        "Al final, la variable `history` almacena el historial del entrenamiento, incluyendo la pérdida y las métricas por época. Esto nos permite visualizar cómo evoluciona el modelo con el tiempo.\n"
      ]
    },
    {
      "cell_type": "code",
      "execution_count": null,
      "metadata": {
        "id": "1-I2JxZnTWvY"
      },
      "outputs": [],
      "source": [
        "history_1 = model_1.fit(X_train, y_train, validation_data=(X_val, y_val), epochs=100, batch_size=32)"
      ]
    },
    {
      "cell_type": "markdown",
      "metadata": {
        "id": "4W0dvFB0RHaU"
      },
      "source": [
        "## Evaluacion"
      ]
    },
    {
      "cell_type": "code",
      "execution_count": null,
      "metadata": {
        "id": "0QavNWRgYcgk"
      },
      "outputs": [],
      "source": [
        "import matplotlib.pyplot as plt\n",
        "\n",
        "def plot_training_history(history):\n",
        "    train_loss = history.history['loss']\n",
        "    val_loss = history.history['val_loss']\n",
        "    train_mae = history.history['mae']\n",
        "    val_mae = history.history['val_mae']\n",
        "\n",
        "    epochs = range(1, len(train_loss) + 1)\n",
        "\n",
        "    plt.figure(figsize=(8, 4))\n",
        "\n",
        "    plt.subplot(1, 2, 1)\n",
        "    plt.plot(epochs, train_loss, 'b-', label='Pérdida en entrenamiento')\n",
        "    plt.plot(epochs, val_loss, 'r-', label='Pérdida en validación')\n",
        "    plt.xlabel('Épocas')\n",
        "    plt.ylabel('Pérdida (Loss)')\n",
        "    plt.title('Curva de pérdida en entrenamiento y validación')\n",
        "    plt.legend()\n",
        "\n",
        "    plt.subplot(1, 2, 2)\n",
        "    plt.plot(epochs, train_mae, 'orange', label='MAE en entrenamiento')\n",
        "    plt.plot(epochs, val_mae, 'green', label='MAE en validación')\n",
        "    plt.xlabel('Épocas')\n",
        "    plt.ylabel('MAE (Error Absoluto Medio)')\n",
        "    plt.title('Curva de MAE en entrenamiento y validación')\n",
        "    plt.legend()\n",
        "\n",
        "    plt.tight_layout()\n",
        "    plt.show()"
      ]
    },
    {
      "cell_type": "code",
      "execution_count": null,
      "metadata": {
        "id": "CMVasZ0FVVvA"
      },
      "outputs": [],
      "source": [
        "plot_training_history(history_1)"
      ]
    },
    {
      "cell_type": "markdown",
      "metadata": {
        "id": "HW5yDk_Ph5i2"
      },
      "source": [
        "- Si las curvas de entrenamiento y validación bajan y se estabilizan juntas → el modelo aprende correctamente.\n",
        "- Si la pérdida de validación empieza a subir mientras la de entrenamiento sigue bajando → el modelo está **sobreajustando** (*overfitting*).\n",
        "- Si ambas se mantienen altas → el modelo **no está aprendiendo bien** (*underfitting*)."
      ]
    },
    {
      "cell_type": "code",
      "execution_count": null,
      "metadata": {
        "id": "oQ1Vp33TRHaV"
      },
      "outputs": [],
      "source": [
        "from sklearn.metrics import mean_absolute_error, mean_squared_error"
      ]
    },
    {
      "cell_type": "code",
      "execution_count": null,
      "metadata": {
        "id": "X3WYadN4UToA"
      },
      "outputs": [],
      "source": [
        "y_pred_1 = model_1.predict(X_val)"
      ]
    },
    {
      "cell_type": "code",
      "execution_count": null,
      "metadata": {
        "id": "LidWveoiRHaX"
      },
      "outputs": [],
      "source": [
        "mae_1 = mean_absolute_error(y_val, y_pred_1)\n",
        "mse_1 = mean_squared_error(y_val, y_pred_1)\n",
        "print(f\"MAE: {mae_1}\")\n",
        "print(f\"MSE: {mse_1}\")"
      ]
    },
    {
      "cell_type": "markdown",
      "metadata": {
        "id": "Ykh2qGeOT85t"
      },
      "source": [
        "## Segundo modelo"
      ]
    },
    {
      "cell_type": "code",
      "execution_count": null,
      "metadata": {
        "id": "7vU7RIMkVFXc"
      },
      "outputs": [],
      "source": [
        "model_2 = keras.Sequential([\n",
        "    layers.Dense(500, activation='relu', input_shape=(X_train.shape[1],)),\n",
        "    layers.Dense(200, activation='relu'),\n",
        "    layers.Dense(128, activation='relu'),\n",
        "    layers.Dense(64, activation='relu'),\n",
        "    layers.Dense(32, activation='relu'),\n",
        "    layers.Dense(1)\n",
        "])"
      ]
    },
    {
      "cell_type": "code",
      "execution_count": null,
      "metadata": {
        "id": "xPFIpOD4iPKC"
      },
      "outputs": [],
      "source": [
        "model_2.summary()"
      ]
    },
    {
      "cell_type": "markdown",
      "metadata": {
        "id": "PDC0qWrZiRbN"
      },
      "source": [
        "- `Dense(500, activation='relu')`: capa muy ancha que permite capturar combinaciones complejas entre las entradas.\n",
        "- Capas subsiguientes: tamaños decrecientes (200, 128, 64, 32), siguiendo una forma de \"embudo\".\n",
        "- Cada capa aplica una función `ReLU`, que introduce no linealidad y permite aprender funciones más complejas.\n",
        "- La salida (`Dense(1)`) es un único valor continuo, ideal para regresión."
      ]
    },
    {
      "cell_type": "code",
      "execution_count": null,
      "metadata": {
        "id": "aBYsidNVVWZO"
      },
      "outputs": [],
      "source": [
        "model_2.compile(optimizer='adam', loss='mean_squared_error', metrics=['mae'])"
      ]
    },
    {
      "cell_type": "code",
      "execution_count": null,
      "metadata": {
        "id": "Bu9PldZrVWw7"
      },
      "outputs": [],
      "source": [
        "history_2 = model_2.fit(X_train, y_train, validation_data=(X_val, y_val), epochs=500, batch_size=32, verbose=False)"
      ]
    },
    {
      "cell_type": "markdown",
      "metadata": {
        "id": "uG0IZvNeigJO"
      },
      "source": [
        "\n",
        "- **`epochs=500`**: permite que la red tenga más tiempo para ajustar sus pesos y aprender patrones complejos. Sin embargo, debemos tener cuidado con el **sobreajuste (overfitting)**.\n",
        "- **`verbose=False`**: desactiva la salida en consola para no saturar el notebook con 500 líneas. Para evaluar el progreso, es importante **graficar la evolución de la pérdida y del MAE** usando el historial (`history`).\n",
        "\n",
        "> 💡 El aumento de épocas debe ir acompañado de una buena estrategia de evaluación para saber cuándo el modelo deja de mejorar."
      ]
    },
    {
      "cell_type": "code",
      "execution_count": null,
      "metadata": {
        "id": "BSYmqp75VdpI"
      },
      "outputs": [],
      "source": [
        "plot_training_history(history_2)"
      ]
    },
    {
      "cell_type": "code",
      "execution_count": null,
      "metadata": {
        "id": "_SBydfUlj4qd"
      },
      "outputs": [],
      "source": [
        "y_pred_2 = model_2.predict(X_val)\n",
        "mae_2 = mean_absolute_error(y_val, y_pred_2)\n",
        "mse_2 = mean_squared_error(y_val, y_pred_2)\n",
        "print(f\"MAE: {mae_2}\")\n",
        "print(f\"MSE: {mse_2}\")"
      ]
    },
    {
      "cell_type": "markdown",
      "metadata": {
        "id": "KvRpbeBwYxlf"
      },
      "source": [
        "## Tercer modelo (con regularización)\n",
        "\n",
        "Este modelo mantiene la misma arquitectura profunda del segundo modelo, pero **agrega una capa de regularización** para mejorar su capacidad de generalización.\n",
        "\n",
        "### 🔧 ¿Qué cambia?\n",
        "\n",
        "- Se añade `Dropout(0.5)` antes de la capa de salida. Esta capa \"apaga\" aleatoriamente el 50% de las neuronas durante el entrenamiento.\n",
        "- Esto fuerza al modelo a **no depender de caminos específicos** y lo hace más robusto frente a nuevos datos.\n",
        "\n",
        "### 🎯 ¿Por qué usar Dropout?\n",
        "\n",
        "- Ayuda a prevenir el **sobreajuste (overfitting)**, especialmente en redes con muchas capas y neuronas.\n",
        "- Mejora la capacidad del modelo de **generalizar**.\n",
        "- Es una de las formas más comunes y efectivas de **regularización en redes neuronales**.\n",
        "\n",
        "> 💡 Dropout solo está activo durante el entrenamiento. En predicción, se desactiva automáticamente."
      ]
    },
    {
      "cell_type": "code",
      "execution_count": null,
      "metadata": {
        "id": "XKhdUV0AY7Nc"
      },
      "outputs": [],
      "source": [
        "model_3 = keras.Sequential([\n",
        "    layers.Dense(500, activation='relu', input_shape=(X_train.shape[1],)),\n",
        "    layers.Dense(200, activation='relu'),\n",
        "    layers.Dense(128, activation='relu'),\n",
        "    layers.Dense(64, activation='relu'),\n",
        "    layers.Dense(32, activation='relu'),\n",
        "    layers.Dropout(0.5),\n",
        "    layers.Dense(1)\n",
        "])"
      ]
    },
    {
      "cell_type": "code",
      "execution_count": null,
      "metadata": {
        "id": "1nmNI6ONZWi1"
      },
      "outputs": [],
      "source": [
        "model_3.compile(optimizer='adam', loss='mean_squared_error', metrics=['mae'])"
      ]
    },
    {
      "cell_type": "markdown",
      "metadata": {
        "id": "e3D2FfApjJV3"
      },
      "source": [
        "\n",
        "### Early Stopping\n",
        "\n",
        "Entrenar una red neuronal por muchas épocas puede llevar al **sobreajuste**, donde el modelo aprende demasiado bien los datos de entrenamiento pero pierde capacidad de generalización.\n",
        "\n",
        "Para evitarlo, utilizamos `EarlyStopping`, una técnica que:\n",
        "\n",
        "- **Monitorea el desempeño del modelo en el conjunto de validación** (`val_loss`).\n",
        "- **Detiene automáticamente el entrenamiento** si no hay mejora tras un número definido de épocas (en este caso, 30).\n",
        "- **Restaura los pesos óptimos** alcanzados durante el entrenamiento (`restore_best_weights=True`).\n",
        "\n",
        "### 🔧 Ventajas:\n",
        "- Ahorra tiempo.\n",
        "- Evita el sobreajuste.\n",
        "- Mantiene el mejor modelo encontrado automáticamente."
      ]
    },
    {
      "cell_type": "code",
      "execution_count": null,
      "metadata": {
        "id": "u6GolD13ZW9D"
      },
      "outputs": [],
      "source": [
        "early_stopping = tf.keras.callbacks.EarlyStopping(\n",
        "    monitor='val_loss',\n",
        "    patience=30,\n",
        "    restore_best_weights=True\n",
        ")\n",
        "\n",
        "history_3 = model_3.fit(X_train, y_train, validation_data=(X_val, y_val), epochs=500, batch_size=32, callbacks=[early_stopping], verbose=True)"
      ]
    },
    {
      "cell_type": "code",
      "execution_count": null,
      "metadata": {
        "id": "JREFcQGaZy7X"
      },
      "outputs": [],
      "source": [
        "plot_training_history(history_3)"
      ]
    },
    {
      "cell_type": "code",
      "execution_count": null,
      "metadata": {
        "id": "Tib6TDQQkGzU"
      },
      "outputs": [],
      "source": [
        "y_pred_3 = model_3.predict(X_val)\n",
        "mae_3 = mean_absolute_error(y_val, y_pred_3)\n",
        "mse_3 = mean_squared_error(y_val, y_pred_3)\n",
        "print(f\"MAE: {mae_3}\")\n",
        "print(f\"MSE: {mse_3}\")"
      ]
    },
    {
      "cell_type": "markdown",
      "metadata": {
        "id": "n2ajh0yNkLMi"
      },
      "source": [
        "## Resumen Métricas"
      ]
    },
    {
      "cell_type": "code",
      "execution_count": null,
      "metadata": {
        "id": "dA9IDzFvkPQI"
      },
      "outputs": [],
      "source": [
        "#create dataframe of the mae and mse\n",
        "df_metrics = pd.DataFrame({'Modelo': ['Modelo 1', 'Modelo 2', 'Modelo 3'], 'MAE': [mae_1, mae_2, mae_3], 'MSE': [mse_1, mse_2, mse_3]})\n",
        "df_metrics\n"
      ]
    }
  ],
  "metadata": {
    "colab": {
      "provenance": []
    },
    "kernelspec": {
      "display_name": "Python 3",
      "language": "python",
      "name": "python3"
    },
    "language_info": {
      "codemirror_mode": {
        "name": "ipython",
        "version": 3
      },
      "file_extension": ".py",
      "mimetype": "text/x-python",
      "name": "python",
      "nbconvert_exporter": "python",
      "pygments_lexer": "ipython3",
      "version": "3.7.6"
    }
  },
  "nbformat": 4,
  "nbformat_minor": 0
}
